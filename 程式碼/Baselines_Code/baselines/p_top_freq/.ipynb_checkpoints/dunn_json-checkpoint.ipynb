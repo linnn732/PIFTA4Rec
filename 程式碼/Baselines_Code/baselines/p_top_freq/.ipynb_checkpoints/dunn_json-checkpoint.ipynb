{
 "cells": [
  {
   "cell_type": "code",
   "execution_count": 1,
   "metadata": {
    "colab": {
     "base_uri": "https://localhost:8080/"
    },
    "id": "llbVWDijrFgW",
    "outputId": "2f40f39b-9a04-4dce-d3b6-8f3bacacc639"
   },
   "outputs": [
    {
     "name": "stdout",
     "output_type": "stream",
     "text": [
      "31: [[-1], [50, 35], [-1]]\n",
      "68: [[-1], [150], [-1]]\n",
      "180: [[-1], [36, 151, 236, 177, 219, 181, 163, 237, 238, 239, 186, 157, 211, 240, 241], [-1]]\n",
      "324: [[-1], [305, 306, 171, 58, 249], [-1]]\n",
      "358: [[-1], [307, 144, 41, 353, 354, 11, 355, 158, 351, 172], [-1]]\n"
     ]
    }
   ],
   "source": [
    "import pandas as pd\n",
    "import json\n",
    "\n",
    "\n",
    "# 载入CSV文件\n",
    "file_path = 'dataset/dunnhumby_future.csv'\n",
    "data = pd.read_csv(file_path)\n",
    "\n",
    "# 指定保存文件的路径\n",
    "output_file_path = 'jsondata/dunnhumby_future.json'\n",
    "\n",
    "# 预处理数据，生成所需的数据结构\n",
    "result_dict = {}\n",
    "\n",
    "for customer_id, group in data.groupby('CUSTOMER_ID'):\n",
    "    material_numbers = group['MATERIAL_NUMBER'].tolist()\n",
    "    result_dict[customer_id] = [[-1], material_numbers, [-1]]\n",
    "\n",
    "sample_keys = list(result_dict.keys())[:5]  # 获取前5个键进行展示\n",
    "for key in sample_keys:\n",
    "    print(f\"{key}: {result_dict[key]}\")\n",
    "\n",
    "\n",
    "# 将结果字典保存为JSON文件\n",
    "with open(output_file_path, 'w', encoding='utf-8') as f:\n",
    "    json.dump(result_dict, f, ensure_ascii=False, indent=4)"
   ]
  }
 ],
 "metadata": {
  "colab": {
   "provenance": []
  },
  "kernelspec": {
   "display_name": "Python 3 (ipykernel)",
   "language": "python",
   "name": "python3"
  },
  "language_info": {
   "codemirror_mode": {
    "name": "ipython",
    "version": 3
   },
   "file_extension": ".py",
   "mimetype": "text/x-python",
   "name": "python",
   "nbconvert_exporter": "python",
   "pygments_lexer": "ipython3",
   "version": "3.11.5"
  }
 },
 "nbformat": 4,
 "nbformat_minor": 4
}
