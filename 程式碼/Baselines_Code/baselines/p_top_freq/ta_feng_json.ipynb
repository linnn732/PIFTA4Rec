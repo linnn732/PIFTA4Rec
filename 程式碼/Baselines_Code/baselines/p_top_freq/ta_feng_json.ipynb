{
  "nbformat": 4,
  "nbformat_minor": 0,
  "metadata": {
    "colab": {
      "provenance": []
    },
    "kernelspec": {
      "name": "python3",
      "display_name": "Python 3"
    },
    "language_info": {
      "name": "python"
    }
  },
  "cells": [
    {
      "cell_type": "code",
      "execution_count": null,
      "metadata": {
        "colab": {
          "base_uri": "https://localhost:8080/"
        },
        "id": "llbVWDijrFgW",
        "outputId": "18e9e492-5984-4e62-8f5d-a43c678ab1e3"
      },
      "outputs": [
        {
          "output_type": "stream",
          "name": "stdout",
          "text": [
            "1069: [[-1], [9], [-1]]\n",
            "1113: [[-1], [20, 21, 22, 23, 24, 25], [-1]]\n",
            "1823: [[-1], [36, 37, 38], [-1]]\n",
            "3667: [[-1], [5, 43], [-1]]\n",
            "5241: [[-1], [74, 75, 76, 77, 78], [-1]]\n"
          ]
        }
      ],
      "source": [
        "import pandas as pd\n",
        "import json\n",
        "\n",
        "\n",
        "# 载入CSV文件\n",
        "file_path = 'dataset/ta_feng_future.csv'\n",
        "data = pd.read_csv(file_path)\n",
        "\n",
        "# 指定保存文件的路径\n",
        "output_file_path = 'jsondata/ta_feng_future.json'\n",
        "\n",
        "# 预处理数据，生成所需的数据结构\n",
        "result_dict = {}\n",
        "\n",
        "for customer_id, group in data.groupby('CUSTOMER_ID'):\n",
        "    material_numbers = group['MATERIAL_NUMBER'].tolist()\n",
        "    result_dict[customer_id] = [[-1], material_numbers, [-1]]\n",
        "\n",
        "sample_keys = list(result_dict.keys())[:5]  # 获取前5个键进行展示\n",
        "for key in sample_keys:\n",
        "    print(f\"{key}: {result_dict[key]}\")\n",
        "\n",
        "\n",
        "# 将结果字典保存为JSON文件\n",
        "with open(output_file_path, 'w', encoding='utf-8') as f:\n",
        "    json.dump(result_dict, f, ensure_ascii=False, indent=4)"
      ]
    }
  ]
}