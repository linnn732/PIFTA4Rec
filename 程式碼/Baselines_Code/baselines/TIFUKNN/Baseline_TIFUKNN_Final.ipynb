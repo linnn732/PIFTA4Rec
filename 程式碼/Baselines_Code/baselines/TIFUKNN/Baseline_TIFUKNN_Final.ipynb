{
 "cells": [
  {
   "cell_type": "markdown",
   "metadata": {
    "id": "n2KbdRXoyEbM"
   },
   "source": [
    "# **載入套件**"
   ]
  },
  {
   "cell_type": "code",
   "execution_count": 1,
   "metadata": {
    "id": "w0UCsEAFpstp"
   },
   "outputs": [],
   "source": [
    "from __future__ import unicode_literals, print_function, division\n",
    "import numpy as np\n",
    "import sys\n",
    "import math\n",
    "import csv\n",
    "\n",
    "\n",
    "activate_codes_num = -1\n",
    "next_k_step = 1\n",
    "training_chunk = 0\n",
    "test_chunk = 1"
   ]
  },
  {
   "cell_type": "markdown",
   "metadata": {
    "id": "z05PNhc1yOjU"
   },
   "source": [
    "# **生成字典與計算最終向量維度**"
   ]
  },
  {
   "cell_type": "code",
   "execution_count": 2,
   "metadata": {
    "id": "7vjhHs4gqmty"
   },
   "outputs": [],
   "source": [
    "def generate_dictionary_BA(files, attributes_list):\n",
    "    # path = '../Minnemudac/'\n",
    "    #files = ['Coborn_history_order.csv','Coborn_future_order.csv']\n",
    "    #files = ['BA_history_order.csv', 'BA_future_order.csv']\n",
    "    #attributes_list = ['MATERIAL_NUMBER']\n",
    "\n",
    "    #定義兩個字典，用於儲存屬性值和它們相對應的索引\n",
    "    dictionary_table = {}\n",
    "    counter_table = {}\n",
    "\n",
    "    for attr in attributes_list:\n",
    "        dictionary = {}\n",
    "        dictionary_table[attr] = dictionary\n",
    "        counter_table[attr] = 0\n",
    "\n",
    "    csv.field_size_limit(300) # 設置 CSV 讀取的最大長度\n",
    "\n",
    "    for filename in files:\n",
    "        count = 0 #用於追蹤當前文件中處理的行數\n",
    "        with open(filename, 'r') as csvfile:\n",
    "            reader = csv.reader(csvfile, delimiter=',', quotechar='|') # 指定逗號（,）為字段分隔符，並將豎線（|）作為引號字符\n",
    "            for row in reader:\n",
    "                if count == 0: # 跳過第一行（標題行）:\n",
    "                    count += 1\n",
    "                    continue\n",
    "                key = attributes_list[0] # 取出第一個屬性，即 MATERIAL_NUMBER\n",
    "                if row[3] not in dictionary_table[key]: # 如果 row[2] 的值還沒有在字典中，則將其添加到字典中，並賦予一個索引\n",
    "                    dictionary_table[key][row[3]] = counter_table[key]\n",
    "                    counter_table[key] = counter_table[key] + 1 # 更新 counter_table 中對應屬性的計數\n",
    "                    count += 1\n",
    "\n",
    "    print(\"Conter Table : \", counter_table)\n",
    "    print(\"Dictionary Table : \" , dictionary_table)\n",
    "\n",
    "    total = 0\n",
    "    for key in counter_table.keys():\n",
    "        total = total + counter_table[key]\n",
    "\n",
    "    print('# dimensions of final vector: ' + str(total) + ' | '+str(count-1))\n",
    "\n",
    "    return dictionary_table, total, counter_table\n"
   ]
  },
  {
   "cell_type": "markdown",
   "metadata": {
    "id": "rJbI4awNyeQr"
   },
   "source": [
    "# 從 CSV **文件中讀取數據並處理，將其轉換為特定格式的數據結構**"
   ]
  },
  {
   "cell_type": "code",
   "execution_count": 3,
   "metadata": {
    "id": "vZm66eV2qgTU"
   },
   "outputs": [],
   "source": [
    "# 從 CSV 文件中讀取數據並處理，將其轉換為特定格式的數據結構\n",
    "def read_claim2vector_embedding_file_no_vector(files): #\n",
    "    #attributes_list = ['DRG', 'PROVCAT ', 'RVNU_CD', 'DIAG', 'PROC']\n",
    "    attributes_list = ['MATERIAL_NUMBER'] # 一個包含要處理的屬性名稱的列表(存了商品編號）\n",
    "    # path = '../Minnemudac/'\n",
    "    print('start dictionary generation...')\n",
    "    dictionary_table, num_dim, counter_table = generate_dictionary_BA(files, attributes_list) # 生成字典並返回三個值 #files是./data/TaFang_history_NB.csv 跟 ./data/TaFang_future_NB.csv\n",
    "    print('finish dictionary generation*****')\n",
    "    usr_attr = 'CUSTOMER_ID'\n",
    "    ord_attr = 'ORDER_NUMBER'\n",
    "    freq_max = 200\n",
    "    ## all the follow three ways array. First index is patient, second index is the time step, third is the feature vector\n",
    "    data_chunk = [] # 用於儲存處理後數據的列表\n",
    "    day_gap_counter = []\n",
    "    claims_counter = 0\n",
    "    num_claim = 0\n",
    "    code_freq_at_first_claim = np.zeros(num_dim+2) #生成一個長度為 num_dim + 2 的零向量(?)\n",
    "\n",
    "    #print(\"data_chunk:\",data_chunk)\n",
    "\n",
    "    # 迭代處理 files 列表中的每個文件\n",
    "    for file_id in range(len(files)):\n",
    "\n",
    "        count = 0\n",
    "        data_chunk.append({})\n",
    "\n",
    "        #print(\"data_chunk2:\",data_chunk)\n",
    "\n",
    "        filename = files[file_id] # 打開文件\n",
    "        with open(filename, 'r') as csvfile:\n",
    "            #gap_within_one_year = np.zeros(365)\n",
    "            reader = csv.DictReader(csvfile) # 讀取 CSV 文件\n",
    "\n",
    "            # 用於在下面的循環中跟踪上一行的數據\n",
    "            last_pid_date = '*'\n",
    "            last_pid = '-1'\n",
    "            last_days = -1\n",
    "            # 2 more elements in the end for start and end states\n",
    "            feature_vector = []\n",
    "\n",
    "            # 對 CSV 文件中的每一行進行迭代\n",
    "            for row in reader:\n",
    "\n",
    "\n",
    "                cur_pid_date = row[usr_attr] + '_' + row[ord_attr] # 從當前行生成一個唯一的標識符 (1_14)\n",
    "                #print(cur_pid_date)\n",
    "                cur_pid = row[usr_attr] # 並獲取用戶 ID (1)\n",
    "                #cur_days = int(row[ord_attr])\n",
    "\n",
    "                # 如果當前用戶 ID 不等於上一個用戶 ID，則在 data_chunk 中為這個新用戶創建一個新條目\n",
    "                if cur_pid != last_pid:\n",
    "                    # start state\n",
    "                    tmp = [-1]\n",
    "                    data_chunk[file_id][cur_pid] = []\n",
    "                    data_chunk[file_id][cur_pid].append(tmp)\n",
    "\n",
    "                    #print(data_chunk[file_id][cur_pid])\n",
    "\n",
    "                # 如果當前的 cur_pid_date 不等於 last_pid_date，則對 feature_vector 進行排序並將其添加到 data_chunk 中的相應位置，然後重置 feature_vector\n",
    "                if cur_pid_date not in last_pid_date:\n",
    "                    if last_pid_date not in '*' and last_pid not in '-1':\n",
    "                        sorted_feature_vector = np.sort(feature_vector)\n",
    "\n",
    "                        #print(\"sorted_feature_vector: \",sorted_feature_vector)\n",
    "\n",
    "                        data_chunk[file_id][last_pid].append(sorted_feature_vector)\n",
    "                        if len(sorted_feature_vector) > 0:\n",
    "                            count = count + 1\n",
    "                        #data_chunk[file_id][last_pid].append(feature_vector)\n",
    "                    feature_vector = []\n",
    "\n",
    "                    claims_counter = 0\n",
    "                # 如果當前用戶 ID 不等於上一個用戶 ID，則在 data_chunk 中的上一個用戶 ID 下添加一個結束標記\n",
    "                if cur_pid != last_pid:\n",
    "                    # end state\n",
    "                    if last_pid not in '-1':\n",
    "\n",
    "                        tmp = [-1]\n",
    "                        data_chunk[file_id][last_pid].append(tmp)\n",
    "                        #print(data_chunk[file_id][last_pid])\n",
    "\n",
    "                # --- 計算當前行的特徵索引 idx ---\n",
    "                key = attributes_list[0]\n",
    "\n",
    "                within_idx = dictionary_table[key][row[key]]\n",
    "                previous_idx = 0\n",
    "\n",
    "                for j in range(attributes_list.index(key)):\n",
    "                    previous_idx = previous_idx + counter_table[attributes_list[j]]\n",
    "                idx = within_idx + previous_idx\n",
    "                #print(\"idx :\", idx)\n",
    "                # --- 計算當前行的特徵索引 idx ---\n",
    "\n",
    "                # 如果 idx 不在 feature_vector 中，則將其添加到 feature_vector 中\n",
    "                # 針對每個 CUSTOMER_ID 與 ORDER_NUMBER 組合去儲存特徵向量\n",
    "                # set corresponding dimention to 1\n",
    "                if idx not in feature_vector:\n",
    "                    feature_vector.append(idx)\n",
    "\n",
    "                # 更新 last_pid_date 和 last_pid 值\n",
    "                last_pid_date = cur_pid_date\n",
    "                last_pid = cur_pid\n",
    "                #last_days = cur_days\n",
    "                if file_id == 1:\n",
    "                    claims_counter = claims_counter + 1\n",
    "\n",
    "            # 在循環結束後，將最後一個 feature_vector 添加到 data_chunk 中\n",
    "            if last_pid_date not in '*' and last_pid not in '-1':\n",
    "                data_chunk[file_id][last_pid].append(np.sort(feature_vector))\n",
    "                #print(data_chunk[file_id][last_pid])\n",
    "\n",
    "    print(\"num_dim+2 :\", num_dim + 2 ,\"code_freq_at_first_claim :\",code_freq_at_first_claim)\n",
    "\n",
    "    #把 data_chunk 儲存查看內容\n",
    "    # import pickle\n",
    "    # with open('data_chunk.pkl', 'wb') as file:\n",
    "    #     pickle.dump(data_chunk, file)\n",
    "    # file = \"data_chunk.pkl\"\n",
    "    # f = open(file,'rb')\n",
    "    # data = pickle.load(f)\n",
    "\n",
    "    # print(data[0][\"2\"])\n",
    "    # print(data[1][\"2\"])\n",
    "    # #print(len(data))\n",
    "\n",
    "    return data_chunk, num_dim + 2, code_freq_at_first_claim # 返回處理後的數據"
   ]
  },
  {
   "cell_type": "markdown",
   "metadata": {
    "id": "9FjWQg0papS-"
   },
   "source": [
    "# **分割資料集**"
   ]
  },
  {
   "cell_type": "code",
   "execution_count": 4,
   "metadata": {
    "id": "PGH6BvjBZ3q6"
   },
   "outputs": [],
   "source": [
    "def partition_the_data_validate(data_chunk, key_set, next_k_step):\n",
    "\n",
    "    filtered_key_set = [] # 用於儲存經過篩選後的 key\n",
    "    past_chunk = 0\n",
    "    future_chunk = 1\n",
    "\n",
    "    for key in key_set:\n",
    "        if len(data_chunk[past_chunk][key]) <= 7: # 這裡的值要隨資料集不同去修改，Tafeng 3 Dunn 7\n",
    "            continue\n",
    "        if len(data_chunk[future_chunk][key]) < 2 + next_k_step:\n",
    "            continue\n",
    "        filtered_key_set.append(key)\n",
    "\n",
    "    training_key_set = filtered_key_set[0:int(4 / 5 * len(filtered_key_set)*0.9)]\n",
    "    validation_key_set = filtered_key_set[int(4 / 5 * len(filtered_key_set)*0.9):int(4 / 5 * len(filtered_key_set))]\n",
    "    test_key_set = filtered_key_set[int(4 / 5 * len(filtered_key_set)):]\n",
    "\n",
    "    print('Number of training instances: ' + str(len(training_key_set)))\n",
    "    print('Number of validation instances: ' + str(len(validation_key_set)))\n",
    "    print('Number of test instances: ' + str(len(test_key_set)))\n",
    "\n",
    "    print('Training Key Set: ',training_key_set)\n",
    "\n",
    "    return training_key_set, validation_key_set, test_key_set"
   ]
  },
  {
   "cell_type": "markdown",
   "metadata": {
    "id": "mjLqYlpEeX94"
   },
   "source": [
    "# 分群計算，獲得所有群組的平均向量\n",
    "\n",
    "**將一系列的歷史數據向量按給定的群組大小分組，並計算每個群組中的向量的平均值**\n",
    "\n",
    "假設 his_list 長度為 10，group_size 為 3，\\\n",
    "est_num_vec_each_block = 10 / 3 ≈ 3.33（每個群組中平均應有大約 3.33 個向量）\\\n",
    "base_num_vec_each_block = 3.33 向下取整 = 3（每個群組至少應有 3 個向量）\\\n",
    "residual = 3.33 - 3 = 0.33 （差異）\\\n",
    "num_vec_has_extra_vec = 1（有 1 個群組將比其他群組多一個向量）"
   ]
  },
  {
   "cell_type": "code",
   "execution_count": 5,
   "metadata": {
    "id": "QFdfwk0beT9u"
   },
   "outputs": [],
   "source": [
    "def group_history_list(his_list,group_size):\n",
    "    grouped_vec_list = []\n",
    "    if len(his_list) < group_size:\n",
    "        #sum = np.zeros(len(his_list[0]))\n",
    "        for j in range(len(his_list)):\n",
    "            grouped_vec_list.append(his_list[j])\n",
    "\n",
    "        return grouped_vec_list, len(his_list)\n",
    "    else:\n",
    "        est_num_vec_each_block = len(his_list)/group_size\n",
    "        base_num_vec_each_block = int(np.floor(len(his_list)/group_size))\n",
    "        residual = est_num_vec_each_block - base_num_vec_each_block\n",
    "\n",
    "        num_vec_has_extra_vec = int(np.round(residual * group_size))\n",
    "\n",
    "        if residual == 0:\n",
    "            for i in range(group_size):\n",
    "                if len(his_list)<1:\n",
    "                    print('len(his_list)<1')\n",
    "                sum = np.zeros(len(his_list[0]))\n",
    "                for j in range(base_num_vec_each_block):\n",
    "                    if i*base_num_vec_each_block+j >= len(his_list):\n",
    "                        print('i*num_vec_each_block+j')\n",
    "                    sum += his_list[i*base_num_vec_each_block+j]\n",
    "                grouped_vec_list.append(sum/base_num_vec_each_block)\n",
    "        else:\n",
    "\n",
    "            for i in range(group_size - num_vec_has_extra_vec):\n",
    "                sum = np.zeros(len(his_list[0]))\n",
    "                for j in range(base_num_vec_each_block):\n",
    "                    if i*base_num_vec_each_block+j >= len(his_list):\n",
    "                        print('i*base_num_vec_each_block+j')\n",
    "                    sum += his_list[i*base_num_vec_each_block+j]\n",
    "                    last_idx = i * base_num_vec_each_block + j\n",
    "                grouped_vec_list.append(sum/base_num_vec_each_block)\n",
    "\n",
    "            est_num = int(np.ceil(est_num_vec_each_block))\n",
    "            start_group_idx = group_size - num_vec_has_extra_vec\n",
    "\n",
    "            if len(his_list) - start_group_idx*base_num_vec_each_block >= est_num_vec_each_block:\n",
    "                for i in range(start_group_idx,group_size):\n",
    "                    sum = np.zeros(len(his_list[0]))\n",
    "                    for j in range(est_num):\n",
    "                        # if residual+(i-1)*est_num_vec_each_block+j >= len(his_list):\n",
    "                        #     print('residual+(i-1)*num_vec_each_block+j')\n",
    "                        #     print('len(his_list)')\n",
    "                        iidxx = last_idx + 1+(i-start_group_idx)*est_num+j\n",
    "                        if  iidxx >= len(his_list) or iidxx<0:\n",
    "                            print('last_idx + 1+(i-start_group_idx)*est_num+j')\n",
    "                        sum += his_list[iidxx]\n",
    "                    grouped_vec_list.append(sum/est_num)\n",
    "        return grouped_vec_list, group_size"
   ]
  },
  {
   "cell_type": "markdown",
   "metadata": {
    "id": "beTNBmbjA7lY"
   },
   "source": [
    "# 獲得用戶歷史向量\n",
    "\n",
    "**時間衰減計算**\n",
    "\n",
    "**對於每次交易中所購買的項目位置，會根據時間衰減權重賦予相應的值，而其他位置則保持為0。**\n",
    "\n",
    "例如：對於一個具有15筆訓練資料的用戶，他針對每一筆去計算出時間衰減權重，之後對於每一筆資料中所購買的項目位置，假設購買項目1、3、5，則在這三個位置上賦予時間衰減權重值，而其餘部分則保持為0，使得為每次交易創造一個長度為 output_size 的有零也有值的新向量。\n",
    "\n",
    "...\n",
    "\n"
   ]
  },
  {
   "cell_type": "code",
   "execution_count": 6,
   "metadata": {
    "id": "IB0bsR8qCBvh"
   },
   "outputs": [],
   "source": [
    "# data_chunk[training_chunk],training_key_set, input_size,group_size, within_decay_rate,group_decay_rate\n",
    "# input_size 就是 num_dim + 2 （10997+2）\n",
    "\n",
    "def temporal_decay_sum_history(data_set, key_set, output_size,group_size,within_decay_rate,group_decay_rate):\n",
    "    sum_history = {}\n",
    "\n",
    "    for key in key_set:\n",
    "\n",
    "        vec_list = data_set[key]\n",
    "        num_vec = len(vec_list) - 2\n",
    "\n",
    "        # User 2 Output :\n",
    "        # vec_list: [[-1], array([50, 51, 52, 53, 54, 55, 56, 57, 58, 59, 60, 61, 62, 63, 64, 65, 66]) ... array([ 52, 106, 142, 143, 144, 145, 146, 147]), [-1]]\n",
    "        # num_vec: 15（購物籃數量）（-2 是減去前後的 [-1] ）\n",
    "\n",
    "        his_list = []\n",
    "\n",
    "        for idx in range(1,num_vec+1):\n",
    "            his_vec = np.zeros(output_size)\n",
    "            decayed_val = np.power(within_decay_rate,num_vec-idx)\n",
    "            for ele in vec_list[idx]:\n",
    "                his_vec[ele] = decayed_val\n",
    "            his_list.append(his_vec) # 包含了用戶所有交易的時間衰減向量\n",
    "\n",
    "        grouped_list,real_group_size = group_history_list(his_list,group_size)\n",
    "        his_vec = np.zeros(output_size)\n",
    "        for idx in range(real_group_size):\n",
    "            decayed_val = np.power(group_decay_rate, group_size - 1 - idx)\n",
    "            if idx>=len(grouped_list):\n",
    "                print( 'idx: '+ str(idx))\n",
    "                print('len(grouped_list): ' + str(len(grouped_list)))\n",
    "            his_vec += grouped_list[idx]*decayed_val\n",
    "        sum_history[key] = his_vec/real_group_size\n",
    "    return sum_history"
   ]
  },
  {
   "cell_type": "markdown",
   "metadata": {
    "id": "Vkx98pbXQ8fD"
   },
   "source": [
    "# 合併自己向量與鄰居向量\n",
    "\n",
    "針對測試集中的用戶，考慮自己向量與鄰居向量之比例"
   ]
  },
  {
   "cell_type": "code",
   "execution_count": 7,
   "metadata": {
    "id": "Y1Lq6_NrRVyR"
   },
   "outputs": [],
   "source": [
    "# 傳入訓練集與測試集的用戶向量、訓練集與測試集、KNN 結果的索引、合併參數 alpha\n",
    "\n",
    "def merge_history(sum_history_test,test_key_set,training_sum_history_test,training_key_set,index,alpha):\n",
    "\n",
    "    merged_history = {}\n",
    "\n",
    "    for test_key_id in range(len(test_key_set)):\n",
    "        test_key = test_key_set[test_key_id]\n",
    "        test_history = sum_history_test[test_key]\n",
    "\n",
    "        sum_training_history = np.zeros(len(test_history))\n",
    "\n",
    "        for indecis in index[test_key_id]:\n",
    "            training_key = training_key_set[indecis]\n",
    "            sum_training_history += training_sum_history_test[training_key]\n",
    "\n",
    "        sum_training_history = sum_training_history/len(index[test_key_id])\n",
    "        merge = test_history*alpha + sum_training_history*(1-alpha)\n",
    "        merged_history[test_key] = merge\n",
    "\n",
    "    return merged_history"
   ]
  },
  {
   "cell_type": "markdown",
   "metadata": {
    "id": "C9qLmeZf02WC"
   },
   "source": [
    "# KNN 尋找相似鄰居\n",
    "\n",
    "對測試集數據行最近鄰居搜索，返回每個測試點的最近鄰居索引（indices）和相應的距離（distances）"
   ]
  },
  {
   "cell_type": "code",
   "execution_count": 8,
   "metadata": {
    "id": "5bpNdSm107E4"
   },
   "outputs": [],
   "source": [
    "from sklearn.neighbors import NearestNeighbors\n",
    "\n",
    "def KNN(query_set, target_set, k):\n",
    "\n",
    "    history_mat = []\n",
    "    for key in target_set.keys():\n",
    "        history_mat.append(target_set[key])\n",
    "    test_mat = []\n",
    "    for key in query_set.keys():\n",
    "        test_mat.append(query_set[key])\n",
    "\n",
    "    #print('Finding k nearest neighbors...')\n",
    "    nbrs = NearestNeighbors(n_neighbors=k, algorithm='brute').fit(history_mat)\n",
    "    distances, indices = nbrs.kneighbors(test_mat)\n",
    "    #print('Finish KNN search.' )\n",
    "\n",
    "    #print('Index:',indices)\n",
    "    #print('Distances:',distances)\n",
    "    return indices,distances"
   ]
  },
  {
   "cell_type": "markdown",
   "metadata": {
    "id": "Sts1vSU2cJWq"
   },
   "source": [
    "# Precision、recall、Fscore\n"
   ]
  },
  {
   "cell_type": "code",
   "execution_count": 9,
   "metadata": {
    "id": "dDy7OVj-cXqb"
   },
   "outputs": [],
   "source": [
    "def get_precision_recall_Fscore(groundtruth,pred):\n",
    "    a = groundtruth\n",
    "    b = pred\n",
    "    correct = 0\n",
    "    truth = 0\n",
    "    positive = 0\n",
    "\n",
    "    for idx in range(len(a)):\n",
    "        if a[idx] == 1:\n",
    "            truth += 1\n",
    "            if b[idx] == 1:\n",
    "                correct += 1\n",
    "        if b[idx] == 1:\n",
    "            positive += 1\n",
    "\n",
    "    flag = 0\n",
    "    if 0 == positive:\n",
    "        precision = 0\n",
    "        flag = 1\n",
    "        #print('postivie is 0')\n",
    "    else:\n",
    "        precision = correct/positive\n",
    "    if 0 == truth:\n",
    "        recall = 0\n",
    "        flag = 1\n",
    "        #print('recall is 0')\n",
    "    else:\n",
    "        recall = correct/truth\n",
    "\n",
    "    if flag == 0 and precision + recall > 0:\n",
    "        F = 2*precision*recall/(precision+recall)\n",
    "    else:\n",
    "        F = 0\n",
    "    return precision, recall, F, correct"
   ]
  },
  {
   "cell_type": "markdown",
   "metadata": {
    "id": "Z69F5fpj5v7q"
   },
   "source": [
    "# evaluate"
   ]
  },
  {
   "cell_type": "markdown",
   "metadata": {
    "id": "cQk3RNoCpGKG"
   },
   "source": []
  },
  {
   "cell_type": "code",
   "execution_count": 10,
   "metadata": {
    "id": "5no_oaUIpHp0"
   },
   "outputs": [],
   "source": [
    "def predict_with_elements_in_input(sum_history,key):\n",
    "    # 傳入：合併後的測試集用戶向量字典和指定用戶的 Key 值\n",
    "    output_vectors = [] # 空列表，用於儲存生成的預測向量\n",
    "\n",
    "    # next_k_step 預設為 1\n",
    "    for idx in range(next_k_step): # 指定要生成多少個預測向量\n",
    "        vec = sum_history[key] # 獲得與 key 相關聯的合併歷史向量\n",
    "        output_vectors.append(vec)\n",
    "        # print(output_vectors)\n",
    "    return output_vectors"
   ]
  },
  {
   "cell_type": "code",
   "execution_count": 11,
   "metadata": {
    "id": "tvNNqYBXiL_c"
   },
   "outputs": [],
   "source": [
    "def get_HT(groundtruth, pred_rank_list,k):\n",
    "    count = 0\n",
    "    for pred in pred_rank_list:\n",
    "        if count >= k:\n",
    "            break\n",
    "        if groundtruth[pred] == 1:\n",
    "            return 1\n",
    "        count += 1\n",
    "\n",
    "    return 0"
   ]
  },
  {
   "cell_type": "code",
   "execution_count": 12,
   "metadata": {
    "id": "NQIWJkguiM8P"
   },
   "outputs": [],
   "source": [
    "def get_NDCG1(groundtruth, pred_rank_list,k):\n",
    "    count = 0\n",
    "    dcg = 0\n",
    "    for pred in pred_rank_list:\n",
    "        if count >= k:\n",
    "            break\n",
    "        if groundtruth[pred] == 1:\n",
    "            dcg += (1)/math.log2(count+1+1)\n",
    "        count += 1\n",
    "    idcg = 0\n",
    "    num_real_item = np.sum(groundtruth)\n",
    "    num_item = int(num_real_item)\n",
    "    for i in range(num_item):\n",
    "        idcg += (1) / math.log2(i + 1 + 1)\n",
    "    ndcg = dcg / idcg\n",
    "    return ndcg"
   ]
  },
  {
   "cell_type": "code",
   "execution_count": 13,
   "metadata": {
    "id": "ROKy64mYBB-w"
   },
   "outputs": [],
   "source": [
    "def evaluate(data_chunk,  training_key_set, test_key_set, input_size, group_size,\n",
    "             within_decay_rate, group_decay_rate, num_nearest_neighbors, alpha,  topk):\n",
    "    activate_codes_num = -1\n",
    "    temporal_decay_sum_history_training = temporal_decay_sum_history(data_chunk[training_chunk],\n",
    "                                                                     training_key_set, input_size,\n",
    "                                                                     group_size, within_decay_rate,\n",
    "                                                                     group_decay_rate)\n",
    "    temporal_decay_sum_history_test = temporal_decay_sum_history(data_chunk[training_chunk],\n",
    "                                                                 test_key_set, input_size,\n",
    "                                                                 group_size, within_decay_rate,\n",
    "                                                                 group_decay_rate)\n",
    "\n",
    "\n",
    "    index, distance = KNN(temporal_decay_sum_history_test, temporal_decay_sum_history_training,\n",
    "                          num_nearest_neighbors)\n",
    "\n",
    "    # 傳入測試集和訓練集歷史用戶向量、相應的鍵集、KNN 結果的索引，以及一個合併參數 alpha\n",
    "    sum_history = merge_history(temporal_decay_sum_history_test, test_key_set, temporal_decay_sum_history_training,\n",
    "                                training_key_set, index, alpha)\n",
    "\n",
    "\n",
    "    if activate_codes_num < 0:\n",
    "        prec = []\n",
    "        rec = []\n",
    "        F = []\n",
    "        prec1 = []\n",
    "        rec1 = []\n",
    "        F1 = []\n",
    "        prec2 = []\n",
    "        rec2 = []\n",
    "        F2 = []\n",
    "        prec3 = []\n",
    "        rec3 = []\n",
    "        F3 = []\n",
    "        NDCG = []\n",
    "        n_hit = 0\n",
    "\n",
    "        num_ele = topk\n",
    "        count = 0\n",
    "        for iter in range(len(test_key_set)):\n",
    "            input_variable = data_chunk[training_chunk][test_key_set[iter]]\n",
    "            target_variable = data_chunk[test_chunk][test_key_set[iter]]\n",
    "\n",
    "            if len(target_variable) < 2 + next_k_step:\n",
    "                continue\n",
    "\n",
    "            count += 1\n",
    "            output_vectors = predict_with_elements_in_input(sum_history, test_key_set[iter])\n",
    "            top = 400\n",
    "            hit = 0\n",
    "\n",
    "            for idx in range(len(output_vectors)):\n",
    "                output = np.zeros(input_size)\n",
    "                target_topi = output_vectors[idx].argsort()[::-1][:top]\n",
    "\n",
    "                # print('top i :',target_topi)\n",
    "\n",
    "                c = 0\n",
    "\n",
    "                for i in range(top):\n",
    "                    if c >= num_ele:\n",
    "                        break\n",
    "                    output[target_topi[i]] = 1\n",
    "                    c += 1\n",
    "\n",
    "                vectorized_target = np.zeros(input_size) # 創建目標向量\n",
    "\n",
    "                for ii in target_variable[1 + idx]:\n",
    "                    vectorized_target[ii] = 1\n",
    "\n",
    "                precision, recall, Fscore, correct = get_precision_recall_Fscore \\\n",
    "                    (vectorized_target, output)\n",
    "                prec.append(precision)\n",
    "                rec.append(recall)\n",
    "                F.append(Fscore)\n",
    "\n",
    "                if idx == 0:\n",
    "                    prec1.append(precision)\n",
    "                    rec1.append(recall)\n",
    "                    F1.append(Fscore)\n",
    "                elif idx == 1:\n",
    "                    prec2.append(precision)\n",
    "                    rec2.append(recall)\n",
    "                    F2.append(Fscore)\n",
    "                elif idx == 2:\n",
    "                    prec3.append(precision)\n",
    "                    rec3.append(recall)\n",
    "                    F3.append(Fscore)\n",
    "\n",
    "                hit += get_HT(vectorized_target, target_topi, num_ele)\n",
    "                ndcg = get_NDCG1(vectorized_target, target_topi, num_ele)\n",
    "                NDCG.append(ndcg)\n",
    "            if hit == next_k_step:\n",
    "                n_hit += 1\n",
    "\n",
    "\n",
    "        # print('average precision of ' + ': ' + str(np.mean(prec)) + ' with std: ' + str(np.std(prec)))\n",
    "        avg_precision = np.mean(prec)\n",
    "        avg_recall = np.mean(rec)\n",
    "        avg_F1 = np.mean(F)\n",
    "        avg_ndcg = np.mean(NDCG)\n",
    "\n",
    "        # 輸出結果\n",
    "        print('Average Precision: ', avg_precision)\n",
    "        print('Average Recall: ', avg_recall)\n",
    "        print('Average F1 Score: ', avg_F1)\n",
    "        print('Average NDCG: ', avg_ndcg)"
   ]
  },
  {
   "cell_type": "code",
   "execution_count": 14,
   "metadata": {
    "colab": {
     "base_uri": "https://localhost:8080/"
    },
    "id": "dzBIvnv_pt_P",
    "outputId": "71e8b3c2-d933-4e32-8d09-75455a5d44da"
   },
   "outputs": [
    {
     "name": "stdout",
     "output_type": "stream",
     "text": [
      "start dictionary generation...\n",
      "Conter Table :  {'MATERIAL_NUMBER': 3003}\n",
      "Dictionary Table :  {'MATERIAL_NUMBER': {'0': 0, '1': 1, '2': 2, '3': 3, '4': 4, '5': 5, '6': 6, '7': 7, '8': 8, '9': 9, '10': 10, '11': 11, '12': 12, '13': 13, '14': 14, '15': 15, '16': 16, '17': 17, '18': 18, '19': 19, '20': 20, '21': 21, '22': 22, '23': 23, '24': 24, '25': 25, '26': 26, '27': 27, '28': 28, '29': 29, '30': 30, '31': 31, '32': 32, '33': 33, '34': 34, '35': 35, '36': 36, '37': 37, '38': 38, '39': 39, '40': 40, '41': 41, '42': 42, '43': 43, '44': 44, '45': 45, '46': 46, '47': 47, '48': 48, '49': 49, '51': 50, '52': 51, '53': 52, '54': 53, '55': 54, '56': 55, '57': 56, '58': 57, '59': 58, '60': 59, '61': 60, '62': 61, '63': 62, '64': 63, '65': 64, '66': 65, '67': 66, '68': 67, '69': 68, '70': 69, '71': 70, '72': 71, '73': 72, '74': 73, '75': 74, '76': 75, '77': 76, '78': 77, '79': 78, '80': 79, '81': 80, '82': 81, '83': 82, '84': 83, '85': 84, '86': 85, '87': 86, '88': 87, '89': 88, '90': 89, '91': 90, '92': 91, '93': 92, '94': 93, '95': 94, '96': 95, '97': 96, '98': 97, '99': 98, '100': 99, '101': 100, '102': 101, '103': 102, '104': 103, '105': 104, '106': 105, '107': 106, '108': 107, '109': 108, '110': 109, '111': 110, '112': 111, '113': 112, '114': 113, '115': 114, '116': 115, '117': 116, '118': 117, '119': 118, '120': 119, '121': 120, '122': 121, '123': 122, '124': 123, '125': 124, '126': 125, '127': 126, '128': 127, '129': 128, '130': 129, '131': 130, '132': 131, '133': 132, '134': 133, '135': 134, '136': 135, '137': 136, '138': 137, '139': 138, '140': 139, '141': 140, '142': 141, '143': 142, '144': 143, '145': 144, '146': 145, '147': 146, '148': 147, '149': 148, '151': 149, '152': 150, '153': 151, '154': 152, '155': 153, '156': 154, '157': 155, '158': 156, '159': 157, '160': 158, '161': 159, '162': 160, '163': 161, '164': 162, '165': 163, '166': 164, '167': 165, '168': 166, '169': 167, '170': 168, '171': 169, '172': 170, '173': 171, '174': 172, '175': 173, '176': 174, '177': 175, '178': 176, '179': 177, '180': 178, '181': 179, '182': 180, '183': 181, '184': 182, '185': 183, '186': 184, '187': 185, '188': 186, '189': 187, '190': 188, '191': 189, '192': 190, '193': 191, '194': 192, '195': 193, '196': 194, '197': 195, '198': 196, '199': 197, '200': 198, '201': 199, '202': 200, '203': 201, '204': 202, '205': 203, '206': 204, '207': 205, '208': 206, '209': 207, '210': 208, '211': 209, '212': 210, '213': 211, '214': 212, '215': 213, '216': 214, '217': 215, '218': 216, '219': 217, '220': 218, '221': 219, '222': 220, '223': 221, '224': 222, '225': 223, '226': 224, '227': 225, '228': 226, '229': 227, '230': 228, '231': 229, '232': 230, '233': 231, '234': 232, '235': 233, '242': 234, '243': 235, '244': 236, '245': 237, '246': 238, '247': 239, '248': 240, '249': 241, '250': 242, '251': 243, '252': 244, '253': 245, '254': 246, '255': 247, '256': 248, '257': 249, '258': 250, '259': 251, '260': 252, '261': 253, '262': 254, '263': 255, '264': 256, '265': 257, '266': 258, '267': 259, '268': 260, '269': 261, '270': 262, '271': 263, '272': 264, '273': 265, '274': 266, '275': 267, '276': 268, '277': 269, '278': 270, '279': 271, '280': 272, '281': 273, '282': 274, '283': 275, '284': 276, '285': 277, '286': 278, '287': 279, '288': 280, '289': 281, '290': 282, '291': 283, '292': 284, '293': 285, '294': 286, '295': 287, '296': 288, '297': 289, '298': 290, '299': 291, '300': 292, '301': 293, '302': 294, '303': 295, '304': 296, '307': 297, '308': 298, '309': 299, '310': 300, '311': 301, '312': 302, '313': 303, '314': 304, '315': 305, '316': 306, '317': 307, '318': 308, '319': 309, '320': 310, '321': 311, '322': 312, '323': 313, '324': 314, '325': 315, '326': 316, '327': 317, '328': 318, '329': 319, '330': 320, '331': 321, '332': 322, '333': 323, '334': 324, '335': 325, '336': 326, '337': 327, '338': 328, '339': 329, '340': 330, '341': 331, '342': 332, '343': 333, '344': 334, '345': 335, '346': 336, '347': 337, '348': 338, '349': 339, '350': 340, '351': 341, '352': 342, '356': 343, '357': 344, '358': 345, '359': 346, '360': 347, '361': 348, '362': 349, '363': 350, '364': 351, '365': 352, '366': 353, '367': 354, '368': 355, '369': 356, '370': 357, '371': 358, '372': 359, '373': 360, '374': 361, '375': 362, '376': 363, '377': 364, '378': 365, '379': 366, '380': 367, '381': 368, '382': 369, '383': 370, '384': 371, '385': 372, '386': 373, '387': 374, '388': 375, '389': 376, '390': 377, '391': 378, '392': 379, '393': 380, '394': 381, '395': 382, '396': 383, '397': 384, '398': 385, '399': 386, '400': 387, '401': 388, '402': 389, '403': 390, '404': 391, '405': 392, '406': 393, '407': 394, '408': 395, '409': 396, '410': 397, '411': 398, '412': 399, '413': 400, '414': 401, '415': 402, '416': 403, '417': 404, '418': 405, '419': 406, '420': 407, '421': 408, '422': 409, '423': 410, '424': 411, '425': 412, '426': 413, '436': 414, '437': 415, '438': 416, '439': 417, '440': 418, '441': 419, '442': 420, '443': 421, '444': 422, '445': 423, '446': 424, '447': 425, '448': 426, '449': 427, '450': 428, '451': 429, '452': 430, '453': 431, '454': 432, '455': 433, '456': 434, '457': 435, '458': 436, '459': 437, '460': 438, '461': 439, '462': 440, '463': 441, '464': 442, '465': 443, '466': 444, '467': 445, '468': 446, '469': 447, '470': 448, '475': 449, '476': 450, '477': 451, '478': 452, '479': 453, '480': 454, '481': 455, '482': 456, '483': 457, '484': 458, '485': 459, '486': 460, '487': 461, '488': 462, '489': 463, '490': 464, '491': 465, '492': 466, '493': 467, '494': 468, '495': 469, '496': 470, '497': 471, '498': 472, '499': 473, '500': 474, '501': 475, '473': 476, '502': 477, '503': 478, '504': 479, '505': 480, '506': 481, '507': 482, '508': 483, '509': 484, '510': 485, '511': 486, '512': 487, '513': 488, '514': 489, '515': 490, '516': 491, '517': 492, '518': 493, '519': 494, '520': 495, '521': 496, '522': 497, '523': 498, '524': 499, '525': 500, '526': 501, '527': 502, '528': 503, '529': 504, '530': 505, '531': 506, '532': 507, '533': 508, '534': 509, '535': 510, '536': 511, '537': 512, '538': 513, '539': 514, '545': 515, '546': 516, '547': 517, '548': 518, '549': 519, '550': 520, '551': 521, '552': 522, '553': 523, '554': 524, '555': 525, '556': 526, '557': 527, '559': 528, '560': 529, '561': 530, '562': 531, '563': 532, '564': 533, '565': 534, '566': 535, '567': 536, '568': 537, '569': 538, '570': 539, '571': 540, '572': 541, '573': 542, '574': 543, '575': 544, '576': 545, '577': 546, '578': 547, '579': 548, '580': 549, '581': 550, '582': 551, '583': 552, '584': 553, '430': 554, '585': 555, '586': 556, '587': 557, '588': 558, '589': 559, '590': 560, '591': 561, '592': 562, '593': 563, '594': 564, '595': 565, '596': 566, '597': 567, '598': 568, '599': 569, '600': 570, '601': 571, '602': 572, '603': 573, '604': 574, '605': 575, '606': 576, '607': 577, '608': 578, '609': 579, '610': 580, '611': 581, '612': 582, '613': 583, '614': 584, '615': 585, '616': 586, '617': 587, '618': 588, '558': 589, '619': 590, '620': 591, '621': 592, '622': 593, '623': 594, '624': 595, '625': 596, '626': 597, '627': 598, '628': 599, '629': 600, '435': 601, '630': 602, '631': 603, '632': 604, '633': 605, '634': 606, '635': 607, '636': 608, '637': 609, '638': 610, '639': 611, '640': 612, '641': 613, '642': 614, '643': 615, '644': 616, '645': 617, '646': 618, '647': 619, '648': 620, '649': 621, '650': 622, '651': 623, '652': 624, '653': 625, '654': 626, '655': 627, '656': 628, '657': 629, '658': 630, '659': 631, '660': 632, '661': 633, '662': 634, '663': 635, '664': 636, '665': 637, '666': 638, '667': 639, '668': 640, '669': 641, '670': 642, '671': 643, '672': 644, '673': 645, '674': 646, '675': 647, '676': 648, '677': 649, '678': 650, '679': 651, '680': 652, '681': 653, '682': 654, '683': 655, '684': 656, '685': 657, '686': 658, '687': 659, '688': 660, '689': 661, '690': 662, '691': 663, '692': 664, '693': 665, '694': 666, '695': 667, '696': 668, '697': 669, '698': 670, '699': 671, '700': 672, '701': 673, '702': 674, '703': 675, '704': 676, '705': 677, '706': 678, '707': 679, '708': 680, '709': 681, '710': 682, '711': 683, '712': 684, '713': 685, '714': 686, '715': 687, '716': 688, '717': 689, '718': 690, '719': 691, '720': 692, '721': 693, '722': 694, '723': 695, '724': 696, '725': 697, '726': 698, '727': 699, '728': 700, '729': 701, '730': 702, '731': 703, '732': 704, '733': 705, '734': 706, '735': 707, '736': 708, '737': 709, '738': 710, '739': 711, '740': 712, '741': 713, '742': 714, '743': 715, '744': 716, '745': 717, '746': 718, '747': 719, '748': 720, '749': 721, '750': 722, '751': 723, '752': 724, '753': 725, '754': 726, '755': 727, '756': 728, '757': 729, '758': 730, '759': 731, '760': 732, '761': 733, '762': 734, '763': 735, '764': 736, '765': 737, '472': 738, '766': 739, '767': 740, '768': 741, '769': 742, '770': 743, '771': 744, '772': 745, '773': 746, '774': 747, '775': 748, '776': 749, '429': 750, '777': 751, '778': 752, '779': 753, '780': 754, '781': 755, '783': 756, '784': 757, '785': 758, '786': 759, '787': 760, '788': 761, '789': 762, '790': 763, '791': 764, '792': 765, '793': 766, '794': 767, '795': 768, '796': 769, '797': 770, '798': 771, '799': 772, '800': 773, '801': 774, '802': 775, '803': 776, '544': 777, '804': 778, '805': 779, '806': 780, '807': 781, '808': 782, '809': 783, '810': 784, '811': 785, '812': 786, '813': 787, '814': 788, '815': 789, '816': 790, '817': 791, '818': 792, '819': 793, '820': 794, '821': 795, '822': 796, '823': 797, '824': 798, '825': 799, '826': 800, '827': 801, '828': 802, '829': 803, '830': 804, '831': 805, '832': 806, '833': 807, '834': 808, '835': 809, '836': 810, '837': 811, '838': 812, '839': 813, '840': 814, '841': 815, '842': 816, '843': 817, '844': 818, '845': 819, '846': 820, '847': 821, '848': 822, '849': 823, '850': 824, '851': 825, '852': 826, '853': 827, '854': 828, '855': 829, '856': 830, '433': 831, '857': 832, '858': 833, '859': 834, '860': 835, '861': 836, '862': 837, '863': 838, '864': 839, '865': 840, '866': 841, '867': 842, '868': 843, '869': 844, '870': 845, '871': 846, '872': 847, '873': 848, '879': 849, '880': 850, '881': 851, '882': 852, '883': 853, '884': 854, '885': 855, '886': 856, '887': 857, '888': 858, '889': 859, '890': 860, '891': 861, '892': 862, '893': 863, '894': 864, '895': 865, '896': 866, '897': 867, '898': 868, '899': 869, '900': 870, '901': 871, '902': 872, '874': 873, '903': 874, '904': 875, '905': 876, '906': 877, '907': 878, '908': 879, '909': 880, '910': 881, '911': 882, '912': 883, '913': 884, '914': 885, '915': 886, '916': 887, '917': 888, '918': 889, '919': 890, '920': 891, '921': 892, '922': 893, '923': 894, '924': 895, '925': 896, '926': 897, '927': 898, '928': 899, '929': 900, '930': 901, '931': 902, '932': 903, '933': 904, '934': 905, '935': 906, '936': 907, '937': 908, '938': 909, '939': 910, '940': 911, '941': 912, '942': 913, '943': 914, '944': 915, '945': 916, '946': 917, '947': 918, '948': 919, '949': 920, '952': 921, '953': 922, '954': 923, '955': 924, '956': 925, '957': 926, '958': 927, '959': 928, '960': 929, '961': 930, '962': 931, '963': 932, '964': 933, '965': 934, '966': 935, '967': 936, '968': 937, '969': 938, '970': 939, '971': 940, '972': 941, '973': 942, '974': 943, '975': 944, '976': 945, '977': 946, '978': 947, '979': 948, '980': 949, '981': 950, '982': 951, '983': 952, '984': 953, '985': 954, '986': 955, '987': 956, '988': 957, '989': 958, '990': 959, '991': 960, '992': 961, '993': 962, '994': 963, '995': 964, '996': 965, '997': 966, '998': 967, '999': 968, '1000': 969, '1003': 970, '1004': 971, '1005': 972, '1006': 973, '1007': 974, '1008': 975, '1009': 976, '1010': 977, '1011': 978, '1012': 979, '1013': 980, '1014': 981, '1015': 982, '1016': 983, '1017': 984, '1018': 985, '1019': 986, '1020': 987, '1023': 988, '1024': 989, '1025': 990, '1026': 991, '1027': 992, '1028': 993, '1029': 994, '1030': 995, '1031': 996, '1032': 997, '1033': 998, '1034': 999, '1035': 1000, '1036': 1001, '1037': 1002, '1038': 1003, '1039': 1004, '1040': 1005, '1041': 1006, '1042': 1007, '1043': 1008, '1044': 1009, '1045': 1010, '1046': 1011, '1047': 1012, '1048': 1013, '1049': 1014, '1050': 1015, '1051': 1016, '1052': 1017, '1053': 1018, '1054': 1019, '1055': 1020, '1056': 1021, '1057': 1022, '1058': 1023, '1059': 1024, '1060': 1025, '1061': 1026, '1062': 1027, '1063': 1028, '1064': 1029, '1065': 1030, '875': 1031, '1066': 1032, '1067': 1033, '1068': 1034, '1069': 1035, '1070': 1036, '1071': 1037, '1072': 1038, '238': 1039, '1073': 1040, '1074': 1041, '1075': 1042, '1076': 1043, '1077': 1044, '434': 1045, '1078': 1046, '1079': 1047, '1080': 1048, '1081': 1049, '1082': 1050, '1083': 1051, '1084': 1052, '1085': 1053, '1086': 1054, '1087': 1055, '1088': 1056, '1089': 1057, '1090': 1058, '1091': 1059, '1092': 1060, '239': 1061, '1093': 1062, '1094': 1063, '1098': 1064, '1099': 1065, '1100': 1066, '1101': 1067, '1102': 1068, '1103': 1069, '1104': 1070, '1021': 1071, '1105': 1072, '1106': 1073, '1107': 1074, '1108': 1075, '1109': 1076, '1110': 1077, '1111': 1078, '1112': 1079, '1113': 1080, '1114': 1081, '1115': 1082, '1116': 1083, '1117': 1084, '1118': 1085, '1119': 1086, '1121': 1087, '950': 1088, '1122': 1089, '1123': 1090, '1124': 1091, '1125': 1092, '1126': 1093, '1127': 1094, '1128': 1095, '1129': 1096, '1130': 1097, '1131': 1098, '1132': 1099, '1133': 1100, '427': 1101, '1134': 1102, '1135': 1103, '1136': 1104, '1137': 1105, '1138': 1106, '1139': 1107, '1140': 1108, '1141': 1109, '1142': 1110, '1143': 1111, '1144': 1112, '1145': 1113, '1148': 1114, '1149': 1115, '1150': 1116, '1151': 1117, '1152': 1118, '1153': 1119, '1154': 1120, '1155': 1121, '1156': 1122, '1157': 1123, '540': 1124, '1158': 1125, '1159': 1126, '1160': 1127, '1161': 1128, '1162': 1129, '1163': 1130, '1164': 1131, '1165': 1132, '1166': 1133, '1169': 1134, '1170': 1135, '1171': 1136, '1172': 1137, '1173': 1138, '1174': 1139, '1175': 1140, '1176': 1141, '1177': 1142, '1178': 1143, '1179': 1144, '1180': 1145, '1181': 1146, '1182': 1147, '1183': 1148, '1184': 1149, '1185': 1150, '1186': 1151, '1187': 1152, '1188': 1153, '1189': 1154, '1190': 1155, '1191': 1156, '1192': 1157, '1193': 1158, '1194': 1159, '1195': 1160, '1196': 1161, '1197': 1162, '1198': 1163, '1199': 1164, '1200': 1165, '1201': 1166, '1202': 1167, '1203': 1168, '1204': 1169, '1205': 1170, '1206': 1171, '1207': 1172, '1208': 1173, '1209': 1174, '1210': 1175, '1211': 1176, '1212': 1177, '1213': 1178, '1214': 1179, '1215': 1180, '1216': 1181, '1219': 1182, '1220': 1183, '1221': 1184, '1222': 1185, '1223': 1186, '1224': 1187, '1225': 1188, '1226': 1189, '1227': 1190, '1228': 1191, '1229': 1192, '1230': 1193, '1231': 1194, '1232': 1195, '1233': 1196, '1234': 1197, '1235': 1198, '1236': 1199, '1237': 1200, '1238': 1201, '1239': 1202, '1240': 1203, '1241': 1204, '1242': 1205, '1243': 1206, '1244': 1207, '1245': 1208, '1246': 1209, '1247': 1210, '1248': 1211, '1249': 1212, '1250': 1213, '1251': 1214, '1252': 1215, '1253': 1216, '1254': 1217, '1168': 1218, '1255': 1219, '1256': 1220, '1257': 1221, '1258': 1222, '1259': 1223, '1260': 1224, '1261': 1225, '1262': 1226, '1263': 1227, '1264': 1228, '1265': 1229, '1266': 1230, '1267': 1231, '1268': 1232, '1269': 1233, '1270': 1234, '1271': 1235, '1272': 1236, '876': 1237, '1274': 1238, '1275': 1239, '1276': 1240, '1277': 1241, '1278': 1242, '1279': 1243, '1280': 1244, '1281': 1245, '1282': 1246, '1283': 1247, '1284': 1248, '1285': 1249, '1286': 1250, '1287': 1251, '1288': 1252, '1289': 1253, '1290': 1254, '1291': 1255, '1292': 1256, '1293': 1257, '1294': 1258, '1296': 1259, '1297': 1260, '878': 1261, '1298': 1262, '1299': 1263, '1300': 1264, '1301': 1265, '1302': 1266, '1303': 1267, '1304': 1268, '1305': 1269, '1306': 1270, '1307': 1271, '1308': 1272, '1309': 1273, '1310': 1274, '1311': 1275, '1312': 1276, '1313': 1277, '1314': 1278, '1315': 1279, '1316': 1280, '1317': 1281, '1318': 1282, '1319': 1283, '1320': 1284, '1321': 1285, '1322': 1286, '1323': 1287, '1324': 1288, '1325': 1289, '1326': 1290, '1327': 1291, '1328': 1292, '1329': 1293, '1330': 1294, '353': 1295, '1331': 1296, '1332': 1297, '1333': 1298, '1334': 1299, '1335': 1300, '1336': 1301, '1337': 1302, '1338': 1303, '1339': 1304, '1340': 1305, '1341': 1306, '1342': 1307, '1343': 1308, '1344': 1309, '1345': 1310, '1346': 1311, '1347': 1312, '1348': 1313, '1349': 1314, '1350': 1315, '1351': 1316, '1352': 1317, '1353': 1318, '1354': 1319, '1355': 1320, '1356': 1321, '1357': 1322, '1358': 1323, '1359': 1324, '1360': 1325, '1361': 1326, '1362': 1327, '1363': 1328, '1364': 1329, '1365': 1330, '1366': 1331, '1367': 1332, '1368': 1333, '1369': 1334, '1370': 1335, '1371': 1336, '1372': 1337, '1376': 1338, '1377': 1339, '1378': 1340, '1379': 1341, '1380': 1342, '1381': 1343, '1382': 1344, '1383': 1345, '1384': 1346, '1385': 1347, '1386': 1348, '1390': 1349, '1391': 1350, '1392': 1351, '1393': 1352, '1394': 1353, '1395': 1354, '1396': 1355, '1397': 1356, '1398': 1357, '1399': 1358, '1400': 1359, '1401': 1360, '1402': 1361, '1403': 1362, '1404': 1363, '1405': 1364, '1406': 1365, '1407': 1366, '1408': 1367, '1409': 1368, '1410': 1369, '1411': 1370, '1412': 1371, '1413': 1372, '1414': 1373, '432': 1374, '1415': 1375, '1416': 1376, '1417': 1377, '1418': 1378, '1419': 1379, '1420': 1380, '1421': 1381, '1422': 1382, '1423': 1383, '1424': 1384, '1425': 1385, '1426': 1386, '1427': 1387, '1428': 1388, '1429': 1389, '1430': 1390, '1431': 1391, '1432': 1392, '1433': 1393, '1434': 1394, '1435': 1395, '1436': 1396, '1437': 1397, '1438': 1398, '1439': 1399, '1440': 1400, '1441': 1401, '1442': 1402, '1443': 1403, '1444': 1404, '1445': 1405, '1446': 1406, '1447': 1407, '1448': 1408, '1449': 1409, '1450': 1410, '1451': 1411, '1452': 1412, '1453': 1413, '1454': 1414, '1455': 1415, '1456': 1416, '1457': 1417, '1458': 1418, '1459': 1419, '431': 1420, '1460': 1421, '1461': 1422, '1462': 1423, '1463': 1424, '1464': 1425, '1465': 1426, '1466': 1427, '1467': 1428, '306': 1429, '1468': 1430, '1469': 1431, '1470': 1432, '1471': 1433, '1472': 1434, '1473': 1435, '1474': 1436, '1475': 1437, '1476': 1438, '1217': 1439, '1477': 1440, '1478': 1441, '1479': 1442, '1480': 1443, '1481': 1444, '1482': 1445, '1483': 1446, '1484': 1447, '1485': 1448, '1486': 1449, '1487': 1450, '1488': 1451, '1489': 1452, '1490': 1453, '1491': 1454, '1492': 1455, '1493': 1456, '1494': 1457, '1495': 1458, '1496': 1459, '1497': 1460, '1498': 1461, '1499': 1462, '1500': 1463, '1501': 1464, '1502': 1465, '1503': 1466, '1506': 1467, '1507': 1468, '1508': 1469, '1509': 1470, '1510': 1471, '1511': 1472, '1512': 1473, '1513': 1474, '1514': 1475, '1515': 1476, '1516': 1477, '1517': 1478, '1519': 1479, '1520': 1480, '1521': 1481, '1522': 1482, '1523': 1483, '1524': 1484, '1525': 1485, '1526': 1486, '1527': 1487, '1528': 1488, '1529': 1489, '1530': 1490, '1531': 1491, '1532': 1492, '1533': 1493, '1534': 1494, '1535': 1495, '1536': 1496, '1537': 1497, '1538': 1498, '1539': 1499, '1540': 1500, '1541': 1501, '1542': 1502, '1543': 1503, '1544': 1504, '1545': 1505, '1546': 1506, '1547': 1507, '1548': 1508, '1549': 1509, '1550': 1510, '1551': 1511, '1552': 1512, '1167': 1513, '1555': 1514, '1556': 1515, '1557': 1516, '1558': 1517, '1559': 1518, '1560': 1519, '1561': 1520, '1562': 1521, '1563': 1522, '1564': 1523, '1565': 1524, '1566': 1525, '1567': 1526, '1568': 1527, '1569': 1528, '1570': 1529, '1571': 1530, '1572': 1531, '1573': 1532, '1574': 1533, '1575': 1534, '1576': 1535, '1577': 1536, '1578': 1537, '1579': 1538, '1580': 1539, '1581': 1540, '1582': 1541, '1583': 1542, '1584': 1543, '1585': 1544, '1587': 1545, '1588': 1546, '1589': 1547, '1590': 1548, '1591': 1549, '1592': 1550, '1593': 1551, '1375': 1552, '1594': 1553, '1595': 1554, '1596': 1555, '1597': 1556, '1598': 1557, '1147': 1558, '1599': 1559, '1600': 1560, '1601': 1561, '1602': 1562, '1603': 1563, '1604': 1564, '1605': 1565, '1606': 1566, '1607': 1567, '1608': 1568, '1609': 1569, '1610': 1570, '1097': 1571, '1611': 1572, '1612': 1573, '1613': 1574, '1614': 1575, '1615': 1576, '1616': 1577, '1617': 1578, '1618': 1579, '1619': 1580, '1620': 1581, '1621': 1582, '1622': 1583, '1623': 1584, '1624': 1585, '1625': 1586, '1626': 1587, '1627': 1588, '474': 1589, '1628': 1590, '1629': 1591, '1630': 1592, '1631': 1593, '1632': 1594, '1633': 1595, '1634': 1596, '1635': 1597, '1636': 1598, '1637': 1599, '1638': 1600, '1639': 1601, '1640': 1602, '1641': 1603, '1642': 1604, '1643': 1605, '1644': 1606, '1645': 1607, '1646': 1608, '1647': 1609, '1648': 1610, '1649': 1611, '1650': 1612, '1651': 1613, '1652': 1614, '1654': 1615, '1655': 1616, '1656': 1617, '1657': 1618, '1658': 1619, '1659': 1620, '1660': 1621, '1661': 1622, '1662': 1623, '1663': 1624, '1664': 1625, '1665': 1626, '1666': 1627, '1667': 1628, '1668': 1629, '1669': 1630, '1670': 1631, '1671': 1632, '1672': 1633, '1677': 1634, '1678': 1635, '1679': 1636, '1680': 1637, '1681': 1638, '1682': 1639, '1683': 1640, '1684': 1641, '1685': 1642, '1686': 1643, '1687': 1644, '1688': 1645, '1689': 1646, '1690': 1647, '1691': 1648, '1692': 1649, '1693': 1650, '1694': 1651, '1695': 1652, '1696': 1653, '1697': 1654, '1698': 1655, '1699': 1656, '1700': 1657, '1701': 1658, '1702': 1659, '1703': 1660, '1704': 1661, '1705': 1662, '1706': 1663, '1707': 1664, '1708': 1665, '1710': 1666, '1711': 1667, '1712': 1668, '1713': 1669, '1714': 1670, '1715': 1671, '1716': 1672, '1717': 1673, '1718': 1674, '1719': 1675, '1720': 1676, '1721': 1677, '1722': 1678, '1723': 1679, '1724': 1680, '1725': 1681, '1726': 1682, '1732': 1683, '1733': 1684, '1734': 1685, '1735': 1686, '1736': 1687, '1737': 1688, '1738': 1689, '1739': 1690, '1740': 1691, '1741': 1692, '1742': 1693, '1146': 1694, '1743': 1695, '1744': 1696, '1745': 1697, '1746': 1698, '1747': 1699, '1748': 1700, '1749': 1701, '1750': 1702, '1751': 1703, '1752': 1704, '1753': 1705, '1754': 1706, '1755': 1707, '1756': 1708, '1757': 1709, '1758': 1710, '1759': 1711, '1760': 1712, '1761': 1713, '1762': 1714, '1763': 1715, '1764': 1716, '1765': 1717, '1766': 1718, '541': 1719, '1767': 1720, '1768': 1721, '1769': 1722, '1770': 1723, '1771': 1724, '1772': 1725, '1773': 1726, '1774': 1727, '1775': 1728, '1776': 1729, '1777': 1730, '1778': 1731, '1779': 1732, '1780': 1733, '1781': 1734, '1782': 1735, '1783': 1736, '1784': 1737, '1785': 1738, '1786': 1739, '1787': 1740, '1788': 1741, '1789': 1742, '1790': 1743, '1730': 1744, '1791': 1745, '1792': 1746, '1793': 1747, '1794': 1748, '1795': 1749, '1796': 1750, '1797': 1751, '50': 1752, '1798': 1753, '1799': 1754, '1800': 1755, '1801': 1756, '1802': 1757, '1803': 1758, '1804': 1759, '1805': 1760, '1806': 1761, '1807': 1762, '1808': 1763, '1809': 1764, '1810': 1765, '1811': 1766, '1812': 1767, '1813': 1768, '1814': 1769, '1815': 1770, '1816': 1771, '1817': 1772, '1818': 1773, '1819': 1774, '1820': 1775, '1821': 1776, '1822': 1777, '1823': 1778, '543': 1779, '1824': 1780, '1825': 1781, '1826': 1782, '1827': 1783, '1828': 1784, '1829': 1785, '1830': 1786, '1831': 1787, '1832': 1788, '1675': 1789, '1833': 1790, '1834': 1791, '1586': 1792, '1835': 1793, '1836': 1794, '1837': 1795, '1838': 1796, '1295': 1797, '1839': 1798, '1840': 1799, '1843': 1800, '1844': 1801, '1845': 1802, '1846': 1803, '1847': 1804, '1848': 1805, '1849': 1806, '1850': 1807, '1851': 1808, '1853': 1809, '1854': 1810, '1855': 1811, '1856': 1812, '428': 1813, '1857': 1814, '1858': 1815, '1859': 1816, '1860': 1817, '1862': 1818, '1863': 1819, '1864': 1820, '1865': 1821, '1866': 1822, '1867': 1823, '1868': 1824, '1869': 1825, '1870': 1826, '1871': 1827, '1872': 1828, '1873': 1829, '1874': 1830, '1875': 1831, '1876': 1832, '1877': 1833, '1878': 1834, '1879': 1835, '1880': 1836, '1881': 1837, '1882': 1838, '1505': 1839, '1883': 1840, '1884': 1841, '1885': 1842, '1886': 1843, '1887': 1844, '1888': 1845, '1890': 1846, '1891': 1847, '1892': 1848, '542': 1849, '1893': 1850, '1894': 1851, '1895': 1852, '1896': 1853, '1897': 1854, '1898': 1855, '1899': 1856, '1900': 1857, '1901': 1858, '1902': 1859, '1841': 1860, '1903': 1861, '1904': 1862, '1905': 1863, '1906': 1864, '1907': 1865, '1908': 1866, '1909': 1867, '1910': 1868, '1911': 1869, '1912': 1870, '1913': 1871, '1914': 1872, '1915': 1873, '1916': 1874, '1917': 1875, '1918': 1876, '1919': 1877, '1920': 1878, '1921': 1879, '1922': 1880, '1923': 1881, '1924': 1882, '1925': 1883, '1926': 1884, '1927': 1885, '1928': 1886, '1929': 1887, '1930': 1888, '1931': 1889, '1932': 1890, '1933': 1891, '1934': 1892, '1935': 1893, '1936': 1894, '240': 1895, '1937': 1896, '1938': 1897, '1939': 1898, '1001': 1899, '1940': 1900, '1941': 1901, '1942': 1902, '1943': 1903, '1944': 1904, '1945': 1905, '1946': 1906, '1947': 1907, '1948': 1908, '1949': 1909, '237': 1910, '1950': 1911, '1951': 1912, '1952': 1913, '1953': 1914, '354': 1915, '1954': 1916, '1955': 1917, '1956': 1918, '1957': 1919, '1729': 1920, '1958': 1921, '1959': 1922, '1960': 1923, '1961': 1924, '1962': 1925, '1963': 1926, '1964': 1927, '1965': 1928, '1966': 1929, '1967': 1930, '1968': 1931, '1969': 1932, '1970': 1933, '1971': 1934, '1972': 1935, '1973': 1936, '1002': 1937, '1974': 1938, '1975': 1939, '1976': 1940, '1977': 1941, '1980': 1942, '1981': 1943, '1982': 1944, '1983': 1945, '1852': 1946, '1984': 1947, '1985': 1948, '1986': 1949, '1987': 1950, '1988': 1951, '1989': 1952, '1990': 1953, '1991': 1954, '1992': 1955, '1993': 1956, '1994': 1957, '1995': 1958, '1996': 1959, '1997': 1960, '1998': 1961, '1999': 1962, '2000': 1963, '2001': 1964, '2002': 1965, '2003': 1966, '2004': 1967, '2005': 1968, '2006': 1969, '2008': 1970, '2009': 1971, '2010': 1972, '2011': 1973, '2012': 1974, '2013': 1975, '2014': 1976, '2015': 1977, '2016': 1978, '2017': 1979, '2018': 1980, '2019': 1981, '2020': 1982, '2021': 1983, '2022': 1984, '2027': 1985, '2028': 1986, '2029': 1987, '2030': 1988, '2031': 1989, '2032': 1990, '2033': 1991, '2034': 1992, '2035': 1993, '2036': 1994, '2037': 1995, '2038': 1996, '2039': 1997, '2040': 1998, '2041': 1999, '2042': 2000, '1273': 2001, '2043': 2002, '2044': 2003, '2045': 2004, '2046': 2005, '2047': 2006, '2048': 2007, '2049': 2008, '2050': 2009, '2051': 2010, '2052': 2011, '2053': 2012, '2054': 2013, '2055': 2014, '2056': 2015, '2057': 2016, '2058': 2017, '2059': 2018, '2060': 2019, '2061': 2020, '2062': 2021, '2063': 2022, '1673': 2023, '2064': 2024, '2065': 2025, '2066': 2026, '2067': 2027, '2068': 2028, '2069': 2029, '2070': 2030, '2071': 2031, '2072': 2032, '2073': 2033, '2074': 2034, '2075': 2035, '2076': 2036, '2077': 2037, '2078': 2038, '2079': 2039, '2080': 2040, '2081': 2041, '2082': 2042, '2083': 2043, '2084': 2044, '2085': 2045, '2086': 2046, '2087': 2047, '2088': 2048, '2089': 2049, '2090': 2050, '2091': 2051, '2092': 2052, '2093': 2053, '2094': 2054, '2095': 2055, '2096': 2056, '2097': 2057, '2098': 2058, '2099': 2059, '2100': 2060, '2101': 2061, '2102': 2062, '2103': 2063, '2104': 2064, '2105': 2065, '2106': 2066, '2107': 2067, '2108': 2068, '2109': 2069, '2110': 2070, '1731': 2071, '2111': 2072, '2112': 2073, '2113': 2074, '2114': 2075, '2116': 2076, '2117': 2077, '2118': 2078, '2119': 2079, '2120': 2080, '2121': 2081, '2122': 2082, '2123': 2083, '2124': 2084, '2125': 2085, '2126': 2086, '2127': 2087, '2128': 2088, '2129': 2089, '2130': 2090, '2131': 2091, '2132': 2092, '2133': 2093, '2134': 2094, '2135': 2095, '2136': 2096, '2137': 2097, '2138': 2098, '2139': 2099, '2140': 2100, '2141': 2101, '2142': 2102, '2144': 2103, '2145': 2104, '2146': 2105, '2147': 2106, '2148': 2107, '2149': 2108, '2150': 2109, '2151': 2110, '2152': 2111, '2153': 2112, '2154': 2113, '2155': 2114, '2156': 2115, '2157': 2116, '2158': 2117, '2159': 2118, '2160': 2119, '2161': 2120, '2162': 2121, '2163': 2122, '2164': 2123, '2165': 2124, '2166': 2125, '2167': 2126, '2168': 2127, '2169': 2128, '2170': 2129, '2171': 2130, '2172': 2131, '2173': 2132, '1388': 2133, '2176': 2134, '2177': 2135, '2178': 2136, '2179': 2137, '2180': 2138, '2181': 2139, '2182': 2140, '2183': 2141, '2184': 2142, '2185': 2143, '2186': 2144, '2187': 2145, '2188': 2146, '2189': 2147, '2190': 2148, '2191': 2149, '1504': 2150, '2192': 2151, '355': 2152, '2194': 2153, '2195': 2154, '2196': 2155, '2197': 2156, '2198': 2157, '2199': 2158, '2200': 2159, '2201': 2160, '2202': 2161, '2203': 2162, '2204': 2163, '2205': 2164, '2206': 2165, '2207': 2166, '2208': 2167, '2209': 2168, '2210': 2169, '2211': 2170, '2212': 2171, '2213': 2172, '2025': 2173, '2214': 2174, '2215': 2175, '2216': 2176, '2217': 2177, '2219': 2178, '2220': 2179, '2221': 2180, '2222': 2181, '2223': 2182, '2224': 2183, '2225': 2184, '2226': 2185, '2227': 2186, '2228': 2187, '2229': 2188, '2230': 2189, '2231': 2190, '2232': 2191, '2233': 2192, '2234': 2193, '2235': 2194, '2236': 2195, '2237': 2196, '2238': 2197, '2239': 2198, '2240': 2199, '2241': 2200, '2242': 2201, '2243': 2202, '2244': 2203, '1120': 2204, '2245': 2205, '2246': 2206, '2247': 2207, '2175': 2208, '2248': 2209, '2249': 2210, '2250': 2211, '2251': 2212, '2252': 2213, '2253': 2214, '2254': 2215, '2255': 2216, '2256': 2217, '2258': 2218, '2259': 2219, '2260': 2220, '2261': 2221, '2262': 2222, '2263': 2223, '2264': 2224, '2265': 2225, '2266': 2226, '2267': 2227, '2024': 2228, '2268': 2229, '2269': 2230, '2270': 2231, '2271': 2232, '2272': 2233, '2273': 2234, '2274': 2235, '2275': 2236, '2276': 2237, '2277': 2238, '2278': 2239, '2279': 2240, '2280': 2241, '2281': 2242, '2282': 2243, '951': 2244, '2283': 2245, '2284': 2246, '2285': 2247, '2286': 2248, '2287': 2249, '2288': 2250, '2289': 2251, '2291': 2252, '2292': 2253, '2293': 2254, '2294': 2255, '2295': 2256, '2296': 2257, '2297': 2258, '2298': 2259, '2299': 2260, '2300': 2261, '2301': 2262, '2302': 2263, '2303': 2264, '2304': 2265, '2305': 2266, '2306': 2267, '2307': 2268, '2308': 2269, '2309': 2270, '2310': 2271, '2311': 2272, '2312': 2273, '2313': 2274, '2314': 2275, '2315': 2276, '2316': 2277, '2317': 2278, '2318': 2279, '2319': 2280, '2320': 2281, '2321': 2282, '2322': 2283, '1889': 2284, '2324': 2285, '2325': 2286, '2326': 2287, '2327': 2288, '2328': 2289, '2329': 2290, '2330': 2291, '2331': 2292, '2332': 2293, '2333': 2294, '2334': 2295, '2335': 2296, '2336': 2297, '2337': 2298, '2338': 2299, '2339': 2300, '2340': 2301, '2341': 2302, '2342': 2303, '2343': 2304, '2344': 2305, '2345': 2306, '2346': 2307, '2347': 2308, '2348': 2309, '2349': 2310, '2350': 2311, '2351': 2312, '2352': 2313, '2353': 2314, '2354': 2315, '2355': 2316, '1861': 2317, '2356': 2318, '2357': 2319, '2358': 2320, '2359': 2321, '2360': 2322, '2361': 2323, '2362': 2324, '2363': 2325, '2364': 2326, '2365': 2327, '2366': 2328, '2367': 2329, '2368': 2330, '2369': 2331, '2370': 2332, '2372': 2333, '2373': 2334, '2374': 2335, '2375': 2336, '2376': 2337, '2377': 2338, '2378': 2339, '2379': 2340, '2380': 2341, '2381': 2342, '2382': 2343, '2383': 2344, '2384': 2345, '2385': 2346, '2386': 2347, '2387': 2348, '2388': 2349, '2389': 2350, '2390': 2351, '2391': 2352, '2392': 2353, '2393': 2354, '2394': 2355, '2395': 2356, '2397': 2357, '2398': 2358, '2399': 2359, '2400': 2360, '2401': 2361, '2402': 2362, '2403': 2363, '2404': 2364, '2405': 2365, '2406': 2366, '2407': 2367, '1709': 2368, '2408': 2369, '2409': 2370, '2410': 2371, '2411': 2372, '2412': 2373, '2413': 2374, '2414': 2375, '2415': 2376, '2416': 2377, '2290': 2378, '2174': 2379, '2417': 2380, '2418': 2381, '2419': 2382, '2420': 2383, '2421': 2384, '2422': 2385, '2423': 2386, '2424': 2387, '2425': 2388, '2426': 2389, '2427': 2390, '2428': 2391, '2143': 2392, '2429': 2393, '2430': 2394, '2431': 2395, '2432': 2396, '2433': 2397, '2434': 2398, '2435': 2399, '2436': 2400, '2437': 2401, '2440': 2402, '2371': 2403, '2441': 2404, '2442': 2405, '2443': 2406, '2444': 2407, '2445': 2408, '2446': 2409, '2447': 2410, '2448': 2411, '2449': 2412, '2450': 2413, '2451': 2414, '2452': 2415, '2453': 2416, '2454': 2417, '2455': 2418, '2456': 2419, '2457': 2420, '2458': 2421, '2459': 2422, '2460': 2423, '2461': 2424, '2462': 2425, '2464': 2426, '2465': 2427, '2466': 2428, '2467': 2429, '2468': 2430, '2470': 2431, '1653': 2432, '2471': 2433, '2472': 2434, '2473': 2435, '2474': 2436, '2475': 2437, '2476': 2438, '2477': 2439, '2478': 2440, '2479': 2441, '2480': 2442, '2481': 2443, '2482': 2444, '2483': 2445, '2484': 2446, '2485': 2447, '2486': 2448, '2487': 2449, '2488': 2450, '2489': 2451, '2490': 2452, '2491': 2453, '2492': 2454, '2493': 2455, '2494': 2456, '2495': 2457, '1374': 2458, '2496': 2459, '2497': 2460, '2498': 2461, '2501': 2462, '2502': 2463, '2503': 2464, '2504': 2465, '2505': 2466, '2506': 2467, '2507': 2468, '2508': 2469, '1554': 2470, '2509': 2471, '2510': 2472, '2511': 2473, '2512': 2474, '2513': 2475, '2115': 2476, '2514': 2477, '2515': 2478, '2516': 2479, '2517': 2480, '2518': 2481, '2520': 2482, '2521': 2483, '2522': 2484, '2523': 2485, '2525': 2486, '150': 2487, '2526': 2488, '2527': 2489, '2528': 2490, '2529': 2491, '2530': 2492, '2531': 2493, '2532': 2494, '2533': 2495, '2500': 2496, '2534': 2497, '2535': 2498, '2536': 2499, '2537': 2500, '2007': 2501, '2538': 2502, '2539': 2503, '2540': 2504, '2541': 2505, '2542': 2506, '2543': 2507, '2544': 2508, '2545': 2509, '2546': 2510, '2547': 2511, '2548': 2512, '2549': 2513, '2550': 2514, '877': 2515, '2551': 2516, '2552': 2517, '2553': 2518, '2554': 2519, '2555': 2520, '2556': 2521, '2557': 2522, '2558': 2523, '2559': 2524, '2560': 2525, '2561': 2526, '2193': 2527, '2562': 2528, '2563': 2529, '2564': 2530, '2565': 2531, '2566': 2532, '2567': 2533, '2568': 2534, '2569': 2535, '2570': 2536, '2571': 2537, '2572': 2538, '2573': 2539, '2574': 2540, '2576': 2541, '2577': 2542, '2578': 2543, '2579': 2544, '2580': 2545, '2581': 2546, '2582': 2547, '2583': 2548, '2584': 2549, '2585': 2550, '2586': 2551, '2587': 2552, '2588': 2553, '2257': 2554, '2589': 2555, '2590': 2556, '2591': 2557, '2593': 2558, '2218': 2559, '2594': 2560, '2595': 2561, '2596': 2562, '2597': 2563, '2598': 2564, '2599': 2565, '2600': 2566, '2601': 2567, '2602': 2568, '2524': 2569, '2603': 2570, '2604': 2571, '2605': 2572, '2606': 2573, '2607': 2574, '2608': 2575, '2609': 2576, '2610': 2577, '2026': 2578, '2611': 2579, '2612': 2580, '2613': 2581, '2614': 2582, '2615': 2583, '2616': 2584, '1218': 2585, '2617': 2586, '2619': 2587, '2620': 2588, '2621': 2589, '2622': 2590, '2623': 2591, '2624': 2592, '2625': 2593, '2626': 2594, '2627': 2595, '2628': 2596, '2629': 2597, '2630': 2598, '2631': 2599, '2632': 2600, '2633': 2601, '1553': 2602, '2636': 2603, '2637': 2604, '2638': 2605, '2639': 2606, '2023': 2607, '2640': 2608, '2641': 2609, '2642': 2610, '2643': 2611, '2644': 2612, '2646': 2613, '1674': 2614, '2647': 2615, '2648': 2616, '2649': 2617, '2650': 2618, '2651': 2619, '2652': 2620, '2653': 2621, '2654': 2622, '2655': 2623, '2656': 2624, '2657': 2625, '2658': 2626, '2659': 2627, '2660': 2628, '2661': 2629, '2662': 2630, '2663': 2631, '2664': 2632, '2665': 2633, '2666': 2634, '2667': 2635, '2668': 2636, '2669': 2637, '2670': 2638, '2635': 2639, '2672': 2640, '2634': 2641, '2673': 2642, '2674': 2643, '2675': 2644, '2677': 2645, '2678': 2646, '2679': 2647, '2680': 2648, '2681': 2649, '2682': 2650, '2683': 2651, '2684': 2652, '2685': 2653, '2686': 2654, '2687': 2655, '2688': 2656, '2689': 2657, '2691': 2658, '2692': 2659, '2694': 2660, '2695': 2661, '2696': 2662, '2697': 2663, '2698': 2664, '2699': 2665, '2700': 2666, '2701': 2667, '2702': 2668, '2703': 2669, '2704': 2670, '2705': 2671, '2469': 2672, '2706': 2673, '2707': 2674, '2708': 2675, '2592': 2676, '2709': 2677, '2710': 2678, '2711': 2679, '2712': 2680, '2713': 2681, '2714': 2682, '2715': 2683, '1978': 2684, '2716': 2685, '2717': 2686, '2718': 2687, '2719': 2688, '2720': 2689, '2721': 2690, '2722': 2691, '2723': 2692, '2724': 2693, '2725': 2694, '2396': 2695, '2726': 2696, '2727': 2697, '2728': 2698, '2729': 2699, '2730': 2700, '2731': 2701, '2676': 2702, '2732': 2703, '2733': 2704, '2734': 2705, '1979': 2706, '2735': 2707, '2736': 2708, '2737': 2709, '2738': 2710, '2739': 2711, '782': 2712, '2740': 2713, '2741': 2714, '2742': 2715, '2743': 2716, '241': 2717, '2744': 2718, '2745': 2719, '2746': 2720, '2747': 2721, '2748': 2722, '2749': 2723, '2750': 2724, '2751': 2725, '2752': 2726, '2753': 2727, '2754': 2728, '2575': 2729, '2755': 2730, '2756': 2731, '2757': 2732, '2758': 2733, '2759': 2734, '2760': 2735, '2761': 2736, '2693': 2737, '2762': 2738, '2763': 2739, '2764': 2740, '2765': 2741, '2766': 2742, '2767': 2743, '2768': 2744, '2771': 2745, '2772': 2746, '2773': 2747, '2774': 2748, '2775': 2749, '2776': 2750, '2777': 2751, '2778': 2752, '2779': 2753, '2780': 2754, '2781': 2755, '2499': 2756, '2782': 2757, '2783': 2758, '2785': 2759, '2786': 2760, '2787': 2761, '2788': 2762, '2645': 2763, '2789': 2764, '2790': 2765, '2791': 2766, '2792': 2767, '2793': 2768, '2794': 2769, '2795': 2770, '2796': 2771, '1095': 2772, '2797': 2773, '2798': 2774, '2799': 2775, '2800': 2776, '2801': 2777, '2802': 2778, '2803': 2779, '2804': 2780, '2805': 2781, '2806': 2782, '2807': 2783, '2808': 2784, '2809': 2785, '2810': 2786, '2811': 2787, '2812': 2788, '2813': 2789, '2814': 2790, '2815': 2791, '2816': 2792, '2817': 2793, '2818': 2794, '2819': 2795, '2820': 2796, '2821': 2797, '1518': 2798, '2822': 2799, '2770': 2800, '2823': 2801, '2824': 2802, '2439': 2803, '2825': 2804, '2826': 2805, '2827': 2806, '2828': 2807, '2829': 2808, '236': 2809, '2831': 2810, '2832': 2811, '2833': 2812, '2834': 2813, '2835': 2814, '2837': 2815, '2838': 2816, '2839': 2817, '2769': 2818, '1373': 2819, '2840': 2820, '2841': 2821, '2842': 2822, '2843': 2823, '2844': 2824, '1728': 2825, '2845': 2826, '305': 2827, '2836': 2828, '2846': 2829, '2847': 2830, '2848': 2831, '2849': 2832, '2850': 2833, '2851': 2834, '2852': 2835, '2853': 2836, '2854': 2837, '2855': 2838, '2438': 2839, '2856': 2840, '2857': 2841, '2858': 2842, '2323': 2843, '2859': 2844, '2860': 2845, '1389': 2846, '2861': 2847, '2862': 2848, '2863': 2849, '2864': 2850, '2865': 2851, '2866': 2852, '2671': 2853, '2867': 2854, '2868': 2855, '2869': 2856, '2870': 2857, '2871': 2858, '2872': 2859, '2873': 2860, '2874': 2861, '2875': 2862, '2690': 2863, '2876': 2864, '2877': 2865, '2878': 2866, '2879': 2867, '2880': 2868, '2881': 2869, '1842': 2870, '1387': 2871, '2882': 2872, '2883': 2873, '2884': 2874, '2885': 2875, '2886': 2876, '2887': 2877, '2888': 2878, '2889': 2879, '2890': 2880, '2891': 2881, '2892': 2882, '2893': 2883, '2894': 2884, '2895': 2885, '2896': 2886, '2897': 2887, '2898': 2888, '2899': 2889, '2900': 2890, '1727': 2891, '2901': 2892, '2902': 2893, '2903': 2894, '2904': 2895, '2905': 2896, '2906': 2897, '2907': 2898, '2908': 2899, '2909': 2900, '2910': 2901, '2911': 2902, '2912': 2903, '2913': 2904, '2914': 2905, '2519': 2906, '2915': 2907, '2916': 2908, '2917': 2909, '2918': 2910, '2919': 2911, '2920': 2912, '2921': 2913, '2922': 2914, '2923': 2915, '2924': 2916, '2925': 2917, '2463': 2918, '1096': 2919, '2926': 2920, '2927': 2921, '2928': 2922, '2929': 2923, '2930': 2924, '2931': 2925, '2932': 2926, '2933': 2927, '2934': 2928, '2935': 2929, '2936': 2930, '2937': 2931, '2938': 2932, '2939': 2933, '2940': 2934, '2941': 2935, '2942': 2936, '2943': 2937, '2944': 2938, '2945': 2939, '2946': 2940, '2947': 2941, '2948': 2942, '2949': 2943, '2950': 2944, '2951': 2945, '2952': 2946, '2953': 2947, '2954': 2948, '2955': 2949, '2956': 2950, '2784': 2951, '1676': 2952, '2957': 2953, '2958': 2954, '2959': 2955, '2960': 2956, '2961': 2957, '471': 2958, '2962': 2959, '2963': 2960, '2964': 2961, '2965': 2962, '2966': 2963, '2967': 2964, '2618': 2965, '2968': 2966, '2969': 2967, '2970': 2968, '2971': 2969, '2972': 2970, '2973': 2971, '2974': 2972, '1022': 2973, '2975': 2974, '2976': 2975, '2977': 2976, '2978': 2977, '2979': 2978, '2980': 2979, '2981': 2980, '2982': 2981, '2983': 2982, '2984': 2983, '2985': 2984, '2986': 2985, '2987': 2986, '2988': 2987, '2830': 2988, '2989': 2989, '2990': 2990, '2991': 2991, '2992': 2992, '2993': 2993, '2994': 2994, '2995': 2995, '2996': 2996, '2997': 2997, '2998': 2998, '2999': 2999, '3000': 3000, '3001': 3001, '3002': 3002}}\n",
      "# dimensions of final vector: 3003 | 0\n",
      "finish dictionary generation*****\n",
      "num_dim+2 : 3005 code_freq_at_first_claim : [0. 0. 0. ... 0. 0. 0.]\n",
      "Number of training instances: 9234\n",
      "Number of validation instances: 1026\n",
      "Number of test instances: 2565\n",
      "Training Key Set:  ['31', '68', '180', '324', '358', '392', '485', '636', '765', '796', '941', '967', '1015', '1051', '1133', '1163', '1517', '1570', '1965', '2096', '2163', '2187', '2237', '2286', '2336', '2452', '2492', '2561', '2600', '2613', '2640', '2648', '2973', '2974', '2999', '3117', '3211', '3343', '3375', '3699', '3735', '3882', '4068', '4160', '4239', '4240', '4290', '4371', '4373', '4393', '4432', '4451', '4798', '5055', '5145', '5242', '5278', '5356', '5524', '5645', '5649', '5710', '5945', '6025', '6109', '6120', '6161', '6248', '6321', '6335', '6418', '6485', '6546', '6628', '6655', '6689', '6705', '6896', '7019', '7054', '7057', '7061', '7081', '7150', '7182', '7211', '7267', '7275', '7297', '7359', '7400', '7678', '7694', '7835', '7839', '7988', '8003', '8006', '8178', '8207', '8275', '8281', '8306', '8408', '8529', '8604', '8667', '8720', '8972', '9021', '9038', '9126', '9172', '9202', '9333', '9425', '9566', '9612', '9640', '9836', '9872', '9952', '10122', '10193', '10254', '10288', '10291', '10394', '10410', '10440', '10569', '10665', '10737', '10821', '10849', '10855', '10947', '10981', '10998', '11063', '11147', '11202', '11216', '11293', '11319', '11487', '11567', '11619', '11686', '11763', '11785', '11900', '12043', '12095', '12185', '12219', '12243', '12276', '12417', '12437', '12445', '12545', '12567', '12620', '12684', '12942', '13089', '13320', '13333', '13380', '13382', '13583', '13652', '13714', '13729', '13862', '13907', '13978', '14076', '14104', '14179', '14403', '14425', '14434', '14476', '14556', '14800', '14870', '14942', '15061', '15109', '15126', '15159', '15256', '15578', '15781', '15812', '16157', '16193', '16251', '16266', '16333', '16361', '16442', '16566', '16579', '16688', '16812', '16842', '17025', '17026', '17091', '17101', '17145', '17207', '17446', '17479', '17481', '17522', '17613', '17641', '17649', '17650', '17687', '17693', '17715', '17773', '17837', '17899', '17918', '17979', '17996', '18022', '18049', '18068', '18074', '18096', '18100', '18116', '18399', '18425', '18437', '18474', '18547', '18745', '18833', '18874', '18935', '19134', '19168', '19229', '19400', '19416', '19647', '19708', '19867', '19923', '19963', '20105', '20159', '20405', '20508', '20546', '20635', '20901', '20924', '20947', '21015', '21026', '21099', '21218', '21648', '21700', '21726', '21815', '21828', '22003', '22157', '22169', '22311', '22767', '22778', '22821', '22825', '22851', '22928', '22951', '22990', '23154', '23189', '23210', '23219', '23224', '23247', '23357', '23769', '23934', '23984', '24168', '24451', '24507', '24550', '24585', '24599', '24696', '24830', '24846', '24960', '25062', '25126', '25138', '25309', '25366', '25455', '25476', '25494', '25615', '25632', '25634', '25648', '25664', '25706', '25794', '25829', '25856', '25882', '25921', '26008', '26057', '26491', '26540', '26563', '26586', '26714', '26738', '26804', '26892', '26939', '26986', '27028', '27081', '27161', '27210', '27263', '27353', '27434', '27558', '27619', '27748', '27786', '27838', '27842', '27889', '27903', '28049', '28107', '28109', '28215', '28393', '28426', '28440', '28448', '28467', '28596', '28810', '29012', '29074', '29113', '29312', '29338', '29355', '29388', '29511', '29792', '29810', '29829', '29855', '29934', '29945', '30144', '30156', '30409', '30666', '30731', '30877', '30938', '31002', '31063', '31121', '31147', '31465', '31562', '31656', '31680', '31691', '31709', '31775', '31874', '32024', '32043', '32239', '32346', '32499', '32610', '32696', '32732', '32847', '32865', '32869', '32894', '33027', '33088', '33115', '33140', '33264', '33312', '33405', '33571', '33649', '33650', '33657', '33748', '33896', '33914', '34022', '34092', '34138', '34188', '34324', '34432', '34462', '34478', '34581', '34677', '34720', '34731', '34767', '34804', '34865', '34866', '34878', '34915', '34942', '35191', '35221', '35238', '35471', '35516', '35546', '35703', '35710', '35711', '35748', '35828', '35832', '35840', '35986', '36044', '36045', '36047', '36213', '36217', '36225', '36357', '36410', '36454', '36578', '36597', '36631', '36638', '36667', '36691', '36692', '36731', '36795', '36824', '36889', '36917', '37014', '37032', '37033', '37034', '37041', '37102', '37236', '37241', '37321', '37353', '37431', '37488', '37553', '37589', '37668', '38017', '38155', '38205', '38391', '38424', '38518', '38601', '38625', '38778', '38815', '38960', '39030', '39088', '39112', '39175', '39346', '39472', '39611', '39651', '39723', '39761', '39800', '39995', '40008', '40018', '40078', '40168', '40176', '40441', '40486', '40501', '40517', '40607', '40643', '40767', '40955', '41081', '41099', '41196', '41263', '41352', '41463', '41465', '41500', '41570', '41666', '41781', '41862', '41912', '41934', '41966', '41972', '42015', '42143', '42183', '42237', '42319', '42399', '42414', '42433', '42519', '42553', '42555', '42585', '42602', '42693', '42787', '42788', '42839', '42869', '43029', '43172', '43264', '43311', '43324', '43496', '43531', '43571', '43592', '43621', '43640', '43674', '43813', '43825', '43832', '44074', '44619', '44825', '44877', '44884', '44974', '44984', '45335', '45614', '45800', '45811', '45825', '45850', '45858', '45952', '46171', '46176', '46245', '46247', '46348', '46418', '46555', '46641', '46654', '46657', '46733', '46769', '46783', '46837', '46939', '46969', '46974', '47240', '47409', '47630', '47672', '47742', '47760', '47816', '48002', '48082', '48116', '48166', '48205', '48281', '48301', '48367', '48485', '48496', '48531', '48566', '48595', '48681', '48846', '49123', '49177', '49192', '49291', '49306', '49544', '49572', '49580', '49652', '49720', '49727', '49743', '49799', '49866', '49931', '50055', '50286', '50306', '50331', '50392', '50550', '50598', '50696', '50699', '50771', '51007', '51022', '51050', '51088', '51101', '51214', '51252', '51307', '51366', '51413', '51487', '51489', '51524', '51538', '51539', '51628', '51932', '52010', '52027', '52209', '52232', '52280', '52306', '52323', '52497', '52510', '52655', '52713', '52749', '52783', '52853', '52863', '52901', '52936', '52944', '53021', '53079', '53081', '53255', '53296', '53404', '53405', '53436', '53464', '53466', '53501', '53646', '53764', '53775', '53798', '53836', '53842', '53887', '54008', '54066', '54075', '54109', '54146', '54155', '54226', '54292', '54455', '54463', '54471', '54895', '54941', '54979', '55162', '55274', '55319', '55406', '55425', '55504', '55824', '55893', '55997', '56014', '56205', '56293', '56340', '56382', '56501', '56552', '56619', '56644', '56807', '56843', '56866', '56913', '56919', '56932', '57009', '57068', '57338', '57365', '57378', '57433', '57471', '57489', '57644', '57878', '57958', '58035', '58085', '58104', '58173', '58262', '58269', '58273', '58280', '58302', '58389', '58479', '58509', '58665', '58685', '58701', '58726', '58748', '58836', '58837', '59143', '59169', '59172', '59239', '59251', '59395', '59426', '59480', '59499', '59549', '59645', '59994', '60134', '60178', '60265', '60294', '60304', '60320', '60415', '60968', '60998', '61087', '61161', '61164', '61188', '61391', '61412', '61508', '61548', '61568', '61829', '61872', '61889', '61907', '61928', '62035', '62044', '62210', '62218', '62328', '62365', '62371', '62394', '62484', '62553', '62704', '62744', '62760', '62771', '62930', '63090', '63118', '63339', '63341', '63428', '63444', '63513', '63576', '63592', '63600', '63629', '63696', '63743', '63837', '63939', '63989', '64122', '64170', '64174', '64249', '64291', '64493', '64559', '64576', '64611', '64658', '64674', '64677', '64821', '64822', '64860', '64865', '65398', '65428', '65577', '65619', '65743', '65771', '65825', '65862', '65901', '66044', '66080', '66097', '66206', '66208', '66238', '66252', '66303', '66355', '66417', '66437', '66486', '66702', '66805', '66859', '66942', '67153', '67193', '67198', '67400', '67514', '67642', '67834', '68025', '68046', '68102', '68263', '68312', '68382', '68414', '68466', '68473', '68507', '68568', '68684', '68694', '68781', '68785', '68809', '68919', '68993', '69043', '69303', '69363', '69469', '69549', '69724', '69795', '69935', '70114', '70138', '70170', '70371', '70423', '70561', '70659', '70752', '70814', '71274', '71290', '71314', '71338', '71427', '71428', '71452', '71512', '71648', '71785', '71864', '71866', '71881', '71898', '71928', '71929', '71941', '72163', '72286', '72340', '72372', '72442', '72537', '72697', '72730', '72768', '72805', '72880', '73025', '73044', '73165', '73181', '73307', '73346', '73459', '73489', '73490', '73637', '73638', '73688', '73754', '73848', '73862', '73868', '73990', '74081', '74244', '74274', '74309', '74411', '74456', '74552', '74583', '74932', '75029', '75135', '75136', '75281', '75501', '75597', '75722', '75764', '75784', '75793', '75997', '76013', '76068', '76161', '76277', '76456', '76460', '76591', '76738', '76850', '76929', '76936', '77056', '77062', '77116', '77199', '77231', '77291', '77397', '77586', '77707', '77848', '77849', '77850', '77881', '78015', '78129', '78305', '78406', '78710', '78755', '78803', '79003', '79230', '79238', '79300', '79354', '79586', '79649', '79738', '79745', '79786', '79787', '79820', '79902', '79934', '80205', '80295', '80352', '80484', '80519', '80542', '80639', '80781', '80876', '80962', '81003', '81184', '81186', '81239', '81265', '81271', '81354', '81406', '81528', '81828', '81894', '82117', '82307', '82389', '82542', '82623', '82646', '82730', '82732', '82736', '82996', '83114', '83129', '83209', '83325', '83333', '83588', '83715', '83783', '83795', '83838', '83871', '83933', '83948', '83955', '84140', '84163', '84171', '84186', '84213', '84279', '84327', '84339', '84387', '84424', '84449', '84490', '84513', '84557', '84635', '84763', '84823', '84873', '84921', '84970', '85007', '85049', '85097', '85139', '85180', '85199', '85493', '85537', '85597', '85637', '85834', '85914', '85931', '85988', '86009', '86093', '86096', '86133', '86249', '86260', '86303', '86304', '86516', '86581', '86591', '86602', '86675', '86719', '86868', '86938', '87002', '87008', '87051', '87071', '87084', '87233', '87235', '87307', '87380', '87413', '87434', '87488', '87589', '87769', '87846', '88043', '88215', '88226', '88358', '88458', '88605', '88622', '88629', '88681', '88691', '88722', '88819', '88920', '89075', '89217', '89220', '89338', '89489', '89596', '89598', '89684', '89792', '89803', '89823', '89974', '90091', '90165', '90179', '90241', '90336', '90354', '90365', '90609', '90702', '90725', '90750', '90822', '90921', '91058', '91068', '91085', '91118', '91124', '91226', '91313', '91405', '91421', '91554', '91727', '91943', '92060', '92093', '92129', '92187', '92213', '92317', '92361', '92430', '92486', '92572', '92589', '92807', '92841', '92842', '92929', '93156', '93295', '93359', '93363', '93762', '93830', '93889', '93913', '93998', '94001', '94025', '94081', '94231', '94286', '94292', '94492', '94547', '94589', '94689', '94728', '94758', '94807', '94900', '94981', '94995', '95003', '95013', '95431', '95625', '95658', '95985', '96036', '96081', '96293', '96357', '96402', '96559', '96563', '96683', '96877', '96880', '96898', '96981', '97236', '97244', '97466', '97516', '97523', '97584', '97757', '97773', '97938', '97968', '97985', '98021', '98148', '98408', '98522', '98546', '98786', '98894', '98943', '99109', '99175', '99255', '99257', '99433', '99456', '99514', '99792', '100055', '100094', '100148', '100198', '100205', '100211', '100215', '100392', '100414', '100462', '100466', '100538', '100585', '100669', '100849', '100896', '100955', '100994', '101011', '101021', '101052', '101179', '101308', '101321', '101452', '101458', '101459', '101576', '101598', '101684', '101787', '101841', '101954', '101997', '102015', '102411', '102464', '102482', '102654', '102711', '102717', '102828', '103024', '103070', '103139', '103342', '103373', '103520', '103523', '103827', '103835', '103886', '103979', '103989', '104003', '104211', '104412', '104496', '104584', '104668', '104704', '104739', '104746', '104812', '104822', '104864', '104897', '104940', '105176', '105338', '105460', '105620', '105647', '105711', '105757', '105769', '105806', '105848', '105932', '105992', '105998', '106001', '106100', '106351', '106489', '106536', '106566', '106578', '106612', '106759', '107077', '107152', '107295', '107374', '107503', '107512', '107826', '107890', '107973', '107986', '107993', '108007', '108047', '108077', '108082', '108087', '108102', '108113', '108218', '108325', '108399', '108413', '108511', '108582', '108612', '108633', '108737', '108763', '108809', '108938', '109079', '109148', '109249', '109276', '109469', '109539', '109660', '109688', '109729', '109741', '109747', '109894', '109972', '109992', '110047', '110063', '110259', '110292', '110335', '110533', '110585', '110597', '110614', '110684', '110717', '110750', '110866', '110910', '111226', '111367', '111469', '111488', '111527', '111539', '111541', '111587', '111666', '111673', '111806', '111827', '111835', '111865', '111882', '111895', '111965', '112056', '112098', '112127', '112202', '112271', '112374', '112442', '112502', '112531', '112548', '112618', '112630', '112752', '112808', '112942', '112958', '112968', '112982', '113099', '113121', '113211', '113296', '113328', '113365', '113439', '113516', '113524', '113593', '113719', '113720', '113753', '113945', '114027', '114173', '114200', '114221', '114412', '114523', '114709', '114735', '114766', '114838', '114898', '114912', '115057', '115123', '115208', '115219', '115244', '115313', '115370', '115397', '115446', '115748', '115880', '115907', '115945', '115963', '116003', '116081', '116139', '116148', '116206', '116306', '116372', '116427', '116489', '116567', '116578', '116653', '116689', '116707', '116745', '116760', '116909', '116912', '117026', '117280', '117287', '117353', '117461', '117566', '117816', '117977', '118036', '118154', '118163', '118258', '118442', '118465', '118556', '118716', '118743', '118761', '118852', '118886', '118887', '118947', '118991', '119110', '119154', '119245', '119291', '119443', '119566', '119705', '119722', '119733', '119786', '119792', '119795', '119821', '119945', '120076', '120179', '120276', '120296', '120301', '120309', '120430', '120438', '120608', '120616', '120719', '120874', '120949', '120950', '121121', '121177', '121256', '121339', '121439', '121478', '121686', '121708', '121828', '121996', '122001', '122012', '122030', '122111', '122249', '122371', '122547', '122652', '122687', '122771', '122832', '122926', '123023', '123128', '123148', '123273', '123368', '123559', '123651', '123709', '123745', '123748', '123760', '123809', '123814', '123939', '124053', '124078', '124146', '124152', '124234', '124237', '124309', '124353', '124440', '124477', '124483', '124514', '124532', '124542', '124702', '124725', '124811', '124825', '124835', '124873', '125050', '125168', '125331', '125412', '125533', '125559', '125660', '125754', '125966', '126062', '126081', '126226', '126379', '126443', '126511', '126756', '126802', '126953', '126981', '126992', '127075', '127088', '127169', '127200', '127247', '127413', '127418', '127501', '127573', '127583', '127593', '127680', '127721', '127889', '127928', '128101', '128111', '128209', '128233', '128246', '128273', '128290', '128306', '128434', '128451', '128466', '128635', '128646', '128686', '128704', '128782', '128860', '128869', '128911', '128986', '129011', '129020', '129036', '129059', '129149', '129259', '129448', '129477', '129617', '129741', '129762', '129834', '130103', '130188', '130276', '130389', '130456', '130613', '130766', '130843', '130968', '130981', '131068', '131145', '131219', '131435', '131690', '131759', '131769', '131927', '131970', '132053', '132082', '132534', '132539', '132567', '132695', '132732', '132750', '132752', '132947', '133261', '133266', '133391', '133458', '133689', '133821', '133948', '134091', '134117', '134137', '134200', '134319', '134441', '134504', '134592', '134836', '135047', '135067', '135140', '135257', '135437', '135475', '135489', '135628', '135766', '135895', '135908', '135970', '136027', '136121', '136130', '136212', '136273', '136316', '136327', '136640', '136648', '137078', '137278', '137321', '137477', '137504', '137559', '137671', '137724', '137762', '137763', '137856', '137997', '138002', '138068', '138404', '138407', '138484', '138505', '138508', '138545', '138584', '138641', '138683', '138734', '139001', '139015', '139036', '139042', '139050', '139054', '139185', '139223', '139234', '139265', '139385', '139488', '139509', '139557', '139598', '139660', '139680', '139690', '139708', '139855', '139856', '139884', '139905', '139919', '140061', '140200', '140236', '140315', '140447', '140492', '140533', '140569', '140695', '140757', '140765', '140863', '140867', '140908', '141040', '141168', '141183', '141209', '141211', '141336', '141436', '141711', '141830', '141855', '141871', '141887', '141978', '141990', '142051', '142056', '142175', '142247', '142262', '142342', '142410', '142525', '142596', '142631', '143110', '143140', '143190', '143258', '143318', '143442', '143474', '143651', '144108', '144137', '144148', '144299', '144317', '144379', '144436', '144586', '144718', '144760', '144901', '145040', '145224', '145253', '145481', '145533', '145543', '145643', '145745', '145913', '146011', '146039', '146249', '146254', '146332', '146337', '146359', '146396', '146426', '146439', '146692', '146828', '146879', '146983', '147039', '147119', '147149', '147263', '147304', '147319', '147492', '147524', '147631', '147681', '147690', '147745', '147859', '147897', '147994', '148005', '148008', '148012', '148102', '148110', '148256', '148403', '148419', '148453', '148484', '148495', '148503', '148580', '149013', '149107', '149113', '149201', '149375', '149414', '149445', '149470', '149613', '149650', '149663', '149702', '149722', '149847', '149916', '149967', '150009', '150017', '150040', '150057', '150129', '150159', '150687', '150695', '150725', '150816', '150831', '150878', '150948', '151037', '151111', '151193', '151206', '151300', '151324', '151450', '151502', '151599', '151609', '151684', '151753', '151758', '151761', '151854', '151880', '151886', '151913', '151928', '151941', '151944', '152026', '152034', '152077', '152098', '152136', '152144', '152199', '152203', '152228', '152264', '152433', '152614', '152784', '152895', '153008', '153011', '153098', '153234', '153253', '153392', '153432', '153544', '153573', '153699', '153766', '153998', '154001', '154176', '154266', '154459', '154616', '154758', '154991', '155047', '155140', '155225', '155289', '155463', '155543', '155565', '155685', '155781', '155801', '155938', '155939', '156000', '156383', '156459', '156528', '156658', '156673', '156689', '156727', '156743', '156863', '156920', '156921', '156987', '157011', '157041', '157236', '157566', '157605', '157631', '157640', '157852', '158002', '158068', '158077', '158172', '158199', '158215', '158236', '158390', '158426', '158544', '158575', '158595', '158829', '158900', '158941', '159216', '159269', '159326', '159353', '159474', '159901', '159999', '160158', '160174', '160178', '160186', '160245', '160287', '160330', '160347', '160404', '160456', '160485', '160489', '160497', '160520', '160545', '160701', '160778', '160791', '160884', '160898', '160968', '161183', '161187', '161224', '161246', '161268', '161299', '161304', '161522', '161531', '161533', '161550', '161805', '161851', '161918', '162018', '162173', '162181', '162388', '162495', '162592', '162650', '162669', '162831', '162857', '162992', '163048', '163060', '163265', '163298', '163671', '163766', '163804', '163864', '163942', '164055', '164074', '164101', '164105', '164158', '164167', '164294', '164430', '164445', '164498', '164536', '164547', '164574', '164647', '164924', '165006', '165099', '165266', '165285', '165356', '165365', '165549', '165784', '165832', '166079', '166193', '166295', '166474', '166592', '166643', '166704', '166752', '166859', '166932', '167015', '167136', '167137', '167265', '167393', '167438', '167568', '167585', '167875', '167917', '167940', '168290', '168343', '168413', '168540', '168589', '168604', '168687', '168732', '168928', '168955', '169018', '169222', '169228', '169231', '169308', '169421', '169454', '169519', '169593', '169647', '169659', '169830', '169831', '169893', '170140', '170185', '170303', '170330', '170541', '170632', '170669', '170672', '170687', '170706', '170775', '170849', '170918', '170990', '171037', '171041', '171113', '171485', '171868', '172029', '172040', '172124', '172142', '172204', '172218', '172290', '172346', '172349', '172413', '172462', '172681', '172751', '172919', '172994', '173030', '173292', '173307', '173502', '173541', '173715', '173942', '173993', '174153', '174281', '174428', '174459', '174522', '174532', '174594', '174597', '174643', '174866', '174949', '175010', '175019', '175075', '175094', '175241', '175256', '175317', '175397', '175566', '175611', '175636', '175639', '175731', '175774', '175944', '175977', '176084', '176116', '176417', '176526', '176608', '176631', '176856', '177021', '177029', '177165', '177186', '177529', '177559', '177935', '178327', '178518', '178572', '178626', '178633', '178852', '178892', '178918', '179082', '179099', '179181', '179186', '179194', '179362', '179637', '179706', '179756', '179898', '179910', '179933', '179955', '180001', '180002', '180030', '180038', '180106', '180154', '180172', '180212', '180577', '180649', '180801', '180851', '180941', '181028', '181045', '181153', '181280', '181382', '181666', '181687', '181787', '181871', '181969', '182046', '182155', '182188', '182258', '182265', '182290', '182300', '182423', '182563', '182575', '182660', '182849', '182850', '182889', '182944', '183065', '183124', '183232', '183301', '183323', '183341', '183444', '183467', '183646', '183650', '183711', '184132', '184159', '184230', '184633', '184644', '184653', '184752', '184838', '184859', '185012', '185110', '185318', '185320', '185562', '185688', '185695', '185824', '185877', '185908', '185941', '185994', '186194', '186203', '186319', '186336', '186354', '186463', '186569', '186677', '186806', '186830', '186952', '187063', '187090', '187094', '187096', '187135', '187175', '187195', '187197', '187285', '187490', '187493', '187520', '187544', '187569', '187608', '187781', '187893', '187946', '187960', '188026', '188069', '188167', '188311', '188450', '188463', '188474', '188581', '188596', '188654', '188673', '188732', '188782', '188809', '188816', '188841', '189017', '189037', '189140', '189165', '189220', '189362', '189401', '189475', '189513', '189577', '189636', '189705', '189737', '189801', '189850', '189889', '189945', '190065', '190110', '190165', '190270', '190323', '190349', '190380', '190398', '190552', '190599', '190695', '190739', '190760', '190792', '190803', '190898', '190913', '190936', '190969', '191031', '191033', '191039', '191064', '191130', '191194', '191339', '191365', '191377', '191384', '191632', '191693', '191857', '191880', '191967', '191980', '192023', '192060', '192061', '192116', '192156', '192237', '192254', '192445', '192481', '192555', '192587', '192665', '192702', '192713', '192741', '192846', '193127', '193221', '193299', '193454', '193460', '193470', '193509', '193539', '193599', '193608', '193673', '193733', '194045', '194065', '194303', '194462', '194678', '194750', '194800', '194874', '194898', '195021', '195435', '195572', '195577', '195684', '195686', '195726', '195830', '195860', '196072', '196078', '196093', '196120', '196168', '196170', '196208', '196339', '196552', '196578', '196612', '196674', '196853', '196873', '196896', '196904', '196963', '196979', '197036', '197094', '197206', '197421', '197534', '197550', '197680', '197700', '197748', '197959', '198085', '198144', '198154', '198210', '198259', '198283', '198447', '198470', '198474', '198484', '198541', '198547', '198614', '198645', '198782', '198783', '198790', '198795', '198813', '198842', '198920', '198976', '199297', '199501', '199621', '199650', '199719', '199855', '199867', '199963', '200035', '200090', '200094', '200105', '200260', '200276', '200344', '200413', '200518', '200646', '200658', '200753', '200769', '201012', '201366', '201399', '201474', '201584', '201633', '201722', '201838', '201979', '202015', '202164', '202183', '202305', '202512', '202589', '202600', '202644', '202659', '202678', '202720', '202752', '202772', '202949', '203019', '203212', '203429', '203440', '203469', '203480', '203507', '203572', '203622', '203652', '203770', '203783', '203927', '203945', '203947', '204115', '204162', '204258', '204281', '204384', '204504', '204514', '204550', '204604', '204614', '204650', '204741', '204743', '204997', '205189', '205220', '205291', '205333', '205390', '205406', '205419', '205656', '205695', '205709', '205811', '205827', '205867', '206103', '206132', '206210', '206217', '206248', '206259', '206271', '206322', '206355', '206480', '206514', '206523', '206560', '206605', '206607', '206609', '206611', '206672', '206708', '206810', '207015', '207064', '207355', '207446', '207729', '207934', '207967', '208042', '208110', '208202', '208252', '208266', '208419', '208458', '208462', '208465', '208517', '208527', '208594', '208735', '208817', '208843', '208892', '208952', '209099', '209192', '209224', '209287', '209311', '209538', '209570', '209577', '209696', '209718', '209876', '209887', '209891', '209894', '209948', '209961', '209971', '210265', '210284', '210327', '210368', '210395', '210563', '210845', '211052', '211141', '211183', '211201', '211253', '211284', '211335', '211350', '211391', '211409', '211528', '211730', '211794', '211801', '211819', '211861', '211879', '212036', '212110', '212256', '212433', '212436', '212441', '212474', '212645', '212667', '212788', '212810', '212873', '212926', '212942', '213037', '213108', '213167', '213193', '213442', '213649', '213682', '213717', '213770', '213810', '213835', '214067', '214147', '214185', '214256', '214352', '214354', '214373', '214446', '214500', '214615', '214626', '214678', '214722', '214940', '215030', '215111', '215112', '215173', '215176', '215236', '215357', '215375', '215422', '215486', '215512', '215524', '215649', '215655', '215691', '216106', '216153', '216249', '216286', '216423', '216466', '216502', '216544', '216763', '216775', '216830', '216867', '216888', '216927', '216991', '217020', '217034', '217110', '217139', '217168', '217328', '217413', '217564', '217576', '217620', '217623', '217626', '217745', '217764', '217804', '217895', '217909', '217922', '217952', '217969', '218025', '218073', '218096', '218130', '218304', '218337', '218607', '218837', '218872', '218887', '218913', '219022', '219118', '219153', '219181', '219198', '219206', '219332', '219345', '219415', '219521', '219652', '219698', '219713', '219818', '219887', '219888', '219907', '220098', '220122', '220133', '220170', '220179', '220324', '220331', '220448', '220455', '220459', '220687', '220772', '220940', '220991', '220996', '221048', '221109', '221140', '221148', '221167', '221247', '221300', '221463', '221487', '221726', '221751', '221841', '221847', '221906', '221960', '221998', '222338', '222404', '222466', '222547', '222895', '222928', '222949', '222961', '222978', '222988', '222992', '223047', '223077', '223348', '223457', '223515', '223604', '223668', '223688', '223796', '223804', '223999', '224047', '224090', '224107', '224251', '224357', '224561', '224569', '224596', '224699', '224813', '224856', '224861', '224903', '224914', '224919', '225023', '225070', '225251', '225283', '225523', '225687', '225720', '225746', '225804', '225928', '226019', '226027', '226159', '226201', '226235', '226236', '226255', '226381', '226430', '226487', '226550', '226553', '226597', '226704', '226760', '226913', '227034', '227052', '227127', '227140', '227244', '227523', '227531', '227593', '227747', '227834', '227887', '227957', '227963', '227986', '227991', '228152', '228208', '228243', '228329', '228336', '228415', '228438', '228517', '228539', '228611', '228891', '228960', '228988', '229083', '229111', '229158', '229470', '229535', '229565', '229638', '229741', '229753', '229858', '229919', '229998', '230110', '230121', '230136', '230265', '230485', '230505', '230592', '230618', '230717', '230755', '230785', '230948', '231023', '231108', '231231', '231275', '231280', '231329', '231360', '231541', '231573', '231691', '232035', '232177', '232251', '232308', '232415', '232446', '232640', '232650', '232663', '232686', '232718', '232742', '232756', '232762', '233088', '233101', '233135', '233140', '233200', '233285', '233316', '233618', '233739', '233743', '233745', '233853', '233881', '233939', '233975', '234175', '234197', '234283', '234355', '234365', '234372', '234376', '234524', '234666', '234688', '234769', '234780', '234967', '234978', '235037', '235170', '235217', '235227', '235250', '235252', '235291', '235374', '235398', '235436', '235512', '235524', '235578', '235695', '235738', '235790', '235902', '235948', '236137', '236251', '236282', '236305', '236313', '236397', '236440', '236472', '236473', '236586', '236667', '236694', '236739', '236835', '236866', '236998', '237001', '237180', '237332', '237412', '237464', '237477', '237500', '237637', '237687', '237793', '237800', '237941', '238111', '238142', '238158', '238222', '238306', '238360', '238658', '238866', '238868', '238940', '239114', '239126', '239173', '239224', '239316', '239380', '239386', '239479', '239564', '239742', '239807', '239881', '239958', '239976', '240044', '240120', '240330', '240333', '240369', '240474', '240508', '240531', '240559', '240645', '240675', '240682', '240761', '240819', '241037', '241155', '241294', '241355', '241407', '241570', '241618', '241832', '241927', '242113', '242225', '242370', '242446', '242484', '242544', '242546', '242555', '242562', '242575', '242595', '242740', '242772', '242937', '243055', '243160', '243410', '243428', '243492', '243537', '243575', '243625', '243653', '243792', '243973', '244166', '244214', '244224', '244228', '244392', '244527', '244622', '244623', '244624', '244638', '244646', '244650', '244690', '244713', '244747', '244795', '244805', '244832', '244888', '244914', '244957', '245025', '245166', '245294', '245360', '245368', '245369', '245400', '245434', '245476', '245574', '245601', '245621', '245658', '245886', '245890', '245929', '245954', '246081', '246153', '246157', '246247', '246356', '246614', '246617', '246840', '246869', '247013', '247040', '247066', '247075', '247093', '247161', '247190', '247294', '247466', '247537', '247745', '247765', '247796', '247941', '247954', '247974', '247986', '248037', '248198', '248228', '248279', '248493', '248521', '248592', '248648', '248757', '248953', '249021', '249058', '249107', '249167', '249241', '249306', '249433', '249778', '249792', '249855', '250042', '250119', '250151', '250269', '250313', '250539', '250737', '250864', '250900', '250962', '250982', '251070', '251076', '251149', '251189', '251191', '251215', '251351', '251468', '251616', '251660', '251687', '251781', '251828', '251853', '251883', '251981', '251988', '252020', '252052', '252092', '252150', '252246', '252365', '252618', '252667', '252704', '252726', '252820', '252990', '253014', '253261', '253320', '253351', '253881', '253987', '254111', '254162', '254181', '254231', '254233', '254304', '254308', '254344', '254370', '254380', '254391', '254439', '254449', '254513', '254737', '254745', '254783', '254909', '254999', '255129', '255267', '255406', '255554', '255663', '255706', '255865', '255955', '256001', '256030', '256112', '256241', '256306', '256351', '256561', '256644', '256692', '256697', '256708', '256723', '256728', '256744', '256958', '257075', '257108', '257263', '257309', '257344', '257428', '257579', '257701', '257777', '257806', '257868', '257907', '258069', '258077', '258082', '258097', '258137', '258241', '258318', '258333', '258356', '258365', '258417', '258495', '258600', '258731', '258867', '258919', '258985', '259002', '259338', '259357', '259458', '259503', '259539', '259556', '259566', '259641', '259899', '260097', '260571', '260638', '260693', '260854', '260943', '261060', '261108', '261192', '261239', '261306', '261465', '261498', '261575', '261665', '261712', '261751', '261888', '261910', '261918', '262004', '262023', '262045', '262079', '262130', '262149', '262188', '262230', '262245', '262532', '262537', '262606', '262687', '262694', '262695', '262740', '262756', '262921', '263035', '263048', '263128', '263152', '263209', '263225', '263346', '263428', '263567', '263650', '263757', '263999', '264144', '264163', '264312', '264422', '264458', '264464', '264468', '264542', '264553', '264599', '264715', '264730', '264764', '264863', '264989', '265015', '265147', '265160', '265232', '265274', '265342', '265510', '265521', '265814', '265898', '266044', '266056', '266102', '266135', '266186', '266390', '266394', '266470', '266596', '266659', '266755', '266770', '266808', '266945', '266989', '267014', '267047', '267194', '267314', '267471', '267586', '267600', '267698', '268086', '268103', '268145', '268146', '268238', '268348', '268422', '268464', '268558', '268657', '268696', '268716', '268978', '269008', '269046', '269068', '269086', '269114', '269404', '269470', '269521', '269569', '269627', '269790', '269997', '270037', '270076', '270225', '270244', '270390', '270420', '270554', '270684', '270846', '270925', '270928', '270962', '271079', '271157', '271178', '271209', '271396', '271448', '271789', '271827', '272007', '272104', '272203', '272270', '272291', '272380', '272467', '272483', '272662', '272832', '272857', '272870', '272899', '272944', '273196', '273637', '273704', '273855', '273859', '273997', '274068', '274126', '274206', '274321', '274349', '274434', '274469', '274477', '274518', '274587', '274700', '274749', '274763', '274865', '275030', '275044', '275061', '275382', '275383', '275476', '275484', '275743', '275746', '275787', '275941', '275986', '275991', '276052', '276118', '276377', '276488', '276524', '276558', '276593', '276637', '276662', '276699', '276824', '276913', '276954', '277021', '277049', '277077', '277130', '277345', '277454', '277617', '277645', '277743', '277866', '277868', '277964', '278008', '278113', '278171', '278184', '278316', '278341', '278522', '278642', '278836', '279029', '279135', '279156', '279227', '279332', '279403', '279441', '279883', '279989', '280010', '280046', '280052', '280102', '280144', '280236', '280241', '280244', '280289', '280293', '280323', '280409', '280420', '280488', '280494', '280547', '280553', '280597', '280628', '280635', '280709', '280724', '280755', '280775', '280812', '281008', '281161', '281187', '281287', '281298', '281427', '281603', '281631', '281730', '281756', '281973', '282009', '282217', '282218', '282332', '282336', '282340', '282413', '282503', '282516', '282521', '282523', '282626', '282740', '282827', '282947', '283027', '283069', '283079', '283140', '283146', '283264', '283314', '283400', '283440', '283497', '283547', '283556', '283693', '283711', '283856', '283944', '284026', '284286', '284403', '284424', '284582', '284641', '284691', '284726', '284758', '284978', '285066', '285178', '285264', '285363', '285430', '285722', '285735', '285736', '285810', '285845', '285872', '286127', '286159', '286306', '286327', '286440', '286514', '286632', '286639', '286689', '286726', '286877', '287149', '287168', '287219', '287314', '287375', '287422', '287530', '287811', '287835', '287845', '287999', '288030', '288159', '288175', '288188', '288259', '288265', '288329', '288520', '288593', '288634', '288675', '288706', '288767', '288802', '288956', '289016', '289033', '289040', '289043', '289261', '289277', '289452', '289621', '289750', '289943', '289982', '289988', '290325', '290495', '290496', '290542', '290608', '290624', '290632', '290735', '290860', '291076', '291103', '291109', '291140', '291179', '291279', '291295', '291388', '291457', '291542', '291671', '291779', '291881', '292036', '292146', '292284', '292387', '292482', '292486', '292724', '293006', '293008', '293023', '293190', '293310', '293719', '293802', '293891', '294024', '294349', '294360', '294450', '294584', '294801', '294860', '294866', '294962', '295434', '295480', '295601', '295662', '295766', '295926', '295930', '296009', '296077', '296344', '296369', '296383', '296509', '296536', '296648', '296684', '296745', '296759', '296795', '296815', '297185', '297253', '297312', '297388', '297395', '297435', '297458', '297474', '297478', '297486', '297521', '297771', '297815', '297926', '297962', '297974', '298040', '298134', '298187', '298382', '298481', '298508', '298527', '298552', '298609', '298672', '298692', '298863', '298934', '298959', '298969', '299037', '299045', '299101', '299134', '299378', '299442', '299527', '299541', '299719', '299807', '299988', '299991', '300045', '300049', '300084', '300151', '300242', '300667', '300670', '300687', '300732', '300775', '300807', '300810', '300834', '301101', '301113', '301254', '301257', '301287', '301305', '301321', '301340', '301526', '301529', '301548', '301584', '301599', '301616', '301618', '301666', '301739', '301769', '301932', '301959', '301970', '302046', '302051', '302312', '302396', '302675', '302721', '302743', '302920', '303022', '303083', '303135', '303155', '303252', '303276', '303318', '303321', '303494', '303505', '304086', '304111', '304137', '304148', '304205', '304595', '304665', '304760', '304837', '304992', '305026', '305179', '305268', '305405', '305434', '305439', '305531', '305608', '305698', '305815', '305851', '305891', '305983', '306050', '306064', '306123', '306173', '306303', '306332', '306571', '306614', '306667', '306704', '306737', '306893', '306915', '306956', '307043', '307377', '307500', '307574', '307582', '307620', '307718', '307721', '307764', '307970', '307994', '308031', '308042', '308267', '308468', '308682', '308697', '308881', '308970', '309090', '309149', '309244', '309419', '309477', '309618', '309718', '309743', '309773', '309780', '309787', '309830', '309885', '310127', '310168', '310301', '310344', '310452', '310473', '310521', '310535', '310623', '310750', '310770', '310919', '311023', '311073', '311208', '311334', '311417', '311666', '311741', '311971', '311977', '312035', '312062', '312078', '312284', '312355', '312369', '312455', '312479', '312706', '312712', '312724', '312759', '312810', '312838', '312877', '313137', '313164', '313302', '313414', '313571', '313612', '313670', '313722', '313858', '313872', '313953', '314149', '314241', '314751', '314771', '314780', '314855', '314856', '314978', '315002', '315043', '315082', '315117', '315221', '315225', '315260', '315521', '315604', '315634', '315783', '315841', '315843', '316095', '316137', '316236', '316237', '316300', '316310', '316427', '316510', '316614', '316684', '316689', '316743', '316800', '316835', '316989', '317035', '317038', '317076', '317091', '317144', '317156', '317284', '317342', '317474', '317599', '317691', '317759', '317800', '318215', '318325', '318383', '318433', '318475', '318552', '318710', '318843', '319004', '319108', '319122', '319352', '319412', '319426', '319449', '319472', '319473', '319476', '319551', '319580', '319660', '319874', '319982', '319989', '319995', '320038', '320043', '320091', '320102', '320347', '320353', '320381', '320463', '320579', '320694', '320697', '320790', '320828', '320922', '320931', '320982', '320983', '321089', '321172', '321302', '321407', '321435', '321509', '321698', '321811', '321957', '322005', '322191', '322221', '322327', '322356', '322454', '322473', '322586', '322669', '322675', '322713', '322717', '322740', '322747', '322826', '322864', '322882', '322985', '323009', '323035', '323212', '323215', '323257', '323281', '323430', '323600', '323610', '323662', '323704', '323746', '323750', '323773', '323812', '323829', '323906', '324074', '324123', '324336', '324390', '324471', '324593', '324627', '324725', '324850', '325009', '325297', '325603', '325692', '325793', '326297', '326497', '326518', '326535', '326763', '326787', '326823', '326881', '327056', '327081', '327131', '327204', '327296', '327357', '327507', '327578', '327688', '327701', '327708', '327819', '327848', '327902', '327979', '328068', '328129', '328246', '328271', '328314', '328367', '328371', '328520', '328543', '328618', '328644', '328651', '328679', '328759', '328780', '328888', '329079', '329171', '329221', '329253', '329362', '329364', '329411', '329424', '329430', '329471', '329603', '329609', '329649', '329683', '329715', '329717', '329740', '329924', '329977', '330060', '330227', '330262', '330512', '330565', '330742', '330772', '330854', '330878', '330941', '330990', '331195', '331299', '331311', '331325', '331364', '331400', '331674', '331683', '331765', '331940', '332040', '332081', '332168', '332270', '332280', '332302', '332325', '332383', '332414', '332572', '332608', '332643', '332669', '332818', '332981', '333013', '333044', '333070', '333119', '333379', '333385', '333590', '333604', '333726', '333874', '334025', '334048', '334087', '334168', '334211', '334232', '334285', '334354', '334362', '334384', '334543', '334709', '334736', '334850', '334873', '334947', '335001', '335053', '335179', '335314', '335315', '335425', '335459', '335722', '335792', '335816', '336164', '336221', '336311', '336314', '336441', '336792', '336796', '337043', '337174', '337191', '337520', '337738', '338072', '338088', '338146', '338171', '338285', '338391', '338411', '338483', '338496', '338503', '338608', '338710', '338920', '339163', '339201', '339232', '339261', '339291', '339327', '339349', '339488', '339540', '339543', '339607', '339682', '339709', '339747', '339761', '339788', '339800', '339925', '339948', '340212', '340267', '340304', '340422', '340481', '340664', '340810', '340862', '341095', '341262', '341550', '341556', '341777', '341818', '341841', '341879', '341889', '341895', '342222', '342329', '342416', '342554', '342632', '342657', '342693', '342884', '343307', '343421', '343467', '343545', '343554', '343692', '343757', '343795', '343845', '343886', '343939', '343989', '344012', '344042', '344078', '344309', '344488', '344542', '344636', '344662', '344684', '344686', '344880', '344928', '345016', '345062', '345109', '345123', '345127', '345215', '345332', '345364', '345376', '345493', '345525', '345541', '345583', '345599', '345661', '345694', '345709', '345771', '345781', '345935', '345964', '345991', '346014', '346062', '346102', '346135', '346231', '346261', '346282', '346383', '346452', '346583', '346608', '346634', '346661', '346746', '346780', '346882', '346915', '346925', '346949', '347006', '347139', '347168', '347208', '347244', '347247', '347285', '347784', '348098', '348130', '348173', '348237', '348320', '348483', '348767', '348770', '348821', '348910', '348939', '348966', '349171', '349193', '349197', '349215', '349234', '349259', '349270', '349354', '349356', '349492', '349632', '349732', '349737', '349784', '349790', '349793', '349815', '349874', '349895', '350003', '350026', '350074', '350159', '350201', '350232', '350291', '350335', '350467', '350489', '350516', '350536', '350557', '350647', '350729', '350794', '350829', '350837', '351062', '351072', '351256', '351258', '351273', '351274', '351369', '351374', '351597', '351613', '351646', '351669', '351764', '351785', '351908', '351912', '351935', '351965', '352021', '352129', '352142', '352224', '352368', '352370', '352497', '352509', '352569', '352631', '352644', '352768', '352772', '352847', '352848', '352990', '353054', '353145', '353395', '353420', '353482', '353899', '353987', '354010', '354034', '354248', '354316', '354454', '354657', '354762', '354776', '354787', '354843', '355089', '355160', '355187', '355429', '355714', '355744', '355888', '356010', '356021', '356022', '356147', '356185', '356226', '356227', '356370', '356377', '356793', '356890', '356922', '356938', '356963', '357096', '357420', '357431', '357437', '357674', '357700', '357741', '357810', '357912', '358082', '358267', '358301', '358643', '358755', '358814', '358900', '358959', '359135', '359260', '359264', '359289', '359300', '359378', '359544', '359706', '359818', '359858', '359925', '360027', '360096', '360359', '360500', '360718', '360821', '360861', '360900', '360951', '361175', '361195', '361244', '361428', '361588', '361880', '361893', '361919', '361976', '361995', '362071', '362250', '362262', '362291', '362424', '362428', '362432', '362513', '362613', '362695', '362712', '362775', '362799', '362850', '362952', '363037', '363226', '363261', '363268', '363341', '363469', '363493', '363498', '363518', '363702', '363761', '363843', '363936', '363957', '364089', '364165', '364171', '364289', '364425', '364729', '364764', '365078', '365364', '365420', '365472', '365482', '365490', '365551', '365663', '365669', '365691', '365721', '365722', '365791', '365906', '365979', '365980', '366129', '366454', '366581', '366602', '366634', '366743', '366756', '366838', '366845', '366890', '366956', '367019', '367053', '367236', '367262', '367304', '367319', '367373', '367377', '367414', '367707', '367833', '367919', '367922', '368015', '368029', '368069', '368116', '368123', '368305', '368376', '368431', '368498', '368736', '368738', '368744', '368859', '368877', '368882', '369015', '369146', '369176', '369401', '369533', '369546', '369583', '369892', '369922', '369981', '370378', '370406', '370536', '370583', '370682', '370963', '370995', '371052', '371056', '371084', '371093', '371164', '371220', '371408', '371444', '371786', '371937', '372086', '372103', '372109', '372166', '372222', '372406', '372597', '372638', '372778', '372856', '372909', '373147', '373202', '373258', '373344', '373349', '373472', '373492', '373594', '373761', '373848', '373941', '374183', '374211', '374230', '374304', '374346', '374424', '374469', '374652', '374680', '374722', '374839', '374966', '374990', '375104', '375140', '375168', '375231', '375279', '375286', '375302', '375499', '375505', '375588', '375636', '375687', '375820', '375845', '375907', '375974', '375983', '376151', '376372', '376491', '376497', '376514', '376845', '376864', '376884', '376946', '377084', '377219', '377264', '377293', '377317', '377322', '377665', '377687', '377728', '377768', '377917', '377977', '378018', '378273', '378321', '378327', '378422', '378430', '378553', '378629', '378661', '378685', '378838', '379100', '379116', '379299', '379354', '379625', '379672', '379678', '379682', '379696', '379799', '379829', '379916', '379972', '380105', '380317', '380430', '380661', '380679', '380768', '380778', '380779', '380801', '380895', '380952', '381034', '381075', '381080', '381097', '381168', '381277', '381404', '381562', '381642', '381706', '381909', '381965', '382260', '382283', '382429', '382466', '382564', '382665', '382701', '382834', '382901', '382913', '382956', '383016', '383047', '383404', '383455', '383463', '383481', '383532', '383626', '383663', '383923', '383938', '383979', '384024', '384299', '384309', '384376', '384436', '384561', '384606', '384627', '384858', '385002', '385006', '385027', '385028', '385073', '385102', '385148', '385237', '385307', '385371', '385401', '385463', '385589', '385668', '385968', '385992', '386051', '386129', '386356', '386477', '386495', '386663', '386785', '386877', '386904', '386971', '386994', '387285', '387391', '387400', '387423', '387432', '387602', '387661', '387833', '387921', '387995', '388045', '388126', '388176', '388276', '388359', '388391', '388527', '388553', '388608', '388744', '388928', '389133', '389154', '389239', '389246', '389287', '389326', '389609', '389740', '389925', '389983', '390053', '390128', '390234', '390450', '390461', '390645', '390675', '390790', '390887', '390982', '391290', '391363', '391618', '391680', '391698', '391788', '391935', '392034', '392078', '392084', '392096', '392212', '392344', '392367', '392422', '392518', '392878', '393000', '393021', '393043', '393193', '393281', '393469', '393498', '393506', '393564', '393588', '393603', '393667', '393715', '393929', '394056', '394214', '394340', '394350', '394406', '394426', '394433', '394449', '394503', '394508', '394526', '394528', '394577', '394609', '394843', '394921', '394936', '395039', '395215', '395242', '395283', '395337', '395352', '395427', '395702', '395726', '395769', '395775', '395868', '395873', '395938', '395969', '395994', '396188', '396225', '396275', '396279', '396365', '396506', '396621', '396792', '396824', '396996', '397008', '397028', '397381', '397524', '397553', '397569', '397587', '397656', '397693', '397819', '397836', '397905', '397955', '398095', '398131', '398287', '398386', '398450', '398557', '398719', '398789', '398826', '398838', '398891', '399076', '399451', '399500', '399911', '400005', '400040', '400078', '400231', '400346', '400383', '400437', '400453', '400534', '400641', '400704', '400728', '400811', '400842', '400871', '400893', '400937', '401018', '401064', '401070', '401108', '401123', '401147', '401150', '401248', '401327', '401632', '401657', '401746', '401762', '401809', '401874', '401904', '401909', '401946', '402017', '402057', '402129', '402165', '402253', '402305', '402333', '402386', '402415', '402599', '402646', '402680', '402698', '402726', '402771', '402774', '402992', '403042', '403059', '403164', '403281', '403319', '403362', '403877', '403880', '404202', '404216', '404397', '404422', '404520', '404537', '404541', '404741', '404787', '404879', '404884', '404890', '404970', '405030', '405094', '405109', '405131', '405259', '405459', '405484', '405492', '405495', '405512', '405521', '405614', '405701', '405821', '405823', '405859', '405964', '406056', '406195', '406252', '406303', '406345', '406389', '406433', '406446', '406483', '406623', '406705', '406727', '406754', '406768', '407107', '407200', '407354', '407359', '407432', '407897', '408043', '408124', '408236', '408461', '408560', '408563', '408758', '408921', '408990', '409193', '409377', '409399', '410097', '410185', '410452', '410549', '410616', '410628', '410755', '410759', '410835', '410855', '410879', '411023', '411035', '411046', '411094', '411100', '411133', '411166', '411466', '411523', '411614', '411644', '411680', '411829', '411862', '411943', '411952', '411961', '412093', '412127', '412131', '412206', '412209', '412246', '412462', '412515', '412587', '412731', '412904', '412962', '412988', '413060', '413135', '413198', '413305', '413357', '413462', '413546', '413620', '413633', '413672', '414139', '414288', '414514', '414810', '414966', '415020', '415194', '415229', '415232', '415247', '415284', '415365', '415453', '415600', '415648', '415675', '415803', '415829', '415842', '415940', '416000', '416082', '416155', '416208', '416327', '416337', '416460', '416483', '416598', '416706', '416872', '416972', '417011', '417110', '417393', '417524', '417537', '417696', '417698', '417856', '418041', '418116', '418204', '418281', '418378', '418511', '418541', '418641', '418663', '418689', '418730', '418775', '418851', '418887', '418968', '418995', '419004', '419042', '419091', '419175', '419469', '419547', '419664', '419719', '419725', '419787', '419791', '419853', '420104', '420167', '420174', '420214', '420228', '420490', '420544', '420547', '420633', '420635', '420652', '420783', '420785', '420831', '420962', '421002', '421032', '421058', '421124', '421153', '421158', '421166', '421210', '421252', '421270', '421291', '421313', '421326', '421354', '421714', '421957', '421967', '421970', '422070', '422087', '422105', '422123', '422161', '422356', '422455', '422558', '422744', '422768', '422786', '422885', '423312', '423370', '423394', '423411', '423519', '423617', '423622', '423654', '423737', '423746', '423785', '423816', '423896', '424154', '424208', '424211', '424245', '424352', '424377', '424442', '424469', '424470', '424715', '424737', '424786', '424789', '424821', '424911', '424964', '425115', '425325', '425415', '425552', '425611', '425722', '425755', '425851', '425900', '425936', '425944', '426154', '426278', '426372', '426666', '426770', '426775', '426985', '427291', '427722', '427911', '427973', '428025', '428036', '428084', '428096', '428149', '428283', '428471', '428807', '428863', '428866', '428909', '429019', '429065', '429092', '429117', '429284', '429304', '429360', '429367', '429421', '429454', '429464', '429541', '429763', '430052', '430103', '430407', '430446', '430655', '430680', '430777', '430824', '430972', '431010', '431045', '431052', '431083', '431120', '431126', '431290', '431405', '431416', '431490', '431709', '431841', '431926', '431994', '432415', '432471', '432693', '432748', '432753', '432775', '432914', '432916', '433067', '433072', '433172', '433224', '433256', '433669', '433803', '434034', '434306', '434373', '434401', '434487', '434566', '434720', '434743', '434786', '434847', '434864', '434937', '434953', '435150', '435250', '435297', '435307', '435335', '435401', '435553', '435603', '435848', '435857', '435873', '435926', '435956', '436188', '436264', '436278', '436351', '436585', '436634', '436724', '436794', '436945', '436970', '436998', '437060', '437074', '437130', '437155', '437157', '437204', '437252', '437255', '437333', '437486', '437589', '437599', '437645', '437731', '437762', '437831', '438041', '438059', '438373', '438489', '438559', '438661', '438724', '438802', '438857', '438879', '438943', '439025', '439215', '439366', '439746', '439748', '439899', '439934', '439955', '439970', '439991', '440074', '440380', '440521', '440715', '440761', '440786', '440810', '440929', '440942', '441080', '441392', '441423', '441516', '441559', '441584', '441761', '441800', '441847', '441867', '441937', '442020', '442120', '442223', '442258', '442282', '442400', '442517', '442683', '442763', '442943', '443141', '443142', '443208', '443211', '443245', '443375', '443376', '443450', '443460', '443565', '443569', '443626', '443861', '443867', '443939', '444038', '444051', '444055', '444078', '444318', '444325', '444370', '444528', '444576', '444610', '444620', '444655', '444682', '444902', '445050', '445058', '445065', '445140', '445227', '445325', '445368', '445422', '445433', '445493', '445505', '445537', '445639', '446004', '446042', '446091', '446149', '446254', '446475', '446573', '446860', '446897', '446917', '446932', '446958', '446999', '447030', '447060', '447171', '447287', '447293', '447348', '447516', '447675', '447715', '447726', '447730', '447748', '447782', '447817', '447928', '448169', '448248', '448321', '448424', '448442', '448778', '448786', '448810', '448812', '448820', '448938', '448940', '449019', '449022', '449053', '449269', '449455', '449693', '449858', '449920', '449976', '449998', '450146', '450210', '450503', '450552', '450580', '450640', '450680', '450687', '450738', '450784', '450912', '450944', '450967', '450968', '450990', '451105', '451140', '451180', '451184', '451267', '451311', '451391', '451404', '451575', '451598', '451658', '451707', '451773', '452196', '452264', '452467', '452472', '452575', '452598', '452652', '452789', '452805', '452828', '452911', '452956', '452961', '452963', '453084', '453093', '453103', '453156', '453174', '453187', '453216', '453336', '453371', '453446', '453459', '453461', '453734', '453749', '453774', '453785', '453980', '454012', '454060', '454085', '454094', '454208', '454276', '454405', '454435', '454436', '454451', '454493', '454593', '454643', '454678', '454704', '454716', '454734', '454810', '454816', '455006', '455122', '455259', '455421', '455499', '455738', '455765', '455778', '455804', '455823', '455884', '456064', '456145', '456209', '456211', '456220', '456392', '456555', '456556', '456557', '456767', '456812', '456859', '457209', '457256', '457285', '457301', '457310', '457422', '457430', '457660', '457752', '457786', '457865', '458019', '458071', '458273', '458274', '458332', '458603', '458687', '458703', '458733', '459076', '459158', '459247', '459259', '459330', '459521', '459586', '459601', '459633', '459675', '459677', '459757', '459762', '459828', '459915', '460058', '460095', '460127', '460197', '460343', '460489', '460527', '460628', '460700', '460773', '460775', '460809', '460958', '460981', '461180', '461188', '461309', '461525', '461532', '461553', '461577', '461647', '461690', '462013', '462029', '462110', '462228', '462385', '462387', '462461', '462589', '462817', '462878', '462887', '462994', '463049', '463139', '463225', '463402', '463525', '463776', '464062', '464138', '464191', '464286', '464295', '464422', '464611', '464624', '464717', '464777', '464833', '464866', '464929', '464939', '464942', '464977', '465154', '465201', '465278', '465400', '465641', '465889', '465926', '465975', '466015', '466034', '466129', '466218', '466229', '466318', '466344', '466389', '466545', '466743', '466748', '466892', '467005', '467076', '467214', '467223', '467253', '467267', '467284', '467303', '467327', '467337', '467465', '467488', '467521', '467527', '467529', '467613', '467666', '467688', '467728', '467731', '467781', '467785', '467872', '467920', '467988', '468134', '468305', '468344', '468418', '468423', '468457', '468472', '468626', '468653', '468679', '468686', '468688', '468731', '468849', '468863', '468999', '469026', '469080', '469100', '469182', '469232', '469246', '469492', '469542', '469579', '469619', '469655', '469665', '469693', '469756', '469823', '469890', '469980', '470064', '470133', '470380', '470389', '470413', '470546', '470662', '471016', '471108', '471156', '471309', '471379', '471417', '471431', '471459', '471461', '471506', '471632', '471670', '471682', '471738', '471745', '471816', '471872', '471903', '471919', '471940', '472080', '472116', '472122', '472203', '472309', '472358', '472374', '472424', '472475', '472669', '472752', '472755', '472757', '472795', '472878', '472943', '472985', '472991', '473092', '473102', '473239', '473372', '473433', '473801', '473822', '473836', '473927', '474012', '474041', '474153', '474309', '474396', '474408', '474467', '474471', '474584', '474588', '474664', '474740', '474788', '475050', '475179', '475246', '475381', '475395', '475560', '475599', '475648', '475740', '475747', '476016', '476058', '476074', '476181', '476315', '476322', '476366', '476408', '476437', '476607', '476759', '476771', '476821', '476850', '476862', '477129', '477223', '477339', '477499', '477566', '477689', '477708', '477759', '477774', '477820', '477848', '477930', '477978', '477987', '478188', '478205', '478223', '478382', '478400', '478506', '478678', '478769', '478778', '478852', '478945', '478990', '479097', '479151', '479270', '479358', '479472', '479525', '479560', '479599', '479647', '479757', '479758', '479770', '479779', '479937', '480069', '480176', '480436', '480450', '480529', '480607', '480611', '480615', '480730', '480839', '481281', '481361', '481448', '481633', '481740', '481944', '482336', '482354', '482397', '482478', '482502', '482532', '482578', '482608', '482669', '482691', '482777', '482790', '482811', '482837', '482881', '482916', '483013', '483167', '483191', '483229', '483317', '483443', '483480', '483508', '483554', '483668', '483790', '483846', '483913', '483996', '484043', '484334', '484336', '484388', '484415', '484458', '484602', '484648', '484697', '484872', '484962', '484988', '485110', '485223', '485451', '485454', '485577', '485598', '485611', '485627', '485674', '485713', '485840', '485866', '485918', '486035', '486170', '486210', '486244', '486318', '486354', '486446', '486457', '486479', '486488', '486564', '486669', '486672', '486759', '486840', '486886', '486913', '486938', '486940', '487013', '487112', '487135', '487210', '487304', '487328', '487479', '487496', '487514', '487712', '487958', '487964', '487979', '487993', '488248', '488271', '488317', '488406', '488560', '488896', '488956', '488957', '489037', '489122', '489192', '489218', '489241', '489254', '489382', '489473', '489569', '489603', '489604', '489608', '489730', '489801', '489977', '489979', '490061', '490121', '490134', '490184', '490448', '490452', '490677', '490751', '490887', '490959', '491104', '491113', '491213', '491509', '491562', '491610', '491816', '491820', '491839', '492160', '492219', '492275', '492314', '492626', '492757', '492812', '492890', '492899', '492979', '493035', '493253', '493283', '493304', '493329', '493416', '493469', '493531', '493648', '493671', '493848', '493922', '493967', '493983', '494026', '494045', '494216', '494231', '494475', '494505', '494598', '494709', '494711', '494817', '494851', '494916', '494997', '495022', '495160', '495305', '495345', '495353', '495659', '495731', '495780', '496034', '496053', '496071', '496112', '496226', '496286', '496363', '496364', '496394', '496563', '496591', '496645', '496681', '496701', '496753', '496862', '496903', '496919', '496961', '496993', '497045', '497108', '497226', '497236', '497274', '497435', '497511', '497518', '497623', '497863', '497893', '498032', '498043', '498054', '498079', '498185', '498254', '498283', '498331', '498373', '498390', '498434', '498447', '498673', '498692', '498738', '498841', '498877', '498878', '498960', '498995', '499135', '499174', '499219', '499265', '499305', '499451', '499482', '499552', '499559', '499671', '499685', '499739', '499740', '499750', '499808', '499816', '499844', '499982', '500097', '500141', '500478', '500698', '500700', '500714', '500742', '500811', '500816', '500825', '500862', '500944', '500973', '501153', '501251', '501314', '501481', '501630', '501783', '501831', '501841', '501852', '501913', '502025', '502086', '502087', '502096', '502155', '502204', '502260', '502262', '502380', '502392', '502410', '502476', '502537', '502568', '502661', '502662', '502792', '503018', '503082', '503095', '503218', '503505', '503578', '503640', '503652', '503822', '503960', '504080', '504109', '504116', '504166', '504260', '504391', '504419', '504436', '504449', '504868', '504892', '504898', '504972', '505040', '505078', '505085', '505138', '505183', '505318', '505630', '505638', '505655', '505699', '505746', '505759', '505770', '505775', '505814', '505842', '505859', '505956', '506023', '506175', '506223', '506271', '506394', '506400', '506446', '506625', '506654', '506775', '506827', '506854', '506874', '506902', '507001', '507011', '507056', '507173', '507204', '507340', '507354', '507464', '507550', '507651', '507960', '508003', '508050', '508157', '508161', '508185', '508469', '508533', '508568', '508582', '508624', '508633', '508681', '508753', '508782', '508807', '508851', '508919', '508977', '509055', '509076', '509089', '509150', '509183', '509206', '509224', '509289', '509329', '509405', '509503', '509568', '509588', '509770', '509796', '509934', '509985', '510125', '510147', '510319', '510368', '510415', '510512', '510886', '510899', '510937', '510959', '511043', '511179', '511182', '511190', '511207', '511233', '511377', '511572', '511589', '511616', '511644', '511680', '511700', '511784', '511838', '511881', '511980', '512018', '512027', '512065', '512147', '512267', '512281', '512370', '512534', '512657', '512666', '512740', '512899', '512967', '513111', '513162', '513302', '513387', '513455', '513481', '513550', '513631', '513671', '513899', '513912', '514011', '514059', '514083', '514085', '514195', '514223', '514235', '514254', '514292', '514424', '514532', '514587', '514609', '514663', '514685', '514813', '514820', '514908', '514933', '514983', '515136', '515363', '515426', '515471', '515523', '515563', '515710', '515777', '515785', '515799', '515876', '515991', '516002', '516016', '516043', '516150', '516192', '516304', '516535', '516560', '516620', '516709', '516734', '516856', '516866', '517005', '517027', '517139', '517247', '517442', '517495', '517648', '517809', '517867', '517886', '517902', '517929', '518069', '518117', '518246', '518353', '518366', '518487', '518648', '518724', '519024', '519029', '519048', '519081', '519141', '519214', '519243', '519305', '519308', '519350', '519397', '519504', '519619', '519738', '519811', '519884', '519963', '519965', '520015', '520046', '520210', '520262', '520264', '520295', '520317', '520372', '520468', '520483', '520486', '520495', '520623', '520658', '520678', '520719', '520762', '520763', '520801', '520843', '520851', '520907', '521140', '521169', '521234', '521329', '521584', '521610', '521759', '521802', '521813', '521912', '522003', '522022', '522068', '522125', '522666', '522717', '522789', '522831', '522874', '522881', '522907', '522951', '523106', '523115', '523211', '523262', '523298', '523416', '523470', '523641', '523654', '523817', '523820', '523954', '524123', '524182', '524208', '524622', '524656', '524661', '524743', '524835', '524859', '524971', '525037', '525152', '525166', '525262', '525372', '525510', '525539', '525575', '525630', '525729', '525732', '525799', '525851', '525986', '526083', '526105', '526107', '526221', '526245', '526273', '526287', '526319', '526345', '526360', '526433', '526524', '526535', '526546', '526602', '526755', '527112', '527161', '527247', '527253', '527474', '527478', '527543', '527559', '527634', '527658', '527679', '527712', '527791', '528111', '528171', '528176', '528238', '528292', '528318', '528359', '528533', '528538', '528555', '528558', '528796', '528833', '528927', '528950', '528993', '528997', '528999', '529063', '529095', '529160', '529293', '529329', '529363', '529526', '529616', '529745', '529769', '529967', '530025', '530088', '530158', '530182', '530206', '530338', '530415', '530514', '530542', '530572', '530588', '530663', '530664', '530736', '530891', '530957', '531008', '531033', '531116', '531170', '531444', '531469', '531553', '531614', '531658', '531767', '531790', '531801', '531818', '531895', '531972', '532300', '532315', '532331', '532401', '532432', '532737', '532757', '532780', '532788', '532855', '532925', '533112', '533201', '533211', '533330', '533358', '533407', '533431', '533693', '533784', '533857', '533890', '534069', '534079', '534217', '534226', '534263', '534298', '534391', '534397', '534408', '534527', '534638', '534760', '534768', '535161', '535342', '535354', '535384', '535440', '535552', '535558', '535710', '536000', '536056', '536089', '536184', '536230', '536390', '536423', '536466', '536503', '536638', '536851', '536869', '536964', '537076', '537203', '537208', '537312', '537333', '537396', '537507', '537538', '537606', '537635', '537777', '537846', '537931', '537961', '537973', '537980', '538046', '538134', '538137', '538225', '538320', '538412', '538413', '538485', '538489', '538511', '538604', '538728', '538831', '538846', '538922', '538964', '538986', '539049', '539068', '539271', '539314', '539456', '539500', '539525', '539534', '539537', '539606', '539894', '539951', '540040', '540090', '540205', '540222', '540294', '540309', '540394', '540404', '540536', '540547', '540571', '540660', '540840', '541038', '541088', '541108', '541203', '541489', '541546', '541547', '541717', '541738', '541757', '541773', '541798', '541893', '541995', '542051', '542083', '542100', '542389', '542490', '542887', '542890', '542963', '543474', '543519', '543553', '543594', '543658', '543753', '543881', '543882', '543918', '543954', '543993', '544040', '544090', '544105', '544192', '544193', '544233', '544287', '544300', '544364', '544489', '544546', '544731', '544805', '544824', '544942', '545090', '545348', '545356', '545466', '545472', '545781', '545892', '546134', '546139', '546173', '546209', '546256', '546287', '546441', '546700', '547127', '547372', '547379', '547438', '547498', '547550', '547557', '547575', '547632', '547744', '547764', '547798', '548034', '548140', '548175', '548202', '548272', '548338', '548383', '548456', '548464', '548485', '548488', '548490', '548646', '548688', '548788', '548860', '548898', '548944', '548968', '548974', '549034', '549059', '549255', '549363', '549393', '549440', '549511', '549606', '549707', '549717', '549767', '549810', '550054', '550172', '550184', '550270', '550295', '550326', '550339', '550394', '550416', '550502', '550826', '550861', '550974', '551148', '551162', '551168', '551172', '551177', '551277', '551297', '551314', '551371', '551483', '551565', '551790', '551848', '551886', '551924', '551948', '552031', '552100', '552227', '552452', '552516', '552686', '552715', '552834', '552892', '552912', '552961', '553092', '553159', '553233', '553352', '553463', '553687', '553751', '553830', '553890', '553891', '553900', '553939', '553985', '554191', '554201', '554210', '554241', '554252', '554261', '554306', '554425', '554547', '554561', '554588', '554685', '554737', '554863', '554877', '555014', '555050', '555074', '555114', '555181', '555274', '555356', '555366', '555494', '555628', '555685', '555689', '555787', '555917', '556075', '556235', '556293', '556297', '556323', '556337', '556486', '556756', '556822', '556868', '556901', '557071', '557160', '557255', '557354', '557389', '557503', '557626', '557707', '557776', '557817', '557847', '557986', '558142', '558160', '558184', '558240', '558265', '558459', '558548', '558652', '558689', '558702', '558834', '558976', '558999', '559035', '559283', '559360', '559434', '559564', '559827', '559939', '560034', '560104', '560160', '560210', '560559', '560570', '560588', '560610', '560674', '560722', '560725', '560748', '560802', '560842', '560880', '560929', '561133', '561246', '561449', '561560', '561751', '561768', '561820', '561961', '562045', '562047', '562090', '562101', '562256', '562260', '562281', '562288', '562469', '562495', '562573', '562712', '562849', '562868', '563062', '563120', '563134', '563190', '563278', '563344', '563431', '563445', '563682', '563684', '563893', '563902', '563996', '564001', '564065', '564134', '564240', '564291', '564324', '564507', '564553', '564591', '564651', '564666', '564733', '564885', '565078', '565150', '565242', '565260', '565324', '565404', '565491', '565498', '565512', '565539', '565593', '565769', '565787', '565956', '566090', '566101', '566105', '566139', '566168', '566197', '566237', '566247', '566292', '566341', '566380', '566382', '566401', '566567', '566619', '566622', '566760', '566858', '567170', '567269', '567307', '567323', '567374', '567416', '567436', '567657', '567828', '568021', '568058', '568154', '568171', '568850', '568896', '568908', '568918', '568930', '569036', '569198', '569223', '569260', '569306', '569400', '569459', '569509', '569538', '569731', '570004', '570091', '570105', '570226', '570369', '570509', '570516', '570575', '570609', '570839', '570845', '570860', '570876', '570889', '571024', '571143', '571151', '571262', '571397', '571505', '571716', '571764', '571818', '571912', '572006', '572094', '572115', '572147', '572177', '572284', '572290', '572294', '572503', '572863', '572969', '573021', '573043', '573055', '573226', '573252', '573295', '573370', '573528', '573601', '573710', '573762', '573840', '573858', '573879', '573892', '573924', '573935', '574022', '574025', '574175', '574237', '574382', '574401', '574627', '574754', '574784', '574786', '574968', '575079', '575146', '575181', '575216', '575297', '575352', '575394', '575398', '575546', '575554', '575602', '575645', '575731', '575797', '576044', '576089', '576126', '576176', '576298', '576449', '576483', '576555', '576575', '576683', '576928', '577076', '577084', '577117', '577126', '577268', '577431', '577538', '577544', '577719', '577874', '578085', '578104', '578178', '578180', '578303', '578865', '578957', '579061', '579095', '579253', '579585', '579606', '579694', '579758', '579811', '579958', '579994', '580026', '580102', '580120', '580127', '580366', '580454', '580459', '580463', '580605', '580634', '580638', '580708', '580723', '580789', '580860', '580933', '581089', '581090', '581118', '581248', '581255', '581332', '581582', '581586', '581661', '581664', '581726', '581903', '581947', '582037', '582094', '582107', '582179', '582236', '582368', '582370', '582494', '582504', '582529', '582534', '582929', '583034', '583115', '583266', '583271', '583380', '583387', '583462', '583565', '583608', '583628', '583690', '583752', '583902', '583941', '583999', '584121', '584197', '584250', '584316', '584368', '584429', '584634', '584802', '584838', '584972', '585074', '585091', '585245', '585322', '585355', '585401', '585426', '585441', '585458', '585489', '585657', '585705', '585869', '585892', '585983', '586101', '586225', '586226', '586299', '586316', '586420', '586449', '586533', '586602', '586648', '586911', '586924', '586979', '587098', '587230', '587293', '587430', '587520', '587584', '587709', '587734', '587818', '587926', '587968', '587985', '588082', '588085', '588172', '588350', '588366', '588398', '588539', '588599', '588608', '588617', '588626', '588649', '588670', '588776', '588789', '588795', '588945', '588974', '589051', '589263', '589277', '589375', '589380', '589437', '589471', '589480', '589494', '589512', '589519', '589759', '589800', '589838', '589912', '589961', '589980', '590127', '590203', '590424', '590459', '590674', '590728', '590772', '590823', '590881', '590978', '591017', '591119', '591148', '591250', '591373', '591519', '591831', '592031', '592152', '592161', '592170', '592192', '592223', '592477', '592626', '592673', '592691', '592694', '592706', '592768', '592917', '592976', '593013', '593050', '593103', '593126', '593399', '593462', '593489', '593575', '593615', '593630', '593966', '594025', '594090', '594164', '594174', '594257', '594279', '594366', '594380', '594506', '594546', '594570', '594638', '594669', '594683', '594722', '594730', '594963', '595042', '595290', '595301', '595362', '595480', '595661', '595766', '595897', '595947', '595961', '596000', '596148', '596388', '596393', '596439', '596489', '596535', '596543', '596552', '596576', '596743', '596870', '596919', '596976', '597040', '597213', '597315', '597320', '597441', '597484', '597532', '597598', '597611', '597669', '597672', '597681', '598095', '598162', '598255', '598287', '598330', '598445', '598512', '598607', '598619', '598882', '598967', '599008', '599053', '599127', '599183', '599445', '599501', '599607', '599713', '599766', '599781', '599782', '599837', '599874', '600030', '600055', '600058', '600087', '600133', '600215', '600245', '600277', '600338', '600406', '600407', '600507', '600508', '600536', '600631', '600766', '600806', '600820', '601009', '601038', '601090', '601161', '601459', '601552', '601653', '601666', '601737', '601919', '602171', '602192', '602350', '602386', '602435', '602449', '602454', '602589', '602608', '602646', '602660', '602727', '602756', '602942', '602966', '602982', '603019', '603021', '603235', '603459', '603466', '603467', '603834', '603911', '603965', '604018', '604066', '604086', '604113', '604232', '604737', '604752', '604771', '604784', '604794', '604934', '604986', '605044', '605063', '605323', '605486', '605520', '605574', '605739', '605802', '605809', '605833', '605839', '606131', '606265', '606350', '606491', '606502', '606696', '606715', '606729', '606774', '606919', '606991', '607008', '607345', '607366', '607416', '607417', '607436', '607518', '607653', '607710', '607777', '607787', '607857', '607893', '607967', '608160', '608166', '608217', '608451', '608508', '608812', '608847', '608935', '608955', '609000', '609041', '609045', '609088', '609126', '609165', '609172', '609178', '609304', '609524', '609549', '609823', '609854', '609899', '609925', '609931', '610013', '610049', '610060', '610125', '610198', '610209', '610363', '610412', '610418', '610561', '610648', '610698', '610706', '610748', '610784', '610822', '610889', '610965', '610998', '611109', '611157', '611194', '611223', '611224', '611269', '611301', '611368', '611375', '611386', '611411', '611415', '611509', '611544', '611590', '611595', '611667', '611756', '611847', '611854', '611943', '611980', '612006', '612041', '612150', '612334', '612424', '612595', '612803', '612837', '612844', '612857', '612959', '613012', '613097', '613127', '613194', '613272', '613381', '613404', '613679', '613919', '613948', '613955', '614006', '614273', '614354', '614406', '614657', '614671', '614825', '614832', '614931', '614981', '614991', '615098', '615109', '615190', '615344', '615526', '615539', '615565', '615654', '615727', '615775', '615795', '615847', '615855', '616021', '616140', '616154', '616208', '616212', '616274', '616357', '616619', '616640', '616718', '616793', '616824', '617027', '617126', '617281', '617387', '617406', '617409', '617482', '617755', '617863', '618082', '618109', '618239', '618495', '618538', '618617', '618655', '618698', '618783', '618832', '618862', '619055', '619344', '619376', '619438', '619454', '619629', '619710', '619723', '619956', '619974', '620050', '620123', '620154', '620211', '620241', '620302', '620371', '620636', '620802', '620949', '621075', '621085', '621174', '621257', '621266', '621329', '621361', '621391', '621411', '621464', '621558', '621567', '621660', '621889', '622000', '622091', '622158', '622196', '622257', '622258', '622377', '622432', '622456', '622505', '622603', '622732', '622885', '623011', '623148', '623275', '623355', '623392', '623453', '623556', '623678', '623856', '623887', '623894', '624083', '624115', '624148', '624167', '624346', '624429', '624542', '624580', '624665', '624720', '624724', '624736', '624808', '624927', '625015', '625048', '625053', '625133', '625426', '625431', '625511', '625516', '625566', '625646', '625649', '625659', '625660', '625759', '625790', '626119', '626173', '626203', '626266', '626351', '626435', '626535', '626536', '626704', '626842', '626963', '627283', '627308', '627323', '627362', '627378', '627440', '627444', '627454', '627525', '627555', '627603', '627739', '627766', '627775', '627835', '627915', '628033', '628064', '628079', '628380', '628464', '628686', '628731', '628877', '628894', '628919', '628926', '628927', '629082', '629332', '629362', '629371', '629384', '629439', '629646', '629657', '629666', '629715', '629767', '629812', '629838', '629894', '629945', '629949', '630052', '630080', '630178', '630237', '630275', '630293', '630343', '630388', '630391', '630396', '630475', '630499', '630588', '630782', '630909', '631073', '631100', '631140', '631349', '631414', '631456', '631532', '631547', '631572', '631662', '631736', '631774', '631788', '631808', '631831', '631846', '631852', '631894', '631924', '632120', '632220', '632575', '632620', '632758', '632919', '632949', '633110', '633118', '633249', '633300', '633307', '633315', '633446', '633473', '633630', '633666', '634209', '634233', '634527', '634566', '634704', '634865', '634881', '634950', '634954', '634956', '634961', '634983', '635032', '635194', '635364', '635503', '635592', '635677', '635713', '635726', '635781', '635840', '635856', '635908', '635982', '635983', '635984', '636016', '636052', '636241', '636306', '636345', '636387', '636395', '636613', '636628', '636652', '636661', '636764', '636795', '636985', '637267', '637519', '637549', '637562', '637806', '637816', '637833', '637853', '637883', '637915', '637965', '637976', '637993', '638049', '638196', '638428', '638472', '638543', '638718', '639199', '639243', '639266', '639410', '639504', '639511', '639552', '639584', '639706', '639872', '639898', '639899', '640131', '640255', '640257', '640419', '640515', '640576', '640678', '640720', '640723', '640743', '640847', '640997', '641034', '641169', '641293', '641350', '641352', '641365', '641370', '641519', '641604', '641894', '642010', '642035', '642070', '642075', '642254', '642285', '642298', '642313', '642667', '642672', '642693', '642846', '642875', '642893', '643025', '643076', '643082', '643095', '643328', '643540', '643551', '643666', '643765', '643776', '643956', '644075', '644099', '644189', '644223', '644325', '644348', '644511', '644549', '644589', '644616', '644685', '644802', '644813', '644893', '645081', '645170', '645173', '645244', '645256', '645293', '645303', '645473', '645711', '645715', '645733', '645859', '645933', '646027', '646074', '646076', '646080', '646181', '646228', '646236', '646289', '646384', '646501', '646514', '646541', '646794', '646849', '646900', '646969', '647058', '647098', '647197', '647204', '647346', '647352', '647486', '647542', '647603', '647656', '647680', '647720', '647764', '647828', '648001', '648002', '648037', '648163', '648398', '648454', '648522', '648538', '648556', '648638', '648792', '649078', '649080', '649173', '649182', '649193', '649285', '649306', '649337', '649414', '649449', '649553', '649919', '650277', '650582', '650630', '650736', '650750', '650827', '650857', '650911', '650946', '650997', '651164', '651192', '651254', '651259', '651390', '651443', '651637', '651826', '651883', '651890', '652033', '652055', '652173', '652183', '652207', '652230', '652395', '652434', '652459', '652479', '652595', '652699', '652887', '652889', '652956', '653008', '653035', '653117', '653286', '653316', '653324', '653422', '653489', '653509', '653696', '653959', '653964', '654099', '654126', '654128', '654152', '654189', '654205', '654373', '654480', '654517', '654595', '654623', '654654', '654732', '654760', '654830', '654923', '654951', '655007', '655035', '655267', '655277', '655303', '655327', '655406', '655530', '655562', '655567', '655637', '655731', '655732', '656263', '656280', '656525', '656667', '656865', '656880', '657039', '657052', '657072', '657124', '657140', '657218', '657306', '657330', '657423', '657473', '657502', '657571', '657588', '657644', '657746', '657907', '657934', '657940', '658021', '658087', '658090', '658105', '658305', '658317', '658340', '658386', '658419', '658482', '658526', '658664', '658870', '658909', '658941', '658961', '659132', '659193', '659233', '659333', '659359', '659467', '659497', '659604', '659667', '659867', '659891', '659896', '660115', '660185', '660272', '660287', '660472', '660485', '660586', '660740', '660902', '660935', '660945', '661259', '661414', '661544', '661571', '661576', '661630', '661633', '661642', '661651', '661697', '661808', '662013', '662153', '662161', '662166', '662197', '662242', '662309', '662412', '662532', '662671', '662768', '662782', '662889', '662997', '663011', '663064', '663445', '663506', '663670', '663696', '663750', '663914', '663938', '664117', '664123', '664219', '664242', '664356', '664430', '664445', '664473', '664672', '664802', '664928', '665090', '665093', '665099', '665170', '665186', '665190', '665279', '665360', '665362', '665385', '665418', '665469', '665495', '665539', '665567', '665802', '665888', '665914', '665919', '666008', '666476', '666665', '666732', '666902', '666929', '666948', '667015', '667321', '667374', '667377', '667391', '667421', '667626', '667667', '667683', '667767', '667842', '668034', '668097', '668201', '668216', '668294', '668469', '668535', '668627', '668651', '668687', '668737', '668757', '668815', '668837', '668843', '668868', '668872', '669061', '669065', '669271', '669400', '669411', '669443', '669592', '669611', '669743', '670018', '670027', '670133', '670192', '670218', '670245', '670380', '670422', '670813', '670967', '671028', '671142', '671190', '671197', '671204', '671296', '671369', '671432', '671456', '671494', '671517', '671602', '671626', '671648', '671701', '671715', '671876', '671959', '672223', '672276', '672311', '672543', '672587', '672612', '672618', '672713', '672732', '672770', '672908', '672960', '672963', '673030', '673039', '673124', '673130', '673177', '673243', '673271', '673335', '673359', '673461', '673586', '673622', '673632', '673808', '673847', '673855', '673893', '673963', '674023', '674234', '674259', '674263', '674401', '674439', '674534', '674537', '674647', '674712', '674992', '675025', '675223', '675374', '675429', '675459', '675540', '675615', '675632', '675698', '675935', '676238', '676348', '676360', '676611', '676739', '676805', '677070', '677199', '677232', '677330', '677350', '677502', '677587', '677656', '677666', '677673', '677683', '677714', '677721', '677809', '677876', '677881', '677891', '678019', '678182', '678531', '678624', '678648', '678769', '678780', '678813', '678833', '678841', '678873', '679041', '679053', '679058', '679110', '679113', '679211', '679226', '679353', '679503', '679537', '679778', '679784', '679950', '680112', '680257', '680437', '680468', '680622', '681091', '681123', '681271', '681328', '681367', '681387', '681396', '681437', '681571', '681670', '681715', '681909', '681949', '681989', '681997', '682034', '682148', '682211', '682281', '682292', '682319', '682326', '682347', '682662', '682924', '682985', '683050', '683177', '683230', '683283', '683356', '683491', '683525', '683567', '683656', '683964', '684105', '684330', '684451', '684468', '684598', '684607', '684633', '684655', '684752', '684791', '684814', '684911', '685013', '685049', '685102', '685144', '685157', '685158', '685184', '685240', '685279', '685374', '685430', '685473', '685533', '685559', '685601', '685648', '685660', '685694', '685868', '685886', '685985', '686025', '686176', '686210', '686279', '686342', '686388', '686488', '686596', '686859', '686880', '686931', '686962', '687130', '687141', '687147', '687298', '687382', '687402', '687522', '687525', '687696', '687700', '687751', '687826', '687831', '687870', '687873', '687970', '687999', '688117', '688225', '688311', '688451', '688526', '688560', '688617', '688642', '688672', '688684', '688870', '688924', '688967', '688985', '689004', '689084', '689332', '689349', '689351', '689353', '689371', '689392', '689472', '689475', '689569', '689580', '689700', '689747', '689904', '690335', '690343', '690424', '690458', '690515', '690770', '690796', '690805', '691026', '691106', '691203', '691318', '691378', '691447', '691467', '691602', '691613', '691615', '691641', '691659', '691750', '691802', '691843', '691856', '692133', '692305', '692351', '692380', '692479', '692598', '692639', '692659', '692716', '692826', '692904', '692914', '692915', '693020', '693075', '693106', '693132', '693234', '693323', '693364', '693499', '693521', '693543', '693637', '693659', '693667', '693677', '693714', '693750', '693829', '693876', '693881', '693968', '694007', '694021', '694168', '694235', '694573', '694595', '694695', '694749', '694894', '694914', '694990', '695007', '695054', '695066', '695080', '695111', '695215', '695216', '695220', '695311', '695313', '695332', '695384', '695483', '695495', '695593', '695691', '695738', '695739', '695844', '695983', '696002', '696021', '696154', '696189', '696326', '696348', '696475', '696516', '696615', '696624', '696630', '696670', '696672', '696712', '696767', '696801', '696816', '697004', '697158', '697175', '697202', '697268', '697326', '697377', '697477', '697491', '697492', '697627', '697639', '697734', '697888', '697936', '697957', '697993', '698057', '698060', '698243', '698253', '698343', '698427', '698445', '698490', '698572', '698661', '698707', '698713', '698717', '698726', '698763', '698804', '698861', '699009', '699057', '699085', '699166', '699308', '699538', '699596', '699771', '699889', '699890', '699897', '699999', '700009', '700364', '700480', '700523', '700580', '700648', '700729', '700843', '701102', '701120', '701187', '701295', '701404', '701461', '701532', '701534', '701599', '701659', '701749', '701963', '702058', '702242', '702640', '702675', '702686', '702766', '702787', '702973', '703031', '703099', '703146', '703197', '703252', '703254', '703290', '703383', '703472', '703514', '703602', '703681', '703699', '703785', '703826', '703853', '703873', '703990', '704024', '704043', '704127', '704339', '704457', '704626', '704725', '704789', '704915', '705061', '705192', '705246', '705304', '705373', '705503', '705613', '705804', '705832', '705934', '706072', '706087', '706139', '706175', '706236', '706301', '706308', '706391', '706411', '706412', '706446', '706512', '706711', '706802', '706889', '706935', '707006', '707049', '707270', '707347', '707429', '707451', '707618', '707752', '707772', '707857', '707968', '708114', '708217', '708457', '708463', '708559', '708638', '708710', '708711', '708812', '709013', '709146', '709278', '709330', '709474', '709554', '709581', '709644', '709679', '709842', '709869', '709963', '709992', '709995', '710074', '710116', '710212', '710351', '710419', '710572', '710688', '710695', '710754', '710863', '711012', '711166', '711170', '711278', '711307', '711367', '711420', '711459', '711547', '711694', '711744', '711835', '711892', '711981', '711992', '712008', '712091', '712138', '712148', '712184', '712218', '712249', '712277', '712281', '712354', '712413', '712576', '712606', '712693', '712850', '712910', '713008', '713024', '713192', '713238', '713291', '713392', '713510', '713569', '713597', '713773', '713791', '713886', '713968', '713972', '713990', '714021', '714086', '714089', '714097', '714100', '714132', '714146', '714241', '714256', '714445', '714458', '714486', '714642', '714662', '714819', '714906', '714926', '714935', '714971', '715021', '715054', '715078', '715164', '715299', '715316', '715490', '715524', '715537', '715554', '715555', '715644', '715819', '715821', '715885', '715902', '716027', '716040', '716164', '716189', '716231', '716391', '716393', '716492', '716586', '716745', '716755', '716789', '716821', '716887', '716962', '717018', '717053', '717286', '717340', '717347', '717375', '717396', '717419', '717488', '717500', '717506', '717541', '717712', '717730', '717810', '717824', '717936', '718048', '718128', '718146', '718206', '718233', '718328', '718612', '718629', '718691', '718802', '718891', '718894', '718929', '718947', '718980', '719041', '719091', '719177', '719217', '719274', '719297', '719609', '719718', '719795', '719864', '719925', '720043', '720051', '720108', '720254', '720258', '720445', '720570', '720621', '720641', '720648', '720651', '720652', '720735', '720877', '720983', '720984', '721019', '721095', '721152', '721171', '721209', '721283', '721486', '721557', '721617', '721865', '721906', '722013', '722116', '722135', '722208', '722272', '722283', '722462', '722468', '722478', '722495', '722526', '722611', '722695', '722701', '722750', '722764', '722768', '722939', '723123', '723237', '723449', '723491', '723499', '723516', '723592', '723608', '723714', '723754', '723844', '723853', '723916', '723924', '724518', '725129', '725139', '725185', '725207', '725257', '725297', '725481', '725584', '725702', '725731', '725743', '725774', '725805', '725978', '725996', '726073', '726134', '726178', '726179', '726289', '726307', '726438', '726641', '726762']\n",
      "Num. of top:  65\n",
      "Average Precision:  0.0658029689608637\n",
      "Average Recall:  0.5347278362926627\n",
      "Average F1 Score:  0.10866095366988412\n",
      "Average NDCG:  0.3759972660055472\n"
     ]
    }
   ],
   "source": [
    "def main():\n",
    "\n",
    "    files = ['./data/dunnhumby_history.csv', './data/dunnhumby_future.csv'] # ./data/TaFang_history_NB.csv 跟 ./data/TaFang_future_NB.csv（歷史與未來的兩個檔案）\n",
    "\n",
    "    data_chunk, input_size, code_freq_at_first_claim = read_claim2vector_embedding_file_no_vector(files) # 讀取和處理兩個檔案\n",
    "\n",
    "    training_key_set, validation_key_set, test_key_set = partition_the_data_validate(data_chunk, list(data_chunk[test_chunk]), 1) # 將數據分為訓練、驗證和測試集\n",
    "\n",
    "\n",
    "    # 參數設定\n",
    "    num_nearest_neighbors = 300\n",
    "    within_decay_rate = 0.9\n",
    "    group_decay_rate = 0.6\n",
    "    alpha = 0.7\n",
    "    group_size = 7\n",
    "    topk = 65\n",
    "\n",
    "    print('Num. of top: ', topk)\n",
    "\n",
    "    # 傳入上述參數 ＋ data_chunk、訓練集、測試集\n",
    "    evaluate(data_chunk, training_key_set, test_key_set, input_size,group_size, within_decay_rate, group_decay_rate,num_nearest_neighbors, alpha,  topk)\n",
    "    sys.stdout.flush() # 強制刷新輸出緩衝區，確保所有被緩存的輸出內容都立即被寫入到目標位置\n",
    "\n",
    "if __name__ == '__main__':\n",
    "    main()"
   ]
  }
 ],
 "metadata": {
  "colab": {
   "collapsed_sections": [
    "n2KbdRXoyEbM",
    "mjLqYlpEeX94",
    "beTNBmbjA7lY"
   ],
   "provenance": []
  },
  "kernelspec": {
   "display_name": "Python 3 (ipykernel)",
   "language": "python",
   "name": "python3"
  },
  "language_info": {
   "codemirror_mode": {
    "name": "ipython",
    "version": 3
   },
   "file_extension": ".py",
   "mimetype": "text/x-python",
   "name": "python",
   "nbconvert_exporter": "python",
   "pygments_lexer": "ipython3",
   "version": "3.11.5"
  }
 },
 "nbformat": 4,
 "nbformat_minor": 4
}
