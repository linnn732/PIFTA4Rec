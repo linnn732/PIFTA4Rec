{
 "cells": [
  {
   "cell_type": "code",
   "execution_count": 1,
   "id": "54715ec9",
   "metadata": {},
   "outputs": [],
   "source": [
    "import numpy as np\n",
    "import pandas as pd\n",
    "import tensorflow as tf\n",
    "from sklearn.model_selection import train_test_split\n",
    "import pickle\n",
    "import gzip\n",
    "import os"
   ]
  },
  {
   "cell_type": "code",
   "execution_count": 2,
   "id": "876d31b5",
   "metadata": {},
   "outputs": [],
   "source": [
    "#DATASET_NAME = \"TaFeng\"\n",
    "DATASET_NAME = \"Dunnhumby\""
   ]
  },
  {
   "cell_type": "code",
   "execution_count": 3,
   "id": "982b830c",
   "metadata": {},
   "outputs": [
    {
     "data": {
      "text/html": [
       "<div>\n",
       "<style scoped>\n",
       "    .dataframe tbody tr th:only-of-type {\n",
       "        vertical-align: middle;\n",
       "    }\n",
       "\n",
       "    .dataframe tbody tr th {\n",
       "        vertical-align: top;\n",
       "    }\n",
       "\n",
       "    .dataframe thead th {\n",
       "        text-align: right;\n",
       "    }\n",
       "</style>\n",
       "<table border=\"1\" class=\"dataframe\">\n",
       "  <thead>\n",
       "    <tr style=\"text-align: right;\">\n",
       "      <th></th>\n",
       "      <th>TRANSACTION_DT</th>\n",
       "      <th>PRODUCT_ID</th>\n",
       "      <th>CUSTOMER_ID</th>\n",
       "      <th>CART_ID</th>\n",
       "      <th>NEW_ITEM_ID</th>\n",
       "    </tr>\n",
       "  </thead>\n",
       "  <tbody>\n",
       "    <tr>\n",
       "      <th>0</th>\n",
       "      <td>20060416</td>\n",
       "      <td>PRD0900173</td>\n",
       "      <td>31</td>\n",
       "      <td>0</td>\n",
       "      <td>0</td>\n",
       "    </tr>\n",
       "    <tr>\n",
       "      <th>1</th>\n",
       "      <td>20060416</td>\n",
       "      <td>PRD0900199</td>\n",
       "      <td>31</td>\n",
       "      <td>0</td>\n",
       "      <td>1</td>\n",
       "    </tr>\n",
       "    <tr>\n",
       "      <th>2</th>\n",
       "      <td>20060416</td>\n",
       "      <td>PRD0900867</td>\n",
       "      <td>31</td>\n",
       "      <td>0</td>\n",
       "      <td>2</td>\n",
       "    </tr>\n",
       "    <tr>\n",
       "      <th>3</th>\n",
       "      <td>20060416</td>\n",
       "      <td>PRD0901294</td>\n",
       "      <td>31</td>\n",
       "      <td>0</td>\n",
       "      <td>3</td>\n",
       "    </tr>\n",
       "    <tr>\n",
       "      <th>4</th>\n",
       "      <td>20060416</td>\n",
       "      <td>PRD0901986</td>\n",
       "      <td>31</td>\n",
       "      <td>0</td>\n",
       "      <td>4</td>\n",
       "    </tr>\n",
       "    <tr>\n",
       "      <th>...</th>\n",
       "      <td>...</td>\n",
       "      <td>...</td>\n",
       "      <td>...</td>\n",
       "      <td>...</td>\n",
       "      <td>...</td>\n",
       "    </tr>\n",
       "    <tr>\n",
       "      <th>1786228</th>\n",
       "      <td>20060702</td>\n",
       "      <td>PRD0904693</td>\n",
       "      <td>999976</td>\n",
       "      <td>250579</td>\n",
       "      <td>700</td>\n",
       "    </tr>\n",
       "    <tr>\n",
       "      <th>1786229</th>\n",
       "      <td>20060702</td>\n",
       "      <td>PRD0904813</td>\n",
       "      <td>999976</td>\n",
       "      <td>250579</td>\n",
       "      <td>1715</td>\n",
       "    </tr>\n",
       "    <tr>\n",
       "      <th>1786230</th>\n",
       "      <td>20060702</td>\n",
       "      <td>PRD0903963</td>\n",
       "      <td>999976</td>\n",
       "      <td>250579</td>\n",
       "      <td>1818</td>\n",
       "    </tr>\n",
       "    <tr>\n",
       "      <th>1786231</th>\n",
       "      <td>20060702</td>\n",
       "      <td>PRD0904560</td>\n",
       "      <td>999976</td>\n",
       "      <td>250579</td>\n",
       "      <td>1609</td>\n",
       "    </tr>\n",
       "    <tr>\n",
       "      <th>1786232</th>\n",
       "      <td>20060702</td>\n",
       "      <td>PRD0903056</td>\n",
       "      <td>999976</td>\n",
       "      <td>250579</td>\n",
       "      <td>2410</td>\n",
       "    </tr>\n",
       "  </tbody>\n",
       "</table>\n",
       "<p>1786233 rows × 5 columns</p>\n",
       "</div>"
      ],
      "text/plain": [
       "         TRANSACTION_DT  PRODUCT_ID  CUSTOMER_ID  CART_ID  NEW_ITEM_ID\n",
       "0              20060416  PRD0900173           31        0            0\n",
       "1              20060416  PRD0900199           31        0            1\n",
       "2              20060416  PRD0900867           31        0            2\n",
       "3              20060416  PRD0901294           31        0            3\n",
       "4              20060416  PRD0901986           31        0            4\n",
       "...                 ...         ...          ...      ...          ...\n",
       "1786228        20060702  PRD0904693       999976   250579          700\n",
       "1786229        20060702  PRD0904813       999976   250579         1715\n",
       "1786230        20060702  PRD0903963       999976   250579         1818\n",
       "1786231        20060702  PRD0904560       999976   250579         1609\n",
       "1786232        20060702  PRD0903056       999976   250579         2410\n",
       "\n",
       "[1786233 rows x 5 columns]"
      ]
     },
     "execution_count": 3,
     "metadata": {},
     "output_type": "execute_result"
    }
   ],
   "source": [
    "# Ta Feng Dataset\n",
    "df = pd.read_csv(f'../../cleaned_dataset/{DATASET_NAME}_clean.csv')\n",
    "df"
   ]
  },
  {
   "cell_type": "code",
   "execution_count": 4,
   "id": "ed61d306",
   "metadata": {},
   "outputs": [
    {
     "data": {
      "text/html": [
       "<div>\n",
       "<style scoped>\n",
       "    .dataframe tbody tr th:only-of-type {\n",
       "        vertical-align: middle;\n",
       "    }\n",
       "\n",
       "    .dataframe tbody tr th {\n",
       "        vertical-align: top;\n",
       "    }\n",
       "\n",
       "    .dataframe thead th {\n",
       "        text-align: right;\n",
       "    }\n",
       "</style>\n",
       "<table border=\"1\" class=\"dataframe\">\n",
       "  <thead>\n",
       "    <tr style=\"text-align: right;\">\n",
       "      <th></th>\n",
       "      <th>CUSTOMER_ID</th>\n",
       "      <th>sequence</th>\n",
       "    </tr>\n",
       "  </thead>\n",
       "  <tbody>\n",
       "    <tr>\n",
       "      <th>0</th>\n",
       "      <td>31</td>\n",
       "      <td>0 1 2 3 4 5 6 7 8 9 10|11 12 13|14 15 16 17 4 ...</td>\n",
       "    </tr>\n",
       "    <tr>\n",
       "      <th>1</th>\n",
       "      <td>68</td>\n",
       "      <td>51 52 53 54|55 56 57 58|59 56 60 61 62|63|64 6...</td>\n",
       "    </tr>\n",
       "    <tr>\n",
       "      <th>2</th>\n",
       "      <td>180</td>\n",
       "      <td>151 152 153 154 122 11 155 156 157 62 158 159 ...</td>\n",
       "    </tr>\n",
       "    <tr>\n",
       "      <th>3</th>\n",
       "      <td>324</td>\n",
       "      <td>0 41 242 243 244 231 245 246 139 247 248 110 2...</td>\n",
       "    </tr>\n",
       "    <tr>\n",
       "      <th>4</th>\n",
       "      <td>358</td>\n",
       "      <td>307 0 63 308 309 310 11 311 312 313 158 314 30...</td>\n",
       "    </tr>\n",
       "    <tr>\n",
       "      <th>...</th>\n",
       "      <td>...</td>\n",
       "      <td>...</td>\n",
       "    </tr>\n",
       "    <tr>\n",
       "      <th>12821</th>\n",
       "      <td>999696</td>\n",
       "      <td>130 172|130 1668 1925 2679|130 631 358 1499 17...</td>\n",
       "    </tr>\n",
       "    <tr>\n",
       "      <th>12822</th>\n",
       "      <td>999698</td>\n",
       "      <td>162 1829 1502 1123 1516 778 708|1814 1827 1830...</td>\n",
       "    </tr>\n",
       "    <tr>\n",
       "      <th>12823</th>\n",
       "      <td>999718</td>\n",
       "      <td>2083 568 290 1489 16 274 1081 107 280 558 138 ...</td>\n",
       "    </tr>\n",
       "    <tr>\n",
       "      <th>12824</th>\n",
       "      <td>999934</td>\n",
       "      <td>0 1393 1607 540 2153 67 2362 2520 913 1502 286...</td>\n",
       "    </tr>\n",
       "    <tr>\n",
       "      <th>12825</th>\n",
       "      <td>999976</td>\n",
       "      <td>1977 903 2228 1172 11 2934 62|2736 290 1813 91...</td>\n",
       "    </tr>\n",
       "  </tbody>\n",
       "</table>\n",
       "<p>12826 rows × 2 columns</p>\n",
       "</div>"
      ],
      "text/plain": [
       "       CUSTOMER_ID                                           sequence\n",
       "0               31  0 1 2 3 4 5 6 7 8 9 10|11 12 13|14 15 16 17 4 ...\n",
       "1               68  51 52 53 54|55 56 57 58|59 56 60 61 62|63|64 6...\n",
       "2              180  151 152 153 154 122 11 155 156 157 62 158 159 ...\n",
       "3              324  0 41 242 243 244 231 245 246 139 247 248 110 2...\n",
       "4              358  307 0 63 308 309 310 11 311 312 313 158 314 30...\n",
       "...            ...                                                ...\n",
       "12821       999696  130 172|130 1668 1925 2679|130 631 358 1499 17...\n",
       "12822       999698  162 1829 1502 1123 1516 778 708|1814 1827 1830...\n",
       "12823       999718  2083 568 290 1489 16 274 1081 107 280 558 138 ...\n",
       "12824       999934  0 1393 1607 540 2153 67 2362 2520 913 1502 286...\n",
       "12825       999976  1977 903 2228 1172 11 2934 62|2736 290 1813 91...\n",
       "\n",
       "[12826 rows x 2 columns]"
      ]
     },
     "execution_count": 4,
     "metadata": {},
     "output_type": "execute_result"
    }
   ],
   "source": [
    "# 將資料集按用戶和購物籃分組，然後將商品 ID 轉換成字串\n",
    "grouped = df.groupby(['CUSTOMER_ID', 'CART_ID'])['NEW_ITEM_ID'].apply(lambda x: ' '.join(str(v) for v in x)).reset_index()\n",
    "\n",
    "# 將分組後的資料轉換成序列格式\n",
    "sequences = grouped.groupby('CUSTOMER_ID')['NEW_ITEM_ID'].apply(lambda x: '|'.join(x)).reset_index(name='sequence')\n",
    "\n",
    "# 輸出序列格式的資料集\n",
    "sequences"
   ]
  },
  {
   "cell_type": "code",
   "execution_count": 5,
   "id": "86299653",
   "metadata": {},
   "outputs": [
    {
     "name": "stdout",
     "output_type": "stream",
     "text": [
      "8978 1269 2579\n"
     ]
    }
   ],
   "source": [
    "train_df , test_df = train_test_split(sequences, train_size=0.7, test_size=0.3)\n",
    "valid_df, test_df = train_test_split(test_df, train_size=0.33, test_size=0.67)\n",
    "print(len(train_df), len(valid_df), len(test_df))"
   ]
  },
  {
   "cell_type": "code",
   "execution_count": 6,
   "id": "9016741a",
   "metadata": {},
   "outputs": [
    {
     "data": {
      "text/plain": [
       "6040     787 183 998 2769|2792 321 671 70 2101 1016 256...\n",
       "5298     2824 1240 142 106 1700 1235 415 1435 1310 966 ...\n",
       "4136     371 1350 641 1012 1299 2729 8 196 1492|1526 8|...\n",
       "98       1260 2440 2440 897 897|892 2164|1464 2371 254 ...\n",
       "3615     8|590 11 744|64 973 744 8 1908 421|2297 744 8 ...\n",
       "                               ...                        \n",
       "350      1787 2386 1148 1959 1077|788|372|0 788|289 108...\n",
       "12639    1866|1233 914|1793 1369 2035 495 858 1540 110 ...\n",
       "8231     47 52 378 1275 1275 331 532|88 1275|39 247|929...\n",
       "503      36 2645 64 1881 911 176 2677 338 692 904 696|1...\n",
       "2890     1737 1790|2853|1536 190 2841 1689 2423|36 495 ...\n",
       "Name: sequence, Length: 1269, dtype: object"
      ]
     },
     "execution_count": 6,
     "metadata": {},
     "output_type": "execute_result"
    }
   ],
   "source": [
    "test = pd.DataFrame(valid_df.drop(columns=['CUSTOMER_ID']))\n",
    "test['sequence']"
   ]
  },
  {
   "cell_type": "code",
   "execution_count": 7,
   "id": "b597ba63",
   "metadata": {},
   "outputs": [],
   "source": [
    "if not os.path.exists(\"./data_dir\"):\n",
    "    os.mkdir(\"./data_dir\")\n",
    "pd.DataFrame(train_df.drop(columns=['CUSTOMER_ID'])).to_csv(f'./data_dir/{DATASET_NAME}_train.txt',sep=\"\\n\",index=False,header=False)\n",
    "pd.DataFrame(valid_df.drop(columns=['CUSTOMER_ID'])).to_csv(f'./data_dir/{DATASET_NAME}_validate.txt',sep=\"\\n\",index=False,header=False)\n",
    "pd.DataFrame(test_df.drop(columns=['CUSTOMER_ID'])).to_csv(f'./data_dir/{DATASET_NAME}_test.txt',sep=\"\\n\",index=False,header=False)"
   ]
  },
  {
   "cell_type": "code",
   "execution_count": 8,
   "id": "54a226d4",
   "metadata": {},
   "outputs": [
    {
     "data": {
      "text/plain": [
       "3003"
      ]
     },
     "execution_count": 8,
     "metadata": {},
     "output_type": "execute_result"
    }
   ],
   "source": [
    "len(df['NEW_ITEM_ID'].unique())"
   ]
  }
 ],
 "metadata": {
  "kernelspec": {
   "display_name": "Python 3 (ipykernel)",
   "language": "python",
   "name": "python3"
  },
  "language_info": {
   "codemirror_mode": {
    "name": "ipython",
    "version": 3
   },
   "file_extension": ".py",
   "mimetype": "text/x-python",
   "name": "python",
   "nbconvert_exporter": "python",
   "pygments_lexer": "ipython3",
   "version": "3.11.5"
  }
 },
 "nbformat": 4,
 "nbformat_minor": 5
}
