{
 "cells": [
  {
   "cell_type": "code",
   "execution_count": 1,
   "metadata": {
    "executionInfo": {
     "elapsed": 32,
     "status": "ok",
     "timestamp": 1703345179766,
     "user": {
      "displayName": "林莉庭",
      "userId": "13008527299128023605"
     },
     "user_tz": -480
    },
    "id": "j0fGzVcaGHug"
   },
   "outputs": [],
   "source": [
    "import pandas as pd\n",
    "import gzip\n",
    "import json\n",
    "from tqdm import tqdm\n",
    "\n",
    "dataset = \"Dunnhumby\" # \"TaFeng\" or \"Dunnhumby\""
   ]
  },
  {
   "cell_type": "code",
   "execution_count": 2,
   "metadata": {
    "colab": {
     "base_uri": "https://localhost:8080/"
    },
    "executionInfo": {
     "elapsed": 2280,
     "status": "ok",
     "timestamp": 1703345738182,
     "user": {
      "displayName": "林莉庭",
      "userId": "13008527299128023605"
     },
     "user_tz": -480
    },
    "id": "-E8Ez2MtHc1C",
    "outputId": "3c45aa08-1fc6-4e8d-e571-14abd6412a0e"
   },
   "outputs": [
    {
     "name": "stdout",
     "output_type": "stream",
     "text": [
      "  CUSTOMER_ID  TRANSACTION_DT  ORDER_NUMBER  MATERIAL_NUMBER\n",
      "0          31        20060416             0                0\n",
      "1          31        20060416             0                1\n",
      "2          31        20060416             0                2\n",
      "3          31        20060416             0                3\n",
      "4          31        20060416             0                4\n",
      "[['804580', ['107077', '428025', '402253', '630499', '323812', '52783', '41465', '226027', '537635', '332270', '346608', '143474', '154266', '487479', '90354', '191377', '495345', '629767', '600406', '293802', '52863', '570839', '579253', '162857', '366454', '486759', '198783', '491839', '510368', '344042', '651259', '622257', '691843', '288706', '519963', '207064', '510937', '670018', '172346', '130456', '261575', '523641', '10665', '140492', '444051', '25882', '250864', '215512', '47760', '489192', '266989', '695739', '82732', '334736', '41099', '673586', '441867', '508807', '237637', '297486', '585322', '60968', '521610', '88691', '97938', '512027', '182944', '288329', '501481', '289943', '403281', '62328', '339747', '34878', '51022', '41862', '221167', '365721', '259899', '659359', '611415', '587584', '486488', '663696', '69549', '669592', '497226', '474588', '131435', '580026', '175075', '476759', '722116', '168413', '689700', '211052', '362775', '80962', '29945', '397955', '30144', '155225', '94689', '510886', '79586', '47742', '538986', '338285', '11216', '244650', '168928', '474396', '48205', '531790', '46247', '328129', '622196', '82736', '222547', '188167', '540205', '83948', '136130', '514532', '413305', '539951', '284026', '425722', '387833', '709995', '197036', '490184', '124825', '555114', '90165', '190065', '622732', '380801', '633307', '59994', '238158', '551172', '623887', '361919', '638196', '413620', '305179', '564240', '129259', '339788', '283556', '245601', '511680', '451404', '661642', '584197', '649449', '708114', '247986', '584316', '521912', '688311', '174522', '380952', '379625', '121439', '42399', '561751', '127088', '528833', '671602', '332280', '453093', '199650', '401746', '469080', '262532', '99255', '589494', '440521', '471872', '63600', '333590', '492314', '430407', '398826', '81186', '489604', '200260', '327848', '329471', '303022', '10569', '616140', '701102', '373941', '38017', '51539', '166932', '250900', '661259', '271178', '112968', '589912', '52749', '116567', '196853', '411100', '29934', '500478', '222978', '505040', '507001', '22778', '39175', '33027', '526245', '77231', '72163', '664672', '484648', '485611', '631846', '115219', '412206', '390128', '641350', '657907', '280144', '425851', '256306', '225523', '94292', '497511', '185941', '471379', '333070', '572177', '640997', '575079', '85139', '143318', '459247', '259539', '317474', '345541', '326297', '643956', '683525', '471459', '147859', '688560', '158426', '241407', '673271', '360027', '495160', '503218', '713886', '297312', '507340', '88622', '675459', '411829', '282340', '556337', '459757', '240120', '482336', '537777', '68993', '564651', '105460', '262921', '624115', '258356', '478945', '421313', '100585', '25921', '134200', '200769', '196170', '342632', '75136', '239807', '288188', '168687', '356890', '525729', '482532', '348767', '270554', '261665', '178892', '195860', '206810', '130843', '722750', '167136']]]\n"
     ]
    }
   ],
   "source": [
    "# 讀取CSV文件\n",
    "def read_csv(file_name):\n",
    "    df = pd.read_csv(file_name)\n",
    "    df['CUSTOMER_ID'] = df['CUSTOMER_ID'].astype(str)  # 將 CUSTOMER_ID 轉換為字符串型\n",
    "    return df\n",
    "\n",
    "# 讀取JSON GZ文件\n",
    "def read_json_gz(file_name):\n",
    "    with gzip.open(file_name, 'rt', encoding='utf-8') as f:\n",
    "        data = json.load(f)\n",
    "    # 將用戶ID轉換為字符串型\n",
    "    for pair in data:\n",
    "        pair[0] = str(pair[0])\n",
    "        pair[1] = [str(x) for x in pair[1]]\n",
    "    return data\n",
    "\n",
    "# 使用這些函數讀取您的文件\n",
    "history = read_csv(f'data/{dataset}_history.csv')\n",
    "test_neighbors = read_json_gz(f'data/{dataset}/test_neighbors_for_dlim.json.gz')\n",
    "training_neighbors = read_json_gz(f'data/{dataset}/training_neighbors_for_dlim.json.gz')\n",
    "validation_neighbors = read_json_gz(f'data/{dataset}/validation_neighbors_for_dlim.json.gz')\n",
    "\n",
    "# 顯示讀取的數據（示例）\n",
    "print(history.head())\n",
    "print(test_neighbors[:1])"
   ]
  },
  {
   "cell_type": "code",
   "execution_count": 3,
   "metadata": {},
   "outputs": [
    {
     "name": "stdout",
     "output_type": "stream",
     "text": [
      "不重複的 UserID 數量: 8100\n"
     ]
    }
   ],
   "source": [
    "# 使用集合來計算 validation_neighbors 中不重複的 UserID 數量\n",
    "unique_user_ids = set()\n",
    "for pair in test_neighbors:\n",
    "    unique_user_ids.add(pair[0])\n",
    "    unique_user_ids.update(pair[1])\n",
    "\n",
    "# 計算不重複的 UserID 數量\n",
    "unique_user_ids_count = len(unique_user_ids)\n",
    "print(\"不重複的 UserID 數量:\", unique_user_ids_count)"
   ]
  },
  {
   "cell_type": "code",
   "execution_count": 4,
   "metadata": {
    "colab": {
     "base_uri": "https://localhost:8080/"
    },
    "executionInfo": {
     "elapsed": 67398,
     "status": "ok",
     "timestamp": 1703346240918,
     "user": {
      "displayName": "林莉庭",
      "userId": "13008527299128023605"
     },
     "user_tz": -480
    },
    "id": "p3QK6E9kOE8K",
    "outputId": "d3409a8d-d3d0-4b8b-d38b-dead05a04e58"
   },
   "outputs": [
    {
     "name": "stderr",
     "output_type": "stream",
     "text": [
      "Processing Users: 100%|██████████| 2565/2565 [10:27:12<00:00, 14.67s/it] \n"
     ]
    }
   ],
   "source": [
    "# 初始化一個空的字典來儲存結果\n",
    "result_data = {}\n",
    "\n",
    "# 遍歷每個用戶及其鄰居\n",
    "for pair in tqdm(test_neighbors, desc=\"Processing Users\"):\n",
    "    customer_id = pair[0]  # 用戶ID\n",
    "    neighbors = pair[1]    # 鄰居列表\n",
    "    users = [customer_id] + neighbors\n",
    "\n",
    "    # 對於每個用戶及其鄰居，從 history 中提取交易資訊\n",
    "    for user in users:\n",
    "        user_transactions = history[history['CUSTOMER_ID'] == user]\n",
    "\n",
    "        # 對於相同的 ORDER_NUMBER，將 MATERIAL_NUMBER 組合在一起\n",
    "        grouped_transactions = user_transactions.groupby('ORDER_NUMBER').agg({'MATERIAL_NUMBER': lambda x: tuple(x), 'TRANSACTION_DT': 'first'}).reset_index()\n",
    "\n",
    "        # 將每筆交易的資料以 [(BasketItems, Date)] 的格式添加到字典\n",
    "        transactions = [(row['MATERIAL_NUMBER'], row['TRANSACTION_DT']) for index, row in grouped_transactions.iterrows()]\n",
    "        result_data[user] = transactions"
   ]
  },
  {
   "cell_type": "code",
   "execution_count": 5,
   "metadata": {
    "colab": {
     "base_uri": "https://localhost:8080/"
    },
    "executionInfo": {
     "elapsed": 494,
     "status": "ok",
     "timestamp": 1703346454781,
     "user": {
      "displayName": "林莉庭",
      "userId": "13008527299128023605"
     },
     "user_tz": -480
    },
    "id": "q9DbG236VlDU",
    "outputId": "314bff8a-a07c-4cce-d66b-6ce71f749b6d"
   },
   "outputs": [
    {
     "name": "stderr",
     "output_type": "stream",
     "text": [
      "IOPub data rate exceeded.\n",
      "The Jupyter server will temporarily stop sending output\n",
      "to the client in order to avoid crashing it.\n",
      "To change this limit, set the config variable\n",
      "`--ServerApp.iopub_data_rate_limit`.\n",
      "\n",
      "Current values:\n",
      "ServerApp.iopub_data_rate_limit=1000000.0 (bytes/sec)\n",
      "ServerApp.rate_limit_window=3.0 (secs)\n",
      "\n"
     ]
    }
   ],
   "source": [
    "print(result_data)  # 印出前幾行以檢查\n",
    "print(len(result_data))"
   ]
  },
  {
   "cell_type": "code",
   "execution_count": 6,
   "metadata": {},
   "outputs": [
    {
     "name": "stdout",
     "output_type": "stream",
     "text": [
      "      UserID                                       Transactions\n",
      "0     804580  [((436, 36, 2284, 186, 346, 642, 250), 2006041...\n",
      "1     107077  [((77, 62), 20060410), ((608,), 20060411), ((2...\n",
      "2     428025  [((466, 608, 290, 257, 2634, 1127, 2303, 658, ...\n",
      "3     402253  [((1060,), 20060410), ((1559,), 20060412), ((7...\n",
      "4     630499  [((36,), 20060410), ((2580, 2029, 982, 62, 303...\n",
      "...      ...                                                ...\n",
      "8095  999698  [((162, 1829, 1502, 1123, 1516, 778, 708), 200...\n",
      "8096  999718  [((2083, 568, 290, 1489, 16, 274, 1081, 107, 2...\n",
      "8097  624927  [((308,), 20060410), ((1113, 138, 1796), 20060...\n",
      "8098  103139  [((885, 2426, 1477, 1590, 1110, 1652, 858, 172...\n",
      "8099  999934  [((0, 1393, 1607, 540, 2153, 67, 2362, 2520, 9...\n",
      "\n",
      "[8100 rows x 2 columns]\n"
     ]
    }
   ],
   "source": [
    "# 將字典轉換為 DataFrame\n",
    "result_df = pd.DataFrame(list(result_data.items()), columns=['UserID', 'Transactions'])\n",
    "\n",
    "# 顯示 DataFrame\n",
    "print(result_df)"
   ]
  },
  {
   "cell_type": "code",
   "execution_count": 7,
   "metadata": {},
   "outputs": [
    {
     "name": "stdout",
     "output_type": "stream",
     "text": [
      "test_users_transactions.json.gz 文件已被成功創建並保存。\n"
     ]
    }
   ],
   "source": [
    "with gzip.open(f'data/{dataset}/{dataset}_test_users_transactions.json.gz', 'wt', encoding='UTF-8') as zipfile:\n",
    "    json.dump(result_data, zipfile)\n",
    "\n",
    "print(\"test_users_transactions.json.gz 文件已被成功創建並保存。\")"
   ]
  }
 ],
 "metadata": {
  "colab": {
   "authorship_tag": "ABX9TyOM9TUho8jQq00iAxRZaJXV",
   "provenance": []
  },
  "kernelspec": {
   "display_name": "pifta",
   "language": "python",
   "name": "pifta"
  },
  "language_info": {
   "codemirror_mode": {
    "name": "ipython",
    "version": 3
   },
   "file_extension": ".py",
   "mimetype": "text/x-python",
   "name": "python",
   "nbconvert_exporter": "python",
   "pygments_lexer": "ipython3",
   "version": "3.11.5"
  }
 },
 "nbformat": 4,
 "nbformat_minor": 4
}
