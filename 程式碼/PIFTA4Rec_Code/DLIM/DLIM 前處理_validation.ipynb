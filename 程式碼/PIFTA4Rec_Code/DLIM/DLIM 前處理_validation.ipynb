{
 "cells": [
  {
   "cell_type": "code",
   "execution_count": 1,
   "metadata": {
    "executionInfo": {
     "elapsed": 32,
     "status": "ok",
     "timestamp": 1703345179766,
     "user": {
      "displayName": "林莉庭",
      "userId": "13008527299128023605"
     },
     "user_tz": -480
    },
    "id": "j0fGzVcaGHug"
   },
   "outputs": [],
   "source": [
    "import pandas as pd\n",
    "import gzip\n",
    "import json\n",
    "from tqdm import tqdm\n",
    "\n",
    "dataset = \"Dunnhumby\" # \"TaFeng\" or \"Dunnhumby\""
   ]
  },
  {
   "cell_type": "code",
   "execution_count": 2,
   "metadata": {
    "colab": {
     "base_uri": "https://localhost:8080/"
    },
    "executionInfo": {
     "elapsed": 2280,
     "status": "ok",
     "timestamp": 1703345738182,
     "user": {
      "displayName": "林莉庭",
      "userId": "13008527299128023605"
     },
     "user_tz": -480
    },
    "id": "-E8Ez2MtHc1C",
    "outputId": "3c45aa08-1fc6-4e8d-e571-14abd6412a0e"
   },
   "outputs": [
    {
     "name": "stdout",
     "output_type": "stream",
     "text": [
      "  CUSTOMER_ID  TRANSACTION_DT  ORDER_NUMBER  MATERIAL_NUMBER\n",
      "0          31        20060416             0                0\n",
      "1          31        20060416             0                1\n",
      "2          31        20060416             0                2\n",
      "3          31        20060416             0                3\n",
      "4          31        20060416             0                4\n",
      "[['726826', ['215512', '428025', '362775', '293802', '651259', '154266', '486759', '491839', '489192', '261575', '508807', '487479', '673586', '107077', '29945', '691843', '441867', '52783', '722116', '47760', '51022', '403281', '510937', '62328', '172346', '669592', '659359', '60320', '365721', '584197', '82736', '140492', '34878', '155225', '339747', '226027', '47742', '495345', '168928', '622732', '244650', '162857', '288706', '380801', '11216', '540205', '564240', '168687', '623887', '398826', '444051', '551172', '94689', '413620', '537635', '305179', '361919', '59994', '136130', '510368', '266989', '671602', '191377', '511680', '688311', '41099', '589494', '52749', '198783', '505040', '250900', '127088', '401746', '46247', '600406', '38017', '131435', '561751', '708114', '501481', '283556', '725139', '519963', '630499', '425722', '579253', '701102', '22778', '474396', '373941', '531790', '380952', '29934', '130456', '247986', '333590', '33027', '63600', '526245', '317800', '48205', '489604', '521912', '222547', '514532', '334736', '713024', '72163', '421252', '188167', '190065', '317474', '143318', '425851', '528833', '327357', '221247', '338285', '237637', '683525', '500478', '83948', '221167', '411829', '297312', '39175', '459757', '589912', '379625', '390128', '633307', '564651', '638196', '475246', '482336', '128209', '489473', '661259', '624115', '538986', '471872', '507001', '75136', '83325', '331299', '631846', '346608', '333070', '262921', '471379', '515785', '440521', '97938', '717730', '580102', '643956', '392422', '88691', '663696', '339788', '402253', '494231', '335425', '629767', '225523', '454678', '25648', '80962', '558265', '348767', '713886', '681437', '621257', '303022', '232415', '196896', '657588', '238158', '205695', '264312', '178892', '174532', '338088', '323812', '146396', '640997', '321509', '372597', '695739', '121439', '279989', '261665', '673243', '50286', '60968', '630052', '383016', '573879', '196853', '482532', '575079', '41465', '622257', '259899', '430407', '611301', '222978', '492314', '82732', '377728', '664117', '85139', '132947', '30144', '281187', '10665', '413305', '605802', '211052', '299442', '492275', '485611', '258356', '280144', '88622', '688967', '187063', '617406', '415453', '627323', '400078', '339925', '387833', '585322', '185941', '384561', '134200', '69795', '623275', '400005', '90165', '81186', '519029', '503218', '200260', '589838', '501251', '474740', '506874', '507340', '219887', '317759', '69549', '316095', '617281', '48846', '555114', '469890', '562712', '186194', '486488', '538320', '398450', '478945', '647197', '382901', '87488', '612959', '279332', '309477', '13583', '610561', '468305', '67400', '719795', '223047', '672908', '157852', '611415', '521610', '689332', '87434', '73459', '298672', '532300', '52863', '253881', '620211', '204650', '210284', '116567', '320347', '484648', '698713', '129259', '174522', '6689', '495160', '317599', '167136']]]\n"
     ]
    }
   ],
   "source": [
    "# 讀取CSV文件\n",
    "def read_csv(file_name):\n",
    "    df = pd.read_csv(file_name)\n",
    "    df['CUSTOMER_ID'] = df['CUSTOMER_ID'].astype(str)  # 將 CUSTOMER_ID 轉換為字符串型\n",
    "    return df\n",
    "\n",
    "# 讀取JSON GZ文件\n",
    "def read_json_gz(file_name):\n",
    "    with gzip.open(file_name, 'rt', encoding='utf-8') as f:\n",
    "        data = json.load(f)\n",
    "    # 將用戶ID轉換為字符串型\n",
    "    for pair in data:\n",
    "        pair[0] = str(pair[0])\n",
    "        pair[1] = [str(x) for x in pair[1]]\n",
    "    return data\n",
    "\n",
    "# 使用這些函數讀取您的文件\n",
    "history = read_csv(f'data/{dataset}_history.csv')\n",
    "test_neighbors = read_json_gz(f'data/{dataset}/test_neighbors_for_dlim.json.gz')\n",
    "training_neighbors = read_json_gz(f'data/{dataset}/training_neighbors_for_dlim.json.gz')\n",
    "validation_neighbors = read_json_gz(f'data/{dataset}/validation_neighbors_for_dlim.json.gz')\n",
    "\n",
    "# 顯示讀取的數據（示例）\n",
    "print(history.head())\n",
    "print(validation_neighbors[:1])"
   ]
  },
  {
   "cell_type": "code",
   "execution_count": 3,
   "metadata": {},
   "outputs": [
    {
     "name": "stdout",
     "output_type": "stream",
     "text": [
      "不重複的 UserID 數量: 5662\n"
     ]
    }
   ],
   "source": [
    "# 使用集合來計算 validation_neighbors 中不重複的 UserID 數量\n",
    "unique_user_ids = set()\n",
    "for pair in validation_neighbors:\n",
    "    unique_user_ids.add(pair[0])\n",
    "    unique_user_ids.update(pair[1])\n",
    "\n",
    "# 計算不重複的 UserID 數量\n",
    "unique_user_ids_count = len(unique_user_ids)\n",
    "print(\"不重複的 UserID 數量:\", unique_user_ids_count)"
   ]
  },
  {
   "cell_type": "code",
   "execution_count": 4,
   "metadata": {
    "colab": {
     "base_uri": "https://localhost:8080/"
    },
    "executionInfo": {
     "elapsed": 67398,
     "status": "ok",
     "timestamp": 1703346240918,
     "user": {
      "displayName": "林莉庭",
      "userId": "13008527299128023605"
     },
     "user_tz": -480
    },
    "id": "p3QK6E9kOE8K",
    "outputId": "d3409a8d-d3d0-4b8b-d38b-dead05a04e58"
   },
   "outputs": [
    {
     "name": "stderr",
     "output_type": "stream",
     "text": [
      "Processing Users: 100%|██████████| 1026/1026 [4:16:28<00:00, 15.00s/it] \n"
     ]
    }
   ],
   "source": [
    "# 初始化一個空的字典來儲存結果\n",
    "result_data = {}\n",
    "\n",
    "# 遍歷每個用戶及其鄰居\n",
    "for pair in tqdm(validation_neighbors, desc=\"Processing Users\"):\n",
    "    customer_id = pair[0]  # 用戶ID\n",
    "    neighbors = pair[1]    # 鄰居列表\n",
    "    users = [customer_id] + neighbors\n",
    "\n",
    "    # 對於每個用戶及其鄰居，從 history 中提取交易資訊\n",
    "    for user in users:\n",
    "        user_transactions = history[history['CUSTOMER_ID'] == user]\n",
    "\n",
    "        # 對於相同的 ORDER_NUMBER，將 MATERIAL_NUMBER 組合在一起\n",
    "        grouped_transactions = user_transactions.groupby('ORDER_NUMBER').agg({'MATERIAL_NUMBER': lambda x: tuple(x), 'TRANSACTION_DT': 'first'}).reset_index()\n",
    "\n",
    "        # 將每筆交易的資料以 [(BasketItems, Date)] 的格式添加到字典\n",
    "        transactions = [(row['MATERIAL_NUMBER'], row['TRANSACTION_DT']) for index, row in grouped_transactions.iterrows()]\n",
    "        result_data[user] = transactions"
   ]
  },
  {
   "cell_type": "code",
   "execution_count": 5,
   "metadata": {
    "colab": {
     "base_uri": "https://localhost:8080/"
    },
    "executionInfo": {
     "elapsed": 494,
     "status": "ok",
     "timestamp": 1703346454781,
     "user": {
      "displayName": "林莉庭",
      "userId": "13008527299128023605"
     },
     "user_tz": -480
    },
    "id": "q9DbG236VlDU",
    "outputId": "314bff8a-a07c-4cce-d66b-6ce71f749b6d"
   },
   "outputs": [
    {
     "name": "stderr",
     "output_type": "stream",
     "text": [
      "IOPub data rate exceeded.\n",
      "The Jupyter server will temporarily stop sending output\n",
      "to the client in order to avoid crashing it.\n",
      "To change this limit, set the config variable\n",
      "`--ServerApp.iopub_data_rate_limit`.\n",
      "\n",
      "Current values:\n",
      "ServerApp.iopub_data_rate_limit=1000000.0 (bytes/sec)\n",
      "ServerApp.rate_limit_window=3.0 (secs)\n",
      "\n"
     ]
    }
   ],
   "source": [
    "print(result_data)  # 印出前幾行以檢查\n",
    "print(len(result_data))"
   ]
  },
  {
   "cell_type": "code",
   "execution_count": 6,
   "metadata": {},
   "outputs": [
    {
     "name": "stdout",
     "output_type": "stream",
     "text": [
      "      UserID                                       Transactions\n",
      "0     726826  [((290, 677, 274), 20060415), ((290, 274), 200...\n",
      "1     215512  [((2542,), 20060411), ((1302, 1937, 1990), 200...\n",
      "2     428025  [((466, 608, 290, 257, 2634, 1127, 2303, 658, ...\n",
      "3     362775  [((956, 2971), 20060410), ((349, 1082), 200604...\n",
      "4     293802  [((141, 1881, 62), 20060410), ((1463, 1463), 2...\n",
      "...      ...                                                ...\n",
      "5657  673855  [((2347, 84, 37, 671, 1459, 122, 1898, 1567, 2...\n",
      "5658  330227  [((1536,), 20060511), ((1536, 578), 20060513),...\n",
      "5659  804366  [((1837, 534, 2291, 2736, 2989, 1654, 734, 125...\n",
      "5660  804385  [((36, 144, 305, 2147, 909, 224, 108, 329, 121...\n",
      "5661  804471  [((736, 1141, 11), 20060412), ((0,), 20060413)...\n",
      "\n",
      "[5662 rows x 2 columns]\n"
     ]
    }
   ],
   "source": [
    "# 將字典轉換為 DataFrame\n",
    "result_df = pd.DataFrame(list(result_data.items()), columns=['UserID', 'Transactions'])\n",
    "\n",
    "# 顯示 DataFrame\n",
    "print(result_df)"
   ]
  },
  {
   "cell_type": "code",
   "execution_count": 7,
   "metadata": {},
   "outputs": [
    {
     "name": "stdout",
     "output_type": "stream",
     "text": [
      "validation_users_transactions.json.gz 文件已被成功創建並保存。\n"
     ]
    }
   ],
   "source": [
    "with gzip.open(f'data/{dataset}/{dataset}_validation_users_transactions.json.gz', 'wt', encoding='UTF-8') as zipfile:\n",
    "    json.dump(result_data, zipfile)\n",
    "\n",
    "print(\"validation_users_transactions.json.gz 文件已被成功創建並保存。\")"
   ]
  }
 ],
 "metadata": {
  "colab": {
   "authorship_tag": "ABX9TyOM9TUho8jQq00iAxRZaJXV",
   "provenance": []
  },
  "kernelspec": {
   "display_name": "pifta",
   "language": "python",
   "name": "pifta"
  },
  "language_info": {
   "codemirror_mode": {
    "name": "ipython",
    "version": 3
   },
   "file_extension": ".py",
   "mimetype": "text/x-python",
   "name": "python",
   "nbconvert_exporter": "python",
   "pygments_lexer": "ipython3",
   "version": "3.11.5"
  }
 },
 "nbformat": 4,
 "nbformat_minor": 4
}
