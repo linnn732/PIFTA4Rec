{
 "cells": [
  {
   "cell_type": "code",
   "execution_count": 1,
   "metadata": {
    "executionInfo": {
     "elapsed": 32,
     "status": "ok",
     "timestamp": 1703345179766,
     "user": {
      "displayName": "林莉庭",
      "userId": "13008527299128023605"
     },
     "user_tz": -480
    },
    "id": "j0fGzVcaGHug"
   },
   "outputs": [],
   "source": [
    "import pandas as pd\n",
    "import gzip\n",
    "import json\n",
    "from tqdm import tqdm\n",
    "\n",
    "dataset = \"Dunnhumby\" # \"TaFeng\" or \"Dunnhumby\""
   ]
  },
  {
   "cell_type": "code",
   "execution_count": 2,
   "metadata": {
    "colab": {
     "base_uri": "https://localhost:8080/"
    },
    "executionInfo": {
     "elapsed": 2280,
     "status": "ok",
     "timestamp": 1703345738182,
     "user": {
      "displayName": "林莉庭",
      "userId": "13008527299128023605"
     },
     "user_tz": -480
    },
    "id": "-E8Ez2MtHc1C",
    "outputId": "3c45aa08-1fc6-4e8d-e571-14abd6412a0e"
   },
   "outputs": [
    {
     "name": "stdout",
     "output_type": "stream",
     "text": [
      "  CUSTOMER_ID  TRANSACTION_DT  ORDER_NUMBER  MATERIAL_NUMBER\n",
      "0          31        20060416             0                0\n",
      "1          31        20060416             0                1\n",
      "2          31        20060416             0                2\n",
      "3          31        20060416             0                3\n",
      "4          31        20060416             0                4\n",
      "[['31', ['211052', '428025', '266989', '293802', '107077', '491839', '605802', '215512', '486759', '651259', '495345', '244650', '238158', '487479', '52783', '154266', '172346', '425722', '226027', '441867', '683525', '551172', '365721', '691843', '510937', '140492', '510368', '261575', '403281', '323812', '489192', '198783', '537635', '380801', '579253', '191377', '444051', '412206', '508807', '62328', '47760', '600406', '659359', '453093', '237637', '130456', '51022', '722116', '47742', '332270', '669592', '500478', '155225', '136130', '317474', '82736', '622732', '52749', '162857', '346608', '288706', '34878', '630499', '29945', '283556', '362775', '41099', '339747', '383016', '29934', '688560', '629767', '221167', '671602', '402253', '661642', '511680', '168928', '187135', '540205', '538986', '11216', '623887', '390128', '531790', '343886', '413620', '131435', '94689', '60968', '688967', '259899', '305179', '299442', '663696', '38017', '334736', '63600', '584197', '701102', '474396', '644348', '42399', '673586', '143318', '695739', '59994', '401746', '41465', '688311', '72163', '59645', '48205', '392422', '538320', '589494', '661259', '127088', '611415', '561751', '585322', '708114', '398826', '521912', '271178', '259539', '338285', '486488', '380952', '492314', '190065', '503218', '82732', '89338', '620211', '624115', '250900', '501481', '633307', '526245', '54066', '10665', '333070', '717730', '50286', '489604', '643956', '258356', '22778', '505040', '411829', '75136', '507340', '69549', '373941', '374183', '657124', '222978', '564651', '33027', '514532', '30144', '333590', '247986', '638196', '379625', '175075', '366454', '681437', '425851', '280293', '622257', '52863', '631846', '227244', '448778', '719795', '88691', '507001', '339788', '48846', '495160', '555114', '46247', '459757', '361919', '689700', '344042', '139919', '664117', '471872', '587584', '584316', '688985', '245601', '415453', '185941', '589912', '564240', '709995', '102717', '81186', '202015', '528833', '469080', '256306', '482532', '515785', '297312', '39175', '145253', '482336', '657588', '129259', '188167', '327081', '512027', '440521', '570839', '589838', '222547', '397955', '239807', '225523', '232415', '80962', '280144', '481944', '649449', '121439', '639199', '331299', '13583', '116567', '521610', '475246', '200260', '196853', '562712', '494231', '97938', '519963', '196896', '320694', '471379', '713886', '83948', '10193', '533358', '128209', '4239', '711694', '159474', '90354', '335425', '469890', '168687', '223047', '698713', '326297', '303022', '205695', '580102', '327357', '250864', '714086', '174532', '445050', '151450', '279989', '497226', '197036', '673243', '25648', '92317', '539951', '722750', '457660', '178892', '246869', '558265', '348767', '25882', '611301', '467785', '132947', '570609', '630475', '382901', '85139', '262921', '486457', '495659', '207064', '461647', '182563', '695983', '322740', '99255', '519141']]]\n"
     ]
    }
   ],
   "source": [
    "# 讀取CSV文件\n",
    "def read_csv(file_name):\n",
    "    df = pd.read_csv(file_name)\n",
    "    df['CUSTOMER_ID'] = df['CUSTOMER_ID'].astype(str)  # 將 CUSTOMER_ID 轉換為字符串型\n",
    "    return df\n",
    "\n",
    "# 讀取JSON GZ文件\n",
    "def read_json_gz(file_name):\n",
    "    with gzip.open(file_name, 'rt', encoding='utf-8') as f:\n",
    "        data = json.load(f)\n",
    "    # 將用戶ID轉換為字符串型\n",
    "    for pair in data:\n",
    "        pair[0] = str(pair[0])\n",
    "        pair[1] = [str(x) for x in pair[1]]\n",
    "    return data\n",
    "\n",
    "# 使用這些函數讀取您的文件\n",
    "history = read_csv(f'data/{dataset}_history.csv')\n",
    "test_neighbors = read_json_gz(f'data/{dataset}/test_neighbors_for_dlim.json.gz')\n",
    "training_neighbors = read_json_gz(f'data/{dataset}/training_neighbors_for_dlim.json.gz')\n",
    "validation_neighbors = read_json_gz(f'data/{dataset}/validation_neighbors_for_dlim.json.gz')\n",
    "\n",
    "# 顯示讀取的數據（示例）\n",
    "print(history.head())\n",
    "print(training_neighbors[:1])"
   ]
  },
  {
   "cell_type": "code",
   "execution_count": 3,
   "metadata": {},
   "outputs": [
    {
     "name": "stdout",
     "output_type": "stream",
     "text": [
      "不重複的 UserID 數量: 9234\n"
     ]
    }
   ],
   "source": [
    "# 使用集合來計算 validation_neighbors 中不重複的 UserID 數量\n",
    "unique_user_ids = set()\n",
    "for pair in training_neighbors:\n",
    "    unique_user_ids.add(pair[0])\n",
    "    unique_user_ids.update(pair[1])\n",
    "\n",
    "# 計算不重複的 UserID 數量\n",
    "unique_user_ids_count = len(unique_user_ids)\n",
    "print(\"不重複的 UserID 數量:\", unique_user_ids_count)"
   ]
  },
  {
   "cell_type": "code",
   "execution_count": 4,
   "metadata": {
    "colab": {
     "base_uri": "https://localhost:8080/"
    },
    "executionInfo": {
     "elapsed": 67398,
     "status": "ok",
     "timestamp": 1703346240918,
     "user": {
      "displayName": "林莉庭",
      "userId": "13008527299128023605"
     },
     "user_tz": -480
    },
    "id": "p3QK6E9kOE8K",
    "outputId": "d3409a8d-d3d0-4b8b-d38b-dead05a04e58"
   },
   "outputs": [
    {
     "name": "stderr",
     "output_type": "stream",
     "text": [
      "Processing Users: 100%|██████████| 9234/9234 [37:12:17<00:00, 14.50s/it]   \n"
     ]
    }
   ],
   "source": [
    "# 初始化一個空的字典來儲存結果\n",
    "result_data = {}\n",
    "\n",
    "# 遍歷每個用戶及其鄰居\n",
    "for pair in tqdm(training_neighbors, desc=\"Processing Users\"):\n",
    "    customer_id = pair[0]  # 用戶ID\n",
    "    neighbors = pair[1]    # 鄰居列表\n",
    "    users = [customer_id] + neighbors\n",
    "\n",
    "    # 對於每個用戶及其鄰居，從 history 中提取交易資訊\n",
    "    for user in users:\n",
    "        user_transactions = history[history['CUSTOMER_ID'] == user]\n",
    "\n",
    "        # 對於相同的 ORDER_NUMBER，將 MATERIAL_NUMBER 組合在一起\n",
    "        grouped_transactions = user_transactions.groupby('ORDER_NUMBER').agg({'MATERIAL_NUMBER': lambda x: tuple(x), 'TRANSACTION_DT': 'first'}).reset_index()\n",
    "\n",
    "        # 將每筆交易的資料以 [(BasketItems, Date)] 的格式添加到字典\n",
    "        transactions = [(row['MATERIAL_NUMBER'], row['TRANSACTION_DT']) for index, row in grouped_transactions.iterrows()]\n",
    "        result_data[user] = transactions"
   ]
  },
  {
   "cell_type": "code",
   "execution_count": 5,
   "metadata": {
    "colab": {
     "base_uri": "https://localhost:8080/"
    },
    "executionInfo": {
     "elapsed": 494,
     "status": "ok",
     "timestamp": 1703346454781,
     "user": {
      "displayName": "林莉庭",
      "userId": "13008527299128023605"
     },
     "user_tz": -480
    },
    "id": "q9DbG236VlDU",
    "outputId": "314bff8a-a07c-4cce-d66b-6ce71f749b6d"
   },
   "outputs": [
    {
     "name": "stderr",
     "output_type": "stream",
     "text": [
      "IOPub data rate exceeded.\n",
      "The Jupyter server will temporarily stop sending output\n",
      "to the client in order to avoid crashing it.\n",
      "To change this limit, set the config variable\n",
      "`--ServerApp.iopub_data_rate_limit`.\n",
      "\n",
      "Current values:\n",
      "ServerApp.iopub_data_rate_limit=1000000.0 (bytes/sec)\n",
      "ServerApp.rate_limit_window=3.0 (secs)\n",
      "\n"
     ]
    }
   ],
   "source": [
    "print(result_data)  # 印出前幾行以檢查\n",
    "print(len(result_data))"
   ]
  },
  {
   "cell_type": "code",
   "execution_count": 6,
   "metadata": {},
   "outputs": [
    {
     "name": "stdout",
     "output_type": "stream",
     "text": [
      "      UserID                                       Transactions\n",
      "0         31  [((0, 1, 2, 3, 4, 5, 6, 7, 8, 9, 10), 20060416...\n",
      "1     211052  [((1063,), 20060412), ((2718, 68), 20060414), ...\n",
      "2     428025  [((466, 608, 290, 257, 2634, 1127, 2303, 658, ...\n",
      "3     266989  [((36, 1430, 1685, 248, 1692), 20060410), ((56...\n",
      "4     293802  [((141, 1881, 62), 20060410), ((1463, 1463), 2...\n",
      "...      ...                                                ...\n",
      "9229  725702  [((2140, 885, 1207, 139, 2138), 20060411), ((8...\n",
      "9230  725978  [((596, 2344, 1955, 479, 432, 19), 20060420), ...\n",
      "9231  725996  [((1673,), 20060413), ((1070,), 20060414), ((3...\n",
      "9232  726073  [((553,), 20060417), ((799, 319, 1051, 1175, 1...\n",
      "9233  726134  [((64, 568, 181, 1591, 2014, 2022, 11, 2169, 1...\n",
      "\n",
      "[9234 rows x 2 columns]\n"
     ]
    }
   ],
   "source": [
    "# 將字典轉換為 DataFrame\n",
    "result_df = pd.DataFrame(list(result_data.items()), columns=['UserID', 'Transactions'])\n",
    "\n",
    "# 顯示 DataFrame\n",
    "print(result_df)"
   ]
  },
  {
   "cell_type": "code",
   "execution_count": 7,
   "metadata": {},
   "outputs": [
    {
     "name": "stdout",
     "output_type": "stream",
     "text": [
      "training_users_transactions.json.gz 文件已被成功創建並保存。\n"
     ]
    }
   ],
   "source": [
    "with gzip.open(f'data/{dataset}/{dataset}_training_users_transactions.json.gz', 'wt', encoding='UTF-8') as zipfile:\n",
    "    json.dump(result_data, zipfile)\n",
    "\n",
    "print(\"training_users_transactions.json.gz 文件已被成功創建並保存。\")"
   ]
  }
 ],
 "metadata": {
  "colab": {
   "authorship_tag": "ABX9TyOM9TUho8jQq00iAxRZaJXV",
   "provenance": []
  },
  "kernelspec": {
   "display_name": "pifta",
   "language": "python",
   "name": "pifta"
  },
  "language_info": {
   "codemirror_mode": {
    "name": "ipython",
    "version": 3
   },
   "file_extension": ".py",
   "mimetype": "text/x-python",
   "name": "python",
   "nbconvert_exporter": "python",
   "pygments_lexer": "ipython3",
   "version": "3.11.5"
  }
 },
 "nbformat": 4,
 "nbformat_minor": 4
}
